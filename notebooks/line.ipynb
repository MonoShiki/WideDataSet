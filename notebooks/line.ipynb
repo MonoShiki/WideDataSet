{
 "cells": [
  {
   "cell_type": "markdown",
   "id": "8b7bef09-9e86-4b19-bbb7-e0ccb7515328",
   "metadata": {
    "execution": {
     "iopub.execute_input": "2024-02-14T22:50:38.627643Z",
     "iopub.status.busy": "2024-02-14T22:50:38.627255Z",
     "iopub.status.idle": "2024-02-14T22:50:39.496067Z",
     "shell.execute_reply": "2024-02-14T22:50:39.495215Z",
     "shell.execute_reply.started": "2024-02-14T22:50:38.627616Z"
    },
    "tags": [],
    "id": "8b7bef09-9e86-4b19-bbb7-e0ccb7515328"
   },
   "source": [
    "# Baseline"
   ]
  },
  {
   "cell_type": "code",
   "execution_count": 39,
   "id": "e0ddb399-18f4-4051-86c0-39f1c623eef5",
   "metadata": {
    "execution": {
     "iopub.execute_input": "2024-02-15T11:34:39.109032Z",
     "iopub.status.busy": "2024-02-15T11:34:39.108624Z",
     "iopub.status.idle": "2024-02-15T11:34:39.955360Z",
     "shell.execute_reply": "2024-02-15T11:34:39.954584Z",
     "shell.execute_reply.started": "2024-02-15T11:34:39.109007Z"
    },
    "tags": [],
    "id": "e0ddb399-18f4-4051-86c0-39f1c623eef5",
    "ExecuteTime": {
     "end_time": "2024-03-13T09:12:05.792669200Z",
     "start_time": "2024-03-13T09:12:05.549559200Z"
    }
   },
   "outputs": [],
   "source": [
    "import numpy as np\n",
    "import pandas as pd\n",
    "from sklearn.metrics import roc_auc_score\n",
    "from sklearn.model_selection import train_test_split\n",
    "from catboost import CatBoost, CatBoostClassifier"
   ]
  },
  {
   "cell_type": "markdown",
   "id": "cbcf3aae-5417-42a3-9ed2-818b9aef0f2f",
   "metadata": {
    "id": "cbcf3aae-5417-42a3-9ed2-818b9aef0f2f"
   },
   "source": [
    "## Загрузка данных"
   ]
  },
  {
   "cell_type": "code",
   "execution_count": 40,
   "id": "32c8b1b0-f95e-4cb5-bbc1-c0edb76568c1",
   "metadata": {
    "execution": {
     "iopub.execute_input": "2024-02-15T11:34:44.750723Z",
     "iopub.status.busy": "2024-02-15T11:34:44.750145Z",
     "iopub.status.idle": "2024-02-15T11:34:46.098228Z",
     "shell.execute_reply": "2024-02-15T11:34:46.097494Z",
     "shell.execute_reply.started": "2024-02-15T11:34:44.750694Z"
    },
    "tags": [],
    "id": "32c8b1b0-f95e-4cb5-bbc1-c0edb76568c1",
    "ExecuteTime": {
     "end_time": "2024-03-13T09:12:07.356981400Z",
     "start_time": "2024-03-13T09:12:05.795668800Z"
    }
   },
   "outputs": [],
   "source": [
    "train_df = pd.read_parquet(\"../data/train_data.pqt\")\n",
    "test_df = pd.read_parquet(\"../datatest_data.pqt\")"
   ]
  },
  {
   "cell_type": "code",
   "outputs": [],
   "source": [
    "for col in train_df.columns:\n",
    "    if train_df[col].dtype in ['int64', 'float64']:\n",
    "        mean_val = train_df[col].mean()\n",
    "        train_df[col] = train_df[col].fillna(mean_val)\n",
    "    else:\n",
    "        mod_val = train_df[train_df[col].notna()][col].mode()\n",
    "        train_df[col] = train_df[col].fillna(mod_val[0])\n",
    "        train_df[col] = train_df[col].astype(\"category\")\n",
    "for col in test_df.columns:\n",
    "    if test_df[col].dtype in ['int64', 'float64']:\n",
    "        mean_val = test_df[col].mean()\n",
    "        test_df[col] = test_df[col].fillna(mean_val)\n",
    "    else:\n",
    "        if col != 'start_cluster':\n",
    "            mod_val = test_df[test_df[col].notna()][col].mode()\n",
    "            test_df[col] = test_df[col].fillna(mod_val[0])\n",
    "            test_df[col] = test_df[col].astype(\"category\")"
   ],
   "metadata": {
    "collapsed": false,
    "ExecuteTime": {
     "end_time": "2024-03-13T09:12:15.016686300Z",
     "start_time": "2024-03-13T09:12:07.383340100Z"
    }
   },
   "id": "3acea930ca2e4539",
   "execution_count": 43
  },
  {
   "cell_type": "code",
   "outputs": [],
   "source": [
    "m1_df = train_df[train_df['date'] == 'month_1']\n",
    "m2_df = train_df[train_df['date'] == 'month_2']\n",
    "m3_df = train_df[train_df['date'] == 'month_3']\n",
    "df = m3_df.merge(m2_df,on='id',how='left')\n",
    "df = df.merge(m1_df,on='id',how='left')\n",
    "train_df = df\n",
    "train_df = train_df.drop(['date','date_x','date_y'],axis=1)"
   ],
   "metadata": {
    "collapsed": false,
    "ExecuteTime": {
     "end_time": "2024-03-13T09:12:16.425894600Z",
     "start_time": "2024-03-13T09:12:15.045684900Z"
    }
   },
   "id": "33208723c5677366",
   "execution_count": 45
  },
  {
   "cell_type": "code",
   "outputs": [],
   "source": [
    "m3_df = pd.read_csv(\"test_6m.csv\")"
   ],
   "metadata": {
    "collapsed": false,
    "ExecuteTime": {
     "end_time": "2024-03-13T09:12:19.080763900Z",
     "start_time": "2024-03-13T09:12:16.374881500Z"
    }
   },
   "id": "81804a97d6b6ede1",
   "execution_count": 46
  },
  {
   "cell_type": "code",
   "outputs": [],
   "source": [
    "m1_df = test_df[test_df['date'] == 'month_4']\n",
    "m2_df = test_df[test_df['date'] == 'month_5']\n",
    "df = m3_df.merge(m2_df,on='id',how='left')\n",
    "df = df.merge(m1_df,on='id',how='left')\n",
    "test_df = df \n",
    "test_df = test_df.drop(['date','date_x','date_y'],axis=1)"
   ],
   "metadata": {
    "collapsed": false,
    "ExecuteTime": {
     "end_time": "2024-03-13T09:12:19.805528700Z",
     "start_time": "2024-03-13T09:12:19.082764500Z"
    }
   },
   "id": "c9ff45cf81d96c2e",
   "execution_count": 47
  },
  {
   "cell_type": "code",
   "outputs": [],
   "source": [
    "def weighted_roc_auc(y_true, y_pred, labels, weights_dict):\n",
    "    unnorm_weights = np.array([weights_dict[label] for label in labels])\n",
    "    weights = unnorm_weights / unnorm_weights.sum()\n",
    "    classes_roc_auc = roc_auc_score(y_true, y_pred, labels=labels,\n",
    "                                    multi_class=\"ovr\", average=None)\n",
    "    return sum(weights * classes_roc_auc)"
   ],
   "metadata": {
    "id": "WxsjOsocI0Kq",
    "ExecuteTime": {
     "end_time": "2024-03-13T09:12:19.842853200Z",
     "start_time": "2024-03-13T09:12:19.822908700Z"
    }
   },
   "id": "WxsjOsocI0Kq",
   "execution_count": 49
  },
  {
   "cell_type": "code",
   "outputs": [],
   "source": [
    "train_df['b_amt_avg_trend'] = train_df['balance_amt_day_avg_x'] - train_df[['balance_amt_day_avg','balance_amt_day_avg_y','balance_amt_day_avg_x']].mean(axis=1)\n",
    "\n",
    "train_df['b_amt_min_trend'] = train_df['balance_amt_min_x'] - train_df[['balance_amt_min_y','balance_amt_min','balance_amt_min_x']].mean(axis=1)\n",
    "\n",
    "train_df['mx_founder_trend'] = train_df['max_founderpres_x'] - train_df[['max_founderpres_x','max_founderpres','max_founderpres_y']].mean(axis=1)\n",
    "\n",
    "train_df['sm_cred_e_op_trend_3m'] = train_df['sum_cred_e_oper_3m_x'] - train_df[['sum_cred_e_oper_3m_y','sum_cred_e_oper_3m_x','sum_cred_e_oper_3m']].mean(axis=1)\n",
    "\n",
    "train_df['sm_deb_e_op_trend_1m'] = train_df['sum_deb_e_oper_1m_x'] - train_df[['sum_deb_e_oper_1m_y','sum_deb_e_oper_1m','sum_deb_e_oper_1m_x']].mean(axis=1)"
   ],
   "metadata": {
    "collapsed": false,
    "ExecuteTime": {
     "end_time": "2024-03-13T09:12:20.015422700Z",
     "start_time": "2024-03-13T09:12:19.831851300Z"
    }
   },
   "id": "f12b824c2956e2f1",
   "execution_count": 50
  },
  {
   "cell_type": "code",
   "outputs": [],
   "source": [
    "train_df['min_founderpres_trend_long'] =train_df['min_founderpres_x'] - train_df['min_founderpres_y']\n",
    "\n",
    "train_df['sum_deb_e_oper_3m_trend_long'] =train_df['sum_deb_e_oper_3m_x'] - train_df['sum_deb_e_oper_3m_y']\n",
    "\n",
    "train_df['sum_cred_e_oper_1m_trend_short'] = train_df['sum_cred_e_oper_1m_x'] - train_df['sum_cred_e_oper_1m_y']"
   ],
   "metadata": {
    "collapsed": false,
    "ExecuteTime": {
     "end_time": "2024-03-13T09:12:20.029424700Z",
     "start_time": "2024-03-13T09:12:19.982996100Z"
    }
   },
   "id": "289edeb24af0855e",
   "execution_count": 51
  },
  {
   "cell_type": "code",
   "outputs": [],
   "source": [
    "def calcEntropy(x):\n",
    "    #Function to calculate entropy\n",
    "    #-sum(p_i log_2(p_i)) where pi is each possible value in dataset \n",
    "\n",
    "    stat = pd.Series(x)\n",
    "    stat = stat.value_counts().reset_index()\n",
    "    stat = stat.assign(perc_cnt = stat['count']/ sum(stat['count']))\n",
    "\n",
    "    stat = stat.assign(entropy = -stat['perc_cnt'] * np.log2(stat['perc_cnt']))\n",
    "\n",
    "    stat['total_entropy'] =sum(stat['entropy'])\n",
    "    return sum(stat['entropy'])\n",
    "\n",
    "\n",
    "def calcIG(x, y):\n",
    "    #1.Calc original entropy\n",
    "    entropy_origin = calcEntropy(y)\n",
    "\n",
    "    #2. Calculate entropy after deviding features\n",
    "    x = pd.Series(x)\n",
    "    x_df = x.value_counts().reset_index()\n",
    "    x_df['percCount'] = x_df['count'] / sum(x_df['count'])\n",
    "\n",
    "    #2.1 Check is binarycolumn\n",
    "    if x_df.shape[0]<=2:\n",
    "        x_df['entropy'] = x.apply(lambda bin: calcEntropy(y[x[x==bin].index])[1])\n",
    "    else:\n",
    "\n",
    "        df_ =pd.DataFrame(data=np.array([x,y]).transpose(), columns=['x', 'y']).sort_values(by='x')\n",
    "        df_['moving_average'] = df_['x'].rolling(window=2).mean()\n",
    "        min_entropy, min_aver,min_left,min_right = 1000, 0, 0, 0\n",
    "        print(len(df_['moving_average'][1:].unique()))\n",
    "        aveg_move = df_['moving_average'][1:].unique()\n",
    "        if len(aveg_move) > 100:\n",
    "            _, aveg_move = pd.qcut(df_['moving_average'][1:].unique(), 15,retbins='bins')\n",
    "        for aver in aveg_move:\n",
    "            left_node = df_.query('x < @aver')['y']\n",
    "            right_node = df_.query('x > @aver')['y']\n",
    "            left_node_entropy = calcEntropy(left_node)\n",
    "            right_node_entropy = calcEntropy(right_node)\n",
    "\n",
    "            total_entropy = left_node_entropy * (left_node.shape[0] / df_.shape[0])  + right_node_entropy * (right_node.shape[0] / df_.shape[0])\n",
    "            if total_entropy < min_entropy:\n",
    "                min_entropy = total_entropy\n",
    "                min_left, min_right = left_node_entropy, right_node_entropy\n",
    "                min_aver = aver\n",
    "\n",
    "            #print(f\"С treshold {aver} total weighted entropy=  {total_entropy}\")\n",
    "        left_df = df_[df_['x'] < min_aver]\n",
    "        right_df =df_[df_['x'] >= min_aver]\n",
    "        return pd.DataFrame({\"diff\":[f\"<{min_aver}\", f\">={min_aver}\"],\n",
    "                            \"count\":[left_df.shape[0], right_df.shape[0]] ,\n",
    "                             \"percCount\":[left_df.shape[0] / df_.shape[0], right_df.shape[0]/ df_.shape[0]] ,\n",
    "                             \"entropy\":[min_left, min_right],\n",
    "                             \"weighted_entropy\":[min_left*(left_df.shape[0] / df_.shape[0]), min_right *( right_df.shape[0]/ df_.shape[0])],\n",
    "                            \"name\" : [x.name,x.name]\n",
    "                            \n",
    "                            }),entropy_origin - min_entropy,min_aver\n",
    "\n",
    "    # 3. Calculate weighted average\n",
    "    x_df['weighted_entropy'] = x_df['entropy'] * x_df['percCount']\n",
    "\n",
    "    #4. Calculate Information gain\n",
    "    x_df['IG'] = entropy_origin - sum(x_df['weighted_entropy'] / x_df.shape[0])\n",
    "\n",
    "    return x_df, x_df['IG'][0], 1"
   ],
   "metadata": {
    "collapsed": false,
    "ExecuteTime": {
     "end_time": "2024-03-13T09:12:20.039438200Z",
     "start_time": "2024-03-13T09:12:19.999966200Z"
    }
   },
   "id": "d71664fa0b3a9472",
   "execution_count": 52
  },
  {
   "cell_type": "code",
   "outputs": [
    {
     "name": "stdout",
     "output_type": "stream",
     "text": [
      "balance_amt_avg_x 166712\n",
      "balance_amt_max_x 155324\n",
      "balance_amt_min_x 121862\n",
      "balance_amt_day_avg_x 165846\n",
      "channel_code_x 85\n",
      "city_x 12829\n",
      "city_type_x 10909\n",
      "index_city_code_x 455\n",
      "ogrn_days_end_month_x 63\n",
      "ogrn_days_end_quarter_x 185\n",
      "ogrn_month_x 23\n",
      "ogrn_year_x 41\n",
      "ft_registration_date_x 9998\n",
      "max_founderpres_x 9497\n",
      "min_founderpres_x 9284\n",
      "ogrn_exist_months_x 475\n",
      "okved_x 173\n",
      "segment_x 7\n",
      "sum_of_paym_2m_x 118985\n",
      "sum_of_paym_6m_x 136719\n",
      "sum_of_paym_1y_x 147160\n",
      "sum_a_oper_1m_x 6095\n",
      "cnt_a_oper_1m_x 138\n",
      "sum_b_oper_1m_x 1619\n",
      "cnt_b_oper_1m_x 60\n",
      "sum_c_oper_1m_x 29450\n",
      "cnt_c_oper_1m_x 647\n",
      "sum_deb_d_oper_1m_x 33720\n",
      "cnt_deb_d_oper_1m_x 192\n",
      "sum_cred_d_oper_1m_x 7506\n",
      "cnt_cred_d_oper_1m_x 195\n",
      "sum_deb_e_oper_1m_x 121350\n",
      "cnt_deb_e_oper_1m_x 1640\n",
      "cnt_days_deb_e_oper_1m_x 65\n",
      "sum_cred_e_oper_1m_x 100953\n",
      "cnt_cred_e_oper_1m_x 1251\n",
      "cnt_days_cred_e_oper_1m_x 65\n",
      "sum_deb_f_oper_1m_x 48848\n",
      "cnt_deb_f_oper_1m_x 412\n",
      "cnt_days_deb_f_oper_1m_x 65\n",
      "sum_cred_f_oper_1m_x 4076\n",
      "cnt_cred_f_oper_1m_x 195\n",
      "cnt_days_cred_f_oper_1m_x 63\n",
      "sum_deb_g_oper_1m_x 58580\n",
      "cnt_deb_g_oper_1m_x 394\n",
      "cnt_days_deb_g_oper_1m_x 65\n",
      "sum_cred_g_oper_1m_x 20836\n",
      "cnt_cred_g_oper_1m_x 416\n",
      "cnt_days_cred_g_oper_1m_x 64\n",
      "sum_deb_h_oper_1m_x 67162\n",
      "cnt_deb_h_oper_1m_x 856\n",
      "cnt_days_deb_h_oper_1m_x 65\n",
      "sum_cred_h_oper_1m_x 56589\n",
      "cnt_cred_h_oper_1m_x 634\n",
      "cnt_days_cred_h_oper_1m_x 65\n",
      "sum_a_oper_3m_x 11347\n",
      "cnt_a_oper_3m_x 276\n",
      "sum_b_oper_3m_x 2625\n",
      "cnt_b_oper_3m_x 135\n",
      "sum_c_oper_3m_x 36984\n",
      "cnt_c_oper_3m_x 1340\n",
      "sum_deb_d_oper_3m_x 43060\n",
      "cnt_deb_d_oper_3m_x 376\n",
      "sum_cred_d_oper_3m_x 10421\n",
      "cnt_cred_d_oper_3m_x 367\n",
      "sum_deb_e_oper_3m_x 135767\n",
      "cnt_deb_e_oper_3m_x 3147\n",
      "cnt_days_deb_e_oper_3m_x 185\n",
      "sum_cred_e_oper_3m_x 119981\n",
      "cnt_cred_e_oper_3m_x 2220\n",
      "cnt_days_cred_e_oper_3m_x 185\n",
      "sum_deb_f_oper_3m_x 68054\n",
      "cnt_deb_f_oper_3m_x 793\n",
      "cnt_days_deb_f_oper_3m_x 180\n",
      "sum_cred_f_oper_3m_x 6421\n",
      "cnt_cred_f_oper_3m_x 311\n",
      "cnt_days_cred_f_oper_3m_x 140\n",
      "sum_deb_g_oper_3m_x 75812\n",
      "cnt_deb_g_oper_3m_x 816\n",
      "cnt_days_deb_g_oper_3m_x 173\n",
      "sum_cred_g_oper_3m_x 31291\n",
      "cnt_cred_g_oper_3m_x 764\n",
      "cnt_days_cred_g_oper_3m_x 159\n",
      "sum_deb_h_oper_3m_x 81241\n",
      "cnt_deb_h_oper_3m_x 1740\n",
      "cnt_days_deb_h_oper_3m_x 166\n",
      "sum_cred_h_oper_3m_x 76439\n",
      "cnt_cred_h_oper_3m_x 1248\n",
      "cnt_days_cred_h_oper_3m_x 179\n",
      "start_cluster_x 33\n",
      "balance_amt_avg_y 158833\n",
      "balance_amt_max_y 149236\n",
      "balance_amt_min_y 122357\n",
      "balance_amt_day_avg_y 158428\n",
      "channel_code_y 85\n",
      "city_y 12230\n",
      "city_type_y 10316\n",
      "index_city_code_y 454\n",
      "ogrn_days_end_month_y 63\n",
      "ogrn_days_end_quarter_y 185\n",
      "ogrn_month_y 23\n",
      "ogrn_year_y 41\n",
      "ft_registration_date_y 9947\n",
      "max_founderpres_y 9422\n",
      "min_founderpres_y 9204\n",
      "ogrn_exist_months_y 473\n",
      "okved_y 174\n",
      "segment_y 7\n",
      "sum_of_paym_2m_y 116846\n",
      "sum_of_paym_6m_y 130815\n",
      "sum_of_paym_1y_y 141126\n",
      "sum_a_oper_1m_y 5323\n",
      "cnt_a_oper_1m_y 125\n",
      "sum_b_oper_1m_y 1499\n",
      "cnt_b_oper_1m_y 50\n",
      "sum_c_oper_1m_y 27858\n",
      "cnt_c_oper_1m_y 616\n",
      "sum_deb_d_oper_1m_y 30214\n",
      "cnt_deb_d_oper_1m_y 170\n",
      "sum_cred_d_oper_1m_y 6800\n",
      "cnt_cred_d_oper_1m_y 172\n",
      "sum_deb_e_oper_1m_y 113343\n",
      "cnt_deb_e_oper_1m_y 1379\n",
      "cnt_days_deb_e_oper_1m_y 65\n",
      "sum_cred_e_oper_1m_y 93276\n",
      "cnt_cred_e_oper_1m_y 1071\n",
      "cnt_days_cred_e_oper_1m_y 65\n",
      "sum_deb_f_oper_1m_y 40656\n",
      "cnt_deb_f_oper_1m_y 342\n",
      "cnt_days_deb_f_oper_1m_y 65\n",
      "sum_cred_f_oper_1m_y 3346\n",
      "cnt_cred_f_oper_1m_y 168\n",
      "cnt_days_cred_f_oper_1m_y 51\n",
      "sum_deb_g_oper_1m_y 51623\n",
      "cnt_deb_g_oper_1m_y 343\n",
      "cnt_days_deb_g_oper_1m_y 62\n",
      "sum_cred_g_oper_1m_y 18315\n",
      "cnt_cred_g_oper_1m_y 343\n",
      "cnt_days_cred_g_oper_1m_y 58\n",
      "sum_deb_h_oper_1m_y 61136\n",
      "cnt_deb_h_oper_1m_y 702\n",
      "cnt_days_deb_h_oper_1m_y 56\n",
      "sum_cred_h_oper_1m_y 50400\n",
      "cnt_cred_h_oper_1m_y 544\n",
      "cnt_days_cred_h_oper_1m_y 61\n",
      "sum_a_oper_3m_y 11089\n",
      "cnt_a_oper_3m_y 271\n",
      "sum_b_oper_3m_y 2467\n",
      "cnt_b_oper_3m_y 135\n",
      "sum_c_oper_3m_y 35307\n",
      "cnt_c_oper_3m_y 1324\n",
      "sum_deb_d_oper_3m_y 42066\n",
      "cnt_deb_d_oper_3m_y 377\n",
      "sum_cred_d_oper_3m_y 10250\n",
      "cnt_cred_d_oper_3m_y 357\n",
      "sum_deb_e_oper_3m_y 129518\n",
      "cnt_deb_e_oper_3m_y 3115\n",
      "cnt_days_deb_e_oper_3m_y 185\n",
      "sum_cred_e_oper_3m_y 115294\n",
      "cnt_cred_e_oper_3m_y 2208\n",
      "cnt_days_cred_e_oper_3m_y 185\n",
      "sum_deb_f_oper_3m_y 65715\n",
      "cnt_deb_f_oper_3m_y 789\n",
      "cnt_days_deb_f_oper_3m_y 178\n",
      "sum_cred_f_oper_3m_y 6175\n",
      "cnt_cred_f_oper_3m_y 307\n",
      "cnt_days_cred_f_oper_3m_y 138\n",
      "sum_deb_g_oper_3m_y 73441\n",
      "cnt_deb_g_oper_3m_y 812\n",
      "cnt_days_deb_g_oper_3m_y 172\n",
      "sum_cred_g_oper_3m_y 30637\n",
      "cnt_cred_g_oper_3m_y 751\n",
      "cnt_days_cred_g_oper_3m_y 157\n",
      "sum_deb_h_oper_3m_y 78621\n",
      "cnt_deb_h_oper_3m_y 1733\n",
      "cnt_days_deb_h_oper_3m_y 169\n",
      "sum_cred_h_oper_3m_y 74087\n",
      "cnt_cred_h_oper_3m_y 1261\n",
      "cnt_days_cred_h_oper_3m_y 178\n",
      "start_cluster_y 33\n",
      "balance_amt_avg 154275\n",
      "balance_amt_max 145867\n",
      "balance_amt_min 117634\n",
      "balance_amt_day_avg 153924\n",
      "channel_code 85\n",
      "city 11746\n",
      "city_type 9842\n",
      "index_city_code 452\n",
      "ogrn_days_end_month 63\n",
      "ogrn_days_end_quarter 185\n",
      "ogrn_month 23\n",
      "ogrn_year 41\n",
      "ft_registration_date 9901\n",
      "max_founderpres 9354\n",
      "min_founderpres 9136\n",
      "ogrn_exist_months 472\n",
      "okved 173\n",
      "segment 7\n",
      "sum_of_paym_2m 114953\n",
      "sum_of_paym_6m 127717\n",
      "sum_of_paym_1y 137250\n",
      "sum_a_oper_1m 6430\n",
      "cnt_a_oper_1m 135\n",
      "sum_b_oper_1m 1652\n",
      "cnt_b_oper_1m 58\n",
      "sum_c_oper_1m 28319\n",
      "cnt_c_oper_1m 612\n",
      "sum_deb_d_oper_1m 33588\n",
      "cnt_deb_d_oper_1m 198\n",
      "sum_cred_d_oper_1m 7829\n",
      "cnt_cred_d_oper_1m 197\n",
      "sum_deb_e_oper_1m 115835\n",
      "cnt_deb_e_oper_1m 1653\n",
      "cnt_days_deb_e_oper_1m 65\n",
      "sum_cred_e_oper_1m 91268\n",
      "cnt_cred_e_oper_1m 1224\n",
      "cnt_days_cred_e_oper_1m 65\n",
      "sum_deb_f_oper_1m 49873\n",
      "cnt_deb_f_oper_1m 442\n",
      "cnt_days_deb_f_oper_1m 65\n",
      "sum_cred_f_oper_1m 3895\n",
      "cnt_cred_f_oper_1m 190\n",
      "cnt_days_cred_f_oper_1m 60\n",
      "sum_deb_g_oper_1m 58706\n",
      "cnt_deb_g_oper_1m 446\n",
      "cnt_days_deb_g_oper_1m 65\n",
      "sum_cred_g_oper_1m 21484\n",
      "cnt_cred_g_oper_1m 409\n",
      "cnt_days_cred_g_oper_1m 62\n",
      "sum_deb_h_oper_1m 65275\n",
      "cnt_deb_h_oper_1m 903\n",
      "cnt_days_deb_h_oper_1m 64\n",
      "sum_cred_h_oper_1m 58656\n",
      "cnt_cred_h_oper_1m 680\n",
      "cnt_days_cred_h_oper_1m 65\n",
      "sum_a_oper_3m 11418\n",
      "cnt_a_oper_3m 283\n",
      "sum_b_oper_3m 2332\n",
      "cnt_b_oper_3m 142\n",
      "sum_c_oper_3m 34509\n",
      "cnt_c_oper_3m 1332\n",
      "sum_deb_d_oper_3m 41777\n",
      "cnt_deb_d_oper_3m 388\n",
      "sum_cred_d_oper_3m 10332\n",
      "cnt_cred_d_oper_3m 376\n",
      "sum_deb_e_oper_3m 126809\n",
      "cnt_deb_e_oper_3m 3250\n",
      "cnt_days_deb_e_oper_3m 185\n",
      "sum_cred_e_oper_3m 113048\n",
      "cnt_cred_e_oper_3m 2260\n",
      "cnt_days_cred_e_oper_3m 185\n",
      "sum_deb_f_oper_3m 66123\n",
      "cnt_deb_f_oper_3m 828\n",
      "cnt_days_deb_f_oper_3m 185\n",
      "sum_cred_f_oper_3m 6284\n",
      "cnt_cred_f_oper_3m 316\n",
      "cnt_days_cred_f_oper_3m 147\n",
      "sum_deb_g_oper_3m 72485\n",
      "cnt_deb_g_oper_3m 831\n",
      "cnt_days_deb_g_oper_3m 169\n",
      "sum_cred_g_oper_3m 31119\n",
      "cnt_cred_g_oper_3m 802\n",
      "cnt_days_cred_g_oper_3m 162\n",
      "sum_deb_h_oper_3m 77896\n",
      "cnt_deb_h_oper_3m 1879\n",
      "cnt_days_deb_h_oper_3m 173\n",
      "sum_cred_h_oper_3m 73991\n",
      "cnt_cred_h_oper_3m 1343\n",
      "cnt_days_cred_h_oper_3m 181\n",
      "start_cluster 33\n",
      "b_amt_avg_trend 148969\n",
      "b_amt_min_trend 119280\n",
      "mx_founder_trend 3815\n",
      "sm_cred_e_op_trend_3m 129279\n",
      "sm_deb_e_op_trend_1m 136943\n",
      "min_founderpres_trend_long 2375\n",
      "sum_deb_e_oper_3m_trend_long 131417\n",
      "sum_cred_e_oper_1m_trend_short 111205\n"
     ]
    }
   ],
   "source": [
    "from sklearn.preprocessing import LabelEncoder\n",
    "label_encoder = LabelEncoder()\n",
    "y = label_encoder.fit_transform(train_df['end_cluster_x'])\n",
    "mypdf = pd.DataFrame()\n",
    "trend = []\n",
    "mina = []\n",
    "info = []\n",
    "for col in train_df.columns:\n",
    "    if col in ['id','date_x','date_y','date',\"end_cluster_x\",\"end_cluster_y\",\"end_cluster\"]:continue\n",
    "    x = train_df[col]\n",
    "    print(col,end=' ')\n",
    "    if x.dtype in ('category','object'):\n",
    "        x = label_encoder.fit_transform(x)\n",
    "    stat,trend_entr,min_aver = calcIG(x,y)\n",
    "    trend.append(trend_entr)\n",
    "    mina.append(min_aver)\n",
    "    mypdf = pd.concat([mypdf, stat])"
   ],
   "metadata": {
    "collapsed": false,
    "ExecuteTime": {
     "end_time": "2024-03-13T09:13:50.366935100Z",
     "start_time": "2024-03-13T09:12:20.007420200Z"
    }
   },
   "id": "c08177e8c2ecb816",
   "execution_count": 53
  },
  {
   "cell_type": "code",
   "outputs": [
    {
     "data": {
      "text/plain": "['balance_amt_avg_x',\n 'balance_amt_max_x',\n 'balance_amt_min_x',\n 'balance_amt_day_avg_x',\n 'channel_code_x',\n 'city_x',\n 'city_type_x',\n 'index_city_code_x',\n 'ogrn_days_end_month_x',\n 'ogrn_days_end_quarter_x',\n 'ogrn_month_x',\n 'ogrn_year_x',\n 'ft_registration_date_x',\n 'max_founderpres_x',\n 'min_founderpres_x',\n 'ogrn_exist_months_x',\n 'okved_x',\n 'segment_x',\n 'sum_of_paym_2m_x',\n 'sum_of_paym_6m_x',\n 'sum_of_paym_1y_x',\n 'sum_a_oper_1m_x',\n 'cnt_a_oper_1m_x',\n 'sum_b_oper_1m_x',\n 'cnt_b_oper_1m_x',\n 'sum_c_oper_1m_x',\n 'cnt_c_oper_1m_x',\n 'sum_deb_d_oper_1m_x',\n 'cnt_deb_d_oper_1m_x',\n 'sum_cred_d_oper_1m_x',\n 'cnt_cred_d_oper_1m_x',\n 'sum_deb_e_oper_1m_x',\n 'cnt_deb_e_oper_1m_x',\n 'cnt_days_deb_e_oper_1m_x',\n 'sum_cred_e_oper_1m_x',\n 'cnt_cred_e_oper_1m_x',\n 'cnt_days_cred_e_oper_1m_x',\n 'sum_deb_f_oper_1m_x',\n 'cnt_deb_f_oper_1m_x',\n 'cnt_days_deb_f_oper_1m_x',\n 'sum_cred_f_oper_1m_x',\n 'cnt_cred_f_oper_1m_x',\n 'cnt_days_cred_f_oper_1m_x',\n 'sum_deb_g_oper_1m_x',\n 'cnt_deb_g_oper_1m_x',\n 'cnt_days_deb_g_oper_1m_x',\n 'sum_cred_g_oper_1m_x',\n 'cnt_cred_g_oper_1m_x',\n 'cnt_days_cred_g_oper_1m_x',\n 'sum_deb_h_oper_1m_x',\n 'cnt_deb_h_oper_1m_x',\n 'cnt_days_deb_h_oper_1m_x',\n 'sum_cred_h_oper_1m_x',\n 'cnt_cred_h_oper_1m_x',\n 'cnt_days_cred_h_oper_1m_x',\n 'sum_a_oper_3m_x',\n 'cnt_a_oper_3m_x',\n 'sum_b_oper_3m_x',\n 'cnt_b_oper_3m_x',\n 'sum_c_oper_3m_x',\n 'cnt_c_oper_3m_x',\n 'sum_deb_d_oper_3m_x',\n 'cnt_deb_d_oper_3m_x',\n 'sum_cred_d_oper_3m_x',\n 'cnt_cred_d_oper_3m_x',\n 'sum_deb_e_oper_3m_x',\n 'cnt_deb_e_oper_3m_x',\n 'cnt_days_deb_e_oper_3m_x',\n 'sum_cred_e_oper_3m_x',\n 'cnt_cred_e_oper_3m_x',\n 'cnt_days_cred_e_oper_3m_x',\n 'sum_deb_f_oper_3m_x',\n 'cnt_deb_f_oper_3m_x',\n 'cnt_days_deb_f_oper_3m_x',\n 'sum_cred_f_oper_3m_x',\n 'cnt_cred_f_oper_3m_x',\n 'cnt_days_cred_f_oper_3m_x',\n 'sum_deb_g_oper_3m_x',\n 'cnt_deb_g_oper_3m_x',\n 'cnt_days_deb_g_oper_3m_x',\n 'sum_cred_g_oper_3m_x',\n 'cnt_cred_g_oper_3m_x',\n 'cnt_days_cred_g_oper_3m_x',\n 'sum_deb_h_oper_3m_x',\n 'cnt_deb_h_oper_3m_x',\n 'cnt_days_deb_h_oper_3m_x',\n 'sum_cred_h_oper_3m_x',\n 'cnt_cred_h_oper_3m_x',\n 'cnt_days_cred_h_oper_3m_x',\n 'start_cluster_x',\n 'balance_amt_avg_y',\n 'balance_amt_max_y',\n 'balance_amt_min_y',\n 'balance_amt_day_avg_y',\n 'channel_code_y',\n 'city_y',\n 'city_type_y',\n 'index_city_code_y',\n 'ogrn_days_end_month_y',\n 'ogrn_days_end_quarter_y',\n 'ogrn_month_y',\n 'ogrn_year_y',\n 'ft_registration_date_y',\n 'max_founderpres_y',\n 'min_founderpres_y',\n 'ogrn_exist_months_y',\n 'okved_y',\n 'segment_y',\n 'sum_of_paym_2m_y',\n 'sum_of_paym_6m_y',\n 'sum_of_paym_1y_y',\n 'sum_a_oper_1m_y',\n 'cnt_a_oper_1m_y',\n 'sum_b_oper_1m_y',\n 'cnt_b_oper_1m_y',\n 'sum_c_oper_1m_y',\n 'cnt_c_oper_1m_y',\n 'sum_deb_d_oper_1m_y',\n 'cnt_deb_d_oper_1m_y',\n 'sum_cred_d_oper_1m_y',\n 'cnt_cred_d_oper_1m_y',\n 'sum_deb_e_oper_1m_y',\n 'cnt_deb_e_oper_1m_y',\n 'cnt_days_deb_e_oper_1m_y',\n 'sum_cred_e_oper_1m_y',\n 'cnt_cred_e_oper_1m_y',\n 'cnt_days_cred_e_oper_1m_y',\n 'sum_deb_f_oper_1m_y',\n 'cnt_deb_f_oper_1m_y',\n 'cnt_days_deb_f_oper_1m_y',\n 'sum_cred_f_oper_1m_y',\n 'cnt_cred_f_oper_1m_y',\n 'cnt_days_cred_f_oper_1m_y',\n 'sum_deb_g_oper_1m_y',\n 'cnt_deb_g_oper_1m_y',\n 'cnt_days_deb_g_oper_1m_y',\n 'sum_cred_g_oper_1m_y',\n 'cnt_cred_g_oper_1m_y',\n 'cnt_days_cred_g_oper_1m_y',\n 'sum_deb_h_oper_1m_y',\n 'cnt_deb_h_oper_1m_y',\n 'cnt_days_deb_h_oper_1m_y',\n 'sum_cred_h_oper_1m_y',\n 'cnt_cred_h_oper_1m_y',\n 'cnt_days_cred_h_oper_1m_y',\n 'sum_a_oper_3m_y',\n 'cnt_a_oper_3m_y',\n 'sum_b_oper_3m_y',\n 'cnt_b_oper_3m_y',\n 'sum_c_oper_3m_y',\n 'cnt_c_oper_3m_y',\n 'sum_deb_d_oper_3m_y',\n 'cnt_deb_d_oper_3m_y',\n 'sum_cred_d_oper_3m_y',\n 'cnt_cred_d_oper_3m_y',\n 'sum_deb_e_oper_3m_y',\n 'cnt_deb_e_oper_3m_y',\n 'cnt_days_deb_e_oper_3m_y',\n 'sum_cred_e_oper_3m_y',\n 'cnt_cred_e_oper_3m_y',\n 'cnt_days_cred_e_oper_3m_y',\n 'sum_deb_f_oper_3m_y',\n 'cnt_deb_f_oper_3m_y',\n 'cnt_days_deb_f_oper_3m_y',\n 'sum_cred_f_oper_3m_y',\n 'cnt_cred_f_oper_3m_y',\n 'cnt_days_cred_f_oper_3m_y',\n 'sum_deb_g_oper_3m_y',\n 'cnt_deb_g_oper_3m_y',\n 'cnt_days_deb_g_oper_3m_y',\n 'sum_cred_g_oper_3m_y',\n 'cnt_cred_g_oper_3m_y',\n 'cnt_days_cred_g_oper_3m_y',\n 'sum_deb_h_oper_3m_y',\n 'cnt_deb_h_oper_3m_y',\n 'cnt_days_deb_h_oper_3m_y',\n 'sum_cred_h_oper_3m_y',\n 'cnt_cred_h_oper_3m_y',\n 'cnt_days_cred_h_oper_3m_y',\n 'start_cluster_y',\n 'balance_amt_avg',\n 'balance_amt_max',\n 'balance_amt_min',\n 'balance_amt_day_avg',\n 'channel_code',\n 'city',\n 'city_type',\n 'index_city_code',\n 'ogrn_days_end_month',\n 'ogrn_days_end_quarter',\n 'ogrn_month',\n 'ogrn_year',\n 'ft_registration_date',\n 'max_founderpres',\n 'min_founderpres',\n 'ogrn_exist_months',\n 'okved',\n 'segment',\n 'sum_of_paym_2m',\n 'sum_of_paym_6m',\n 'sum_of_paym_1y',\n 'sum_a_oper_1m',\n 'cnt_a_oper_1m',\n 'sum_b_oper_1m',\n 'cnt_b_oper_1m',\n 'sum_c_oper_1m',\n 'cnt_c_oper_1m',\n 'sum_deb_d_oper_1m',\n 'cnt_deb_d_oper_1m',\n 'sum_cred_d_oper_1m',\n 'cnt_cred_d_oper_1m',\n 'sum_deb_e_oper_1m',\n 'cnt_deb_e_oper_1m',\n 'cnt_days_deb_e_oper_1m',\n 'sum_cred_e_oper_1m',\n 'cnt_cred_e_oper_1m',\n 'cnt_days_cred_e_oper_1m',\n 'sum_deb_f_oper_1m',\n 'cnt_deb_f_oper_1m',\n 'cnt_days_deb_f_oper_1m',\n 'sum_cred_f_oper_1m',\n 'cnt_cred_f_oper_1m',\n 'cnt_days_cred_f_oper_1m',\n 'sum_deb_g_oper_1m',\n 'cnt_deb_g_oper_1m',\n 'cnt_days_deb_g_oper_1m',\n 'sum_cred_g_oper_1m',\n 'cnt_cred_g_oper_1m',\n 'cnt_days_cred_g_oper_1m',\n 'sum_deb_h_oper_1m',\n 'cnt_deb_h_oper_1m',\n 'cnt_days_deb_h_oper_1m',\n 'sum_cred_h_oper_1m',\n 'cnt_cred_h_oper_1m',\n 'cnt_days_cred_h_oper_1m',\n 'sum_a_oper_3m',\n 'cnt_a_oper_3m',\n 'sum_b_oper_3m',\n 'cnt_b_oper_3m',\n 'sum_c_oper_3m',\n 'cnt_c_oper_3m',\n 'sum_deb_d_oper_3m',\n 'cnt_deb_d_oper_3m',\n 'sum_cred_d_oper_3m',\n 'cnt_cred_d_oper_3m',\n 'sum_deb_e_oper_3m',\n 'cnt_deb_e_oper_3m',\n 'cnt_days_deb_e_oper_3m',\n 'sum_cred_e_oper_3m',\n 'cnt_cred_e_oper_3m',\n 'cnt_days_cred_e_oper_3m',\n 'sum_deb_f_oper_3m',\n 'cnt_deb_f_oper_3m',\n 'cnt_days_deb_f_oper_3m',\n 'sum_cred_f_oper_3m',\n 'cnt_cred_f_oper_3m',\n 'cnt_days_cred_f_oper_3m',\n 'sum_deb_g_oper_3m',\n 'cnt_deb_g_oper_3m',\n 'cnt_days_deb_g_oper_3m',\n 'sum_cred_g_oper_3m',\n 'cnt_cred_g_oper_3m',\n 'cnt_days_cred_g_oper_3m',\n 'sum_deb_h_oper_3m',\n 'cnt_deb_h_oper_3m',\n 'cnt_days_deb_h_oper_3m',\n 'sum_cred_h_oper_3m',\n 'cnt_cred_h_oper_3m',\n 'cnt_days_cred_h_oper_3m',\n 'start_cluster',\n 'b_amt_avg_trend',\n 'b_amt_min_trend',\n 'mx_founder_trend',\n 'sm_cred_e_op_trend_3m',\n 'sm_deb_e_op_trend_1m',\n 'min_founderpres_trend_long',\n 'sum_deb_e_oper_3m_trend_long',\n 'sum_cred_e_oper_1m_trend_short']"
     },
     "execution_count": 56,
     "metadata": {},
     "output_type": "execute_result"
    }
   ],
   "source": [
    "col_list = train_df.columns.tolist()\n",
    "for key in ['id',\"end_cluster_x\",\"end_cluster_y\",\"end_cluster\"]:\n",
    "    col_list.pop(col_list.index(key))\n",
    "col_list    "
   ],
   "metadata": {
    "collapsed": false,
    "ExecuteTime": {
     "end_time": "2024-03-13T09:14:22.964364800Z",
     "start_time": "2024-03-13T09:14:22.901843800Z"
    }
   },
   "id": "4d726be59026f6d2",
   "execution_count": 56
  },
  {
   "cell_type": "code",
   "outputs": [
    {
     "data": {
      "text/plain": "     entropy_change   min_aver                         feature\n0          0.096960  -0.152721               balance_amt_avg_x\n1          0.124642  -0.202255               balance_amt_max_x\n2          0.388460  -0.125995               balance_amt_min_x\n3          0.096390  -0.152208           balance_amt_day_avg_x\n4          0.435250  43.000000                  channel_code_x\n..              ...        ...                             ...\n273        0.073531   0.000054           sm_cred_e_op_trend_3m\n274        0.083247   0.000113            sm_deb_e_op_trend_1m\n275        0.001248  -0.987255      min_founderpres_trend_long\n276        0.092806   0.000057    sum_deb_e_oper_3m_trend_long\n277        0.122843   0.000940  sum_cred_e_oper_1m_trend_short\n\n[278 rows x 3 columns]",
      "text/html": "<div>\n<style scoped>\n    .dataframe tbody tr th:only-of-type {\n        vertical-align: middle;\n    }\n\n    .dataframe tbody tr th {\n        vertical-align: top;\n    }\n\n    .dataframe thead th {\n        text-align: right;\n    }\n</style>\n<table border=\"1\" class=\"dataframe\">\n  <thead>\n    <tr style=\"text-align: right;\">\n      <th></th>\n      <th>entropy_change</th>\n      <th>min_aver</th>\n      <th>feature</th>\n    </tr>\n  </thead>\n  <tbody>\n    <tr>\n      <th>0</th>\n      <td>0.096960</td>\n      <td>-0.152721</td>\n      <td>balance_amt_avg_x</td>\n    </tr>\n    <tr>\n      <th>1</th>\n      <td>0.124642</td>\n      <td>-0.202255</td>\n      <td>balance_amt_max_x</td>\n    </tr>\n    <tr>\n      <th>2</th>\n      <td>0.388460</td>\n      <td>-0.125995</td>\n      <td>balance_amt_min_x</td>\n    </tr>\n    <tr>\n      <th>3</th>\n      <td>0.096390</td>\n      <td>-0.152208</td>\n      <td>balance_amt_day_avg_x</td>\n    </tr>\n    <tr>\n      <th>4</th>\n      <td>0.435250</td>\n      <td>43.000000</td>\n      <td>channel_code_x</td>\n    </tr>\n    <tr>\n      <th>...</th>\n      <td>...</td>\n      <td>...</td>\n      <td>...</td>\n    </tr>\n    <tr>\n      <th>273</th>\n      <td>0.073531</td>\n      <td>0.000054</td>\n      <td>sm_cred_e_op_trend_3m</td>\n    </tr>\n    <tr>\n      <th>274</th>\n      <td>0.083247</td>\n      <td>0.000113</td>\n      <td>sm_deb_e_op_trend_1m</td>\n    </tr>\n    <tr>\n      <th>275</th>\n      <td>0.001248</td>\n      <td>-0.987255</td>\n      <td>min_founderpres_trend_long</td>\n    </tr>\n    <tr>\n      <th>276</th>\n      <td>0.092806</td>\n      <td>0.000057</td>\n      <td>sum_deb_e_oper_3m_trend_long</td>\n    </tr>\n    <tr>\n      <th>277</th>\n      <td>0.122843</td>\n      <td>0.000940</td>\n      <td>sum_cred_e_oper_1m_trend_short</td>\n    </tr>\n  </tbody>\n</table>\n<p>278 rows × 3 columns</p>\n</div>"
     },
     "execution_count": 57,
     "metadata": {},
     "output_type": "execute_result"
    }
   ],
   "source": [
    "entropy_df = pd.DataFrame(columns = ['entropy_change','min_aver','feature'])\n",
    "entropy_df['entropy_change'] = trend\n",
    "entropy_df['min_aver'] = mina \n",
    "entropy_df['feature'] = col_list\n",
    "entropy_df"
   ],
   "metadata": {
    "collapsed": false,
    "ExecuteTime": {
     "end_time": "2024-03-13T09:14:24.451330300Z",
     "start_time": "2024-03-13T09:14:24.442673100Z"
    }
   },
   "id": "294db165ef2135a8",
   "execution_count": 57
  },
  {
   "cell_type": "code",
   "outputs": [
    {
     "data": {
      "text/plain": "                         diff     count  percCount   entropy  \\\n0       <-0.15272112436026009   87212.0   0.436060  1.752514   \n1      >=-0.15272112436026009  112788.0   0.563940  2.319149   \n2       <-0.20225474053088924   72436.0   0.362180  1.612460   \n3      >=-0.20225474053088924  127564.0   0.637820  2.289643   \n4        <-0.1259950191492185       0.0   0.000000  0.000000   \n..                        ...       ...        ...       ...   \n524     >=-0.9872548992821699  197507.0   0.987535  2.171167   \n525   <5.6632264807271376e-05  128303.0   0.641515  1.977609   \n526  >=5.6632264807271376e-05   71697.0   0.358485  2.252679   \n527    <0.0009396285107861022  127072.0   0.635360  1.906735   \n528   >=0.0009396285107861022   72928.0   0.364640  2.289153   \n\n     weighted_entropy  entropy_change  min_aver  \\\n0            0.764201        0.096960 -0.152721   \n1            1.307861        0.096960 -0.152721   \n2            0.584001        0.124642 -0.202255   \n3            1.460380        0.124642 -0.202255   \n4            0.000000        0.388460 -0.125995   \n..                ...             ...       ...   \n524          2.144103        0.001248 -0.987255   \n525          1.268666        0.092806  0.000057   \n526          0.807552        0.092806  0.000057   \n527          1.211463        0.122843  0.000940   \n528          0.834717        0.122843  0.000940   \n\n                            feature  \n0                 balance_amt_avg_x  \n1                 balance_amt_avg_x  \n2                 balance_amt_max_x  \n3                 balance_amt_max_x  \n4                 balance_amt_min_x  \n..                              ...  \n524      min_founderpres_trend_long  \n525    sum_deb_e_oper_3m_trend_long  \n526    sum_deb_e_oper_3m_trend_long  \n527  sum_cred_e_oper_1m_trend_short  \n528  sum_cred_e_oper_1m_trend_short  \n\n[529 rows x 8 columns]",
      "text/html": "<div>\n<style scoped>\n    .dataframe tbody tr th:only-of-type {\n        vertical-align: middle;\n    }\n\n    .dataframe tbody tr th {\n        vertical-align: top;\n    }\n\n    .dataframe thead th {\n        text-align: right;\n    }\n</style>\n<table border=\"1\" class=\"dataframe\">\n  <thead>\n    <tr style=\"text-align: right;\">\n      <th></th>\n      <th>diff</th>\n      <th>count</th>\n      <th>percCount</th>\n      <th>entropy</th>\n      <th>weighted_entropy</th>\n      <th>entropy_change</th>\n      <th>min_aver</th>\n      <th>feature</th>\n    </tr>\n  </thead>\n  <tbody>\n    <tr>\n      <th>0</th>\n      <td>&lt;-0.15272112436026009</td>\n      <td>87212.0</td>\n      <td>0.436060</td>\n      <td>1.752514</td>\n      <td>0.764201</td>\n      <td>0.096960</td>\n      <td>-0.152721</td>\n      <td>balance_amt_avg_x</td>\n    </tr>\n    <tr>\n      <th>1</th>\n      <td>&gt;=-0.15272112436026009</td>\n      <td>112788.0</td>\n      <td>0.563940</td>\n      <td>2.319149</td>\n      <td>1.307861</td>\n      <td>0.096960</td>\n      <td>-0.152721</td>\n      <td>balance_amt_avg_x</td>\n    </tr>\n    <tr>\n      <th>2</th>\n      <td>&lt;-0.20225474053088924</td>\n      <td>72436.0</td>\n      <td>0.362180</td>\n      <td>1.612460</td>\n      <td>0.584001</td>\n      <td>0.124642</td>\n      <td>-0.202255</td>\n      <td>balance_amt_max_x</td>\n    </tr>\n    <tr>\n      <th>3</th>\n      <td>&gt;=-0.20225474053088924</td>\n      <td>127564.0</td>\n      <td>0.637820</td>\n      <td>2.289643</td>\n      <td>1.460380</td>\n      <td>0.124642</td>\n      <td>-0.202255</td>\n      <td>balance_amt_max_x</td>\n    </tr>\n    <tr>\n      <th>4</th>\n      <td>&lt;-0.1259950191492185</td>\n      <td>0.0</td>\n      <td>0.000000</td>\n      <td>0.000000</td>\n      <td>0.000000</td>\n      <td>0.388460</td>\n      <td>-0.125995</td>\n      <td>balance_amt_min_x</td>\n    </tr>\n    <tr>\n      <th>...</th>\n      <td>...</td>\n      <td>...</td>\n      <td>...</td>\n      <td>...</td>\n      <td>...</td>\n      <td>...</td>\n      <td>...</td>\n      <td>...</td>\n    </tr>\n    <tr>\n      <th>524</th>\n      <td>&gt;=-0.9872548992821699</td>\n      <td>197507.0</td>\n      <td>0.987535</td>\n      <td>2.171167</td>\n      <td>2.144103</td>\n      <td>0.001248</td>\n      <td>-0.987255</td>\n      <td>min_founderpres_trend_long</td>\n    </tr>\n    <tr>\n      <th>525</th>\n      <td>&lt;5.6632264807271376e-05</td>\n      <td>128303.0</td>\n      <td>0.641515</td>\n      <td>1.977609</td>\n      <td>1.268666</td>\n      <td>0.092806</td>\n      <td>0.000057</td>\n      <td>sum_deb_e_oper_3m_trend_long</td>\n    </tr>\n    <tr>\n      <th>526</th>\n      <td>&gt;=5.6632264807271376e-05</td>\n      <td>71697.0</td>\n      <td>0.358485</td>\n      <td>2.252679</td>\n      <td>0.807552</td>\n      <td>0.092806</td>\n      <td>0.000057</td>\n      <td>sum_deb_e_oper_3m_trend_long</td>\n    </tr>\n    <tr>\n      <th>527</th>\n      <td>&lt;0.0009396285107861022</td>\n      <td>127072.0</td>\n      <td>0.635360</td>\n      <td>1.906735</td>\n      <td>1.211463</td>\n      <td>0.122843</td>\n      <td>0.000940</td>\n      <td>sum_cred_e_oper_1m_trend_short</td>\n    </tr>\n    <tr>\n      <th>528</th>\n      <td>&gt;=0.0009396285107861022</td>\n      <td>72928.0</td>\n      <td>0.364640</td>\n      <td>2.289153</td>\n      <td>0.834717</td>\n      <td>0.122843</td>\n      <td>0.000940</td>\n      <td>sum_cred_e_oper_1m_trend_short</td>\n    </tr>\n  </tbody>\n</table>\n<p>529 rows × 8 columns</p>\n</div>"
     },
     "execution_count": 58,
     "metadata": {},
     "output_type": "execute_result"
    }
   ],
   "source": [
    "features_df = mypdf.merge(entropy_df,left_on='name',right_on='feature',how='right').drop(['name'],axis=1)\n",
    "features_df"
   ],
   "metadata": {
    "collapsed": false,
    "ExecuteTime": {
     "end_time": "2024-03-13T09:14:30.488085800Z",
     "start_time": "2024-03-13T09:14:30.452515900Z"
    }
   },
   "id": "2233ffc75ffa5655",
   "execution_count": 58
  },
  {
   "cell_type": "code",
   "outputs": [
    {
     "data": {
      "text/plain": "['city_type',\n 'city_type_y',\n 'city_type_x',\n 'cnt_b_oper_3m_x',\n 'cnt_b_oper_1m_x',\n 'cnt_days_cred_f_oper_3m_x',\n 'cnt_cred_f_oper_3m_x',\n 'cnt_days_cred_f_oper_1m_x',\n 'cnt_cred_f_oper_1m_x',\n 'cnt_cred_d_oper_3m_x',\n 'cnt_b_oper_3m_y',\n 'cnt_cred_d_oper_1m_x',\n 'cnt_b_oper_1m_y',\n 'cnt_cred_f_oper_3m_y',\n 'cnt_days_cred_f_oper_3m_y',\n 'cnt_b_oper_3m',\n 'cnt_days_cred_f_oper_1m_y',\n 'cnt_cred_f_oper_1m_y',\n 'cnt_cred_d_oper_3m_y',\n 'cnt_cred_d_oper_1m_y',\n 'cnt_b_oper_1m',\n 'cnt_days_cred_f_oper_3m',\n 'cnt_cred_f_oper_3m',\n 'cnt_days_cred_f_oper_1m',\n 'cnt_cred_f_oper_1m',\n 'cnt_a_oper_1m_x',\n 'cnt_cred_d_oper_3m',\n 'cnt_a_oper_3m_x',\n 'cnt_cred_d_oper_1m',\n 'cnt_a_oper_1m_y',\n 'cnt_a_oper_3m_y',\n 'cnt_a_oper_3m',\n 'cnt_a_oper_1m',\n 'segment',\n 'cnt_c_oper_1m_x',\n 'cnt_c_oper_3m_x',\n 'cnt_cred_g_oper_1m_x',\n 'cnt_days_cred_g_oper_1m_x',\n 'segment_y',\n 'segment_x',\n 'cnt_cred_g_oper_1m_y',\n 'cnt_days_cred_g_oper_1m_y',\n 'cnt_c_oper_1m_y',\n 'cnt_c_oper_3m_y',\n 'start_cluster_x',\n 'cnt_cred_g_oper_3m_x',\n 'cnt_days_cred_g_oper_3m_x',\n 'cnt_c_oper_3m',\n 'cnt_c_oper_1m',\n 'start_cluster_y',\n 'cnt_cred_g_oper_1m',\n 'cnt_days_cred_g_oper_1m',\n 'cnt_days_cred_g_oper_3m_y',\n 'cnt_cred_g_oper_3m_y',\n 'start_cluster',\n 'cnt_cred_g_oper_3m',\n 'cnt_days_cred_g_oper_3m',\n 'cnt_deb_d_oper_1m_x',\n 'cnt_deb_d_oper_3m_x',\n 'cnt_deb_d_oper_1m_y',\n 'cnt_deb_d_oper_3m_y',\n 'cnt_deb_d_oper_1m',\n 'cnt_deb_d_oper_3m',\n 'cnt_days_cred_e_oper_1m',\n 'cnt_days_deb_h_oper_1m',\n 'cnt_days_deb_e_oper_1m',\n 'cnt_days_cred_e_oper_1m_y',\n 'cnt_days_deb_g_oper_1m',\n 'cnt_days_cred_h_oper_1m',\n 'cnt_days_deb_e_oper_1m_y',\n 'cnt_days_deb_h_oper_1m_y',\n 'cnt_deb_f_oper_1m_y',\n 'cnt_days_deb_f_oper_1m_y',\n 'cnt_deb_f_oper_1m_x',\n 'cnt_days_deb_f_oper_1m_x',\n 'cnt_days_deb_f_oper_1m',\n 'cnt_days_deb_g_oper_1m_y',\n 'cnt_days_cred_h_oper_1m_y',\n 'cnt_days_cred_e_oper_1m_x',\n 'cnt_days_cred_h_oper_1m_x',\n 'cnt_cred_h_oper_1m_x',\n 'cnt_cred_h_oper_1m_y',\n 'cnt_days_deb_f_oper_3m_x',\n 'cnt_deb_f_oper_3m_x',\n 'cnt_days_deb_e_oper_1m_x',\n 'cnt_days_deb_h_oper_1m_x',\n 'cnt_days_deb_g_oper_1m_x',\n 'cnt_deb_g_oper_1m_y',\n 'cnt_deb_g_oper_1m_x',\n 'cnt_days_deb_f_oper_3m_y']"
     },
     "execution_count": 109,
     "metadata": {},
     "output_type": "execute_result"
    }
   ],
   "source": [
    "cols_features = entropy_df.sort_values(by='entropy_change', ascending=False).iloc[:90]['feature'].tolist()\n",
    "cols_features"
   ],
   "metadata": {
    "collapsed": false,
    "ExecuteTime": {
     "end_time": "2024-03-13T10:30:27.172210100Z",
     "start_time": "2024-03-13T10:30:27.151886400Z"
    }
   },
   "id": "29c7204c2ceb89c2",
   "execution_count": 109
  },
  {
   "cell_type": "code",
   "outputs": [
    {
     "data": {
      "text/plain": "Empty DataFrame\nColumns: [entropy_change, min_aver, feature]\nIndex: []",
      "text/html": "<div>\n<style scoped>\n    .dataframe tbody tr th:only-of-type {\n        vertical-align: middle;\n    }\n\n    .dataframe tbody tr th {\n        vertical-align: top;\n    }\n\n    .dataframe thead th {\n        text-align: right;\n    }\n</style>\n<table border=\"1\" class=\"dataframe\">\n  <thead>\n    <tr style=\"text-align: right;\">\n      <th></th>\n      <th>entropy_change</th>\n      <th>min_aver</th>\n      <th>feature</th>\n    </tr>\n  </thead>\n  <tbody>\n  </tbody>\n</table>\n</div>"
     },
     "execution_count": 110,
     "metadata": {},
     "output_type": "execute_result"
    }
   ],
   "source": [
    "entropy_df[entropy_df['feature'] == 'end_cluster_x']"
   ],
   "metadata": {
    "collapsed": false,
    "ExecuteTime": {
     "end_time": "2024-03-13T10:30:27.625785500Z",
     "start_time": "2024-03-13T10:30:27.616265700Z"
    }
   },
   "id": "5077215373aa111d",
   "execution_count": 110
  },
  {
   "cell_type": "code",
   "outputs": [],
   "source": [
    "X = train_df[cols_features]\n",
    "y = train_df[\"end_cluster_x\"]\n",
    "cat_cols = X.select_dtypes(exclude=['number']).columns.to_list()\n",
    "cat_f = [X.columns.get_loc(column_name) for column_name in cat_cols if column_name in X.columns.tolist()]\n",
    "x_train, x_val, y_train, y_val = train_test_split(X, y,\n",
    "                                                  test_size=0.2,\n",
    "                                                  random_state=42)\n"
   ],
   "metadata": {
    "collapsed": false,
    "ExecuteTime": {
     "end_time": "2024-03-13T10:30:28.276496800Z",
     "start_time": "2024-03-13T10:30:28.119824700Z"
    }
   },
   "id": "1d611d405d97f8f",
   "execution_count": 111
  },
  {
   "cell_type": "markdown",
   "source": [],
   "metadata": {
    "collapsed": false
   },
   "id": "3b0cc97cb1abea38"
  },
  {
   "cell_type": "code",
   "outputs": [
    {
     "data": {
      "text/plain": "MetricVisualizer(layout=Layout(align_self='stretch', height='500px'))",
      "application/vnd.jupyter.widget-view+json": {
       "version_major": 2,
       "version_minor": 0,
       "model_id": "8a1ce68da4ef46478b934e0e5b2b493a"
      }
     },
     "metadata": {},
     "output_type": "display_data"
    },
    {
     "name": "stdout",
     "output_type": "stream",
     "text": [
      "0:\tlearn: 1.5028023\ttest: 1.3846421\tbest: 1.3846421 (0)\ttotal: 11.4s\tremaining: 18m 44s\n",
      "25:\tlearn: 0.8837031\ttest: 0.7927182\tbest: 0.7927182 (25)\ttotal: 3m 5s\tremaining: 8m 47s\n",
      "50:\tlearn: 0.8625452\ttest: 0.7833818\tbest: 0.7833818 (50)\ttotal: 5m 57s\tremaining: 5m 43s\n",
      "75:\tlearn: 0.8453891\ttest: 0.7793663\tbest: 0.7793663 (75)\ttotal: 8m 49s\tremaining: 2m 47s\n",
      "99:\tlearn: 0.8333151\ttest: 0.7778664\tbest: 0.7778664 (99)\ttotal: 11m 45s\tremaining: 0us\n",
      "\n",
      "bestTest = 0.7778663699\n",
      "bestIteration = 99\n"
     ]
    },
    {
     "data": {
      "text/plain": "<catboost.core.CatBoostClassifier at 0x2173ec5deb0>"
     },
     "execution_count": 113,
     "metadata": {},
     "output_type": "execute_result"
    }
   ],
   "source": [
    "GIGA_model  = CatBoostClassifier(random_state= 42,\n",
    "                                 cat_features = cat_f,\n",
    "                                 thread_count=8,\n",
    "                                 iterations=100, \n",
    "                                 learning_rate=0.2,\n",
    "                                 max_depth=8,\n",
    "                                 custom_metric=['AUC:hints=skip_train~false'])\n",
    "GIGA_model.fit(x_train,y_train, \n",
    "              eval_set=(x_val, y_val),\n",
    "              plot=True,\n",
    "              verbose=25\n",
    "              )"
   ],
   "metadata": {
    "collapsed": false,
    "ExecuteTime": {
     "end_time": "2024-03-13T10:42:48.163532800Z",
     "start_time": "2024-03-13T10:31:02.163805900Z"
    }
   },
   "id": "85ff55990c47a963",
   "execution_count": 113
  },
  {
   "cell_type": "code",
   "outputs": [
    {
     "data": {
      "text/plain": "                   Feature Id  Importances\n0             start_cluster_x    21.415879\n1             cnt_b_oper_1m_x    13.048624\n2               start_cluster     7.729423\n3             start_cluster_y     7.665197\n4                   segment_x     4.154427\n..                        ...          ...\n75              cnt_c_oper_1m     0.080428\n76              cnt_b_oper_3m     0.072559\n77  cnt_days_cred_g_oper_3m_x     0.050731\n78            cnt_b_oper_3m_x     0.027969\n79         cnt_cred_g_oper_1m     0.017525\n\n[80 rows x 2 columns]",
      "text/html": "<div>\n<style scoped>\n    .dataframe tbody tr th:only-of-type {\n        vertical-align: middle;\n    }\n\n    .dataframe tbody tr th {\n        vertical-align: top;\n    }\n\n    .dataframe thead th {\n        text-align: right;\n    }\n</style>\n<table border=\"1\" class=\"dataframe\">\n  <thead>\n    <tr style=\"text-align: right;\">\n      <th></th>\n      <th>Feature Id</th>\n      <th>Importances</th>\n    </tr>\n  </thead>\n  <tbody>\n    <tr>\n      <th>0</th>\n      <td>start_cluster_x</td>\n      <td>21.415879</td>\n    </tr>\n    <tr>\n      <th>1</th>\n      <td>cnt_b_oper_1m_x</td>\n      <td>13.048624</td>\n    </tr>\n    <tr>\n      <th>2</th>\n      <td>start_cluster</td>\n      <td>7.729423</td>\n    </tr>\n    <tr>\n      <th>3</th>\n      <td>start_cluster_y</td>\n      <td>7.665197</td>\n    </tr>\n    <tr>\n      <th>4</th>\n      <td>segment_x</td>\n      <td>4.154427</td>\n    </tr>\n    <tr>\n      <th>...</th>\n      <td>...</td>\n      <td>...</td>\n    </tr>\n    <tr>\n      <th>75</th>\n      <td>cnt_c_oper_1m</td>\n      <td>0.080428</td>\n    </tr>\n    <tr>\n      <th>76</th>\n      <td>cnt_b_oper_3m</td>\n      <td>0.072559</td>\n    </tr>\n    <tr>\n      <th>77</th>\n      <td>cnt_days_cred_g_oper_3m_x</td>\n      <td>0.050731</td>\n    </tr>\n    <tr>\n      <th>78</th>\n      <td>cnt_b_oper_3m_x</td>\n      <td>0.027969</td>\n    </tr>\n    <tr>\n      <th>79</th>\n      <td>cnt_cred_g_oper_1m</td>\n      <td>0.017525</td>\n    </tr>\n  </tbody>\n</table>\n<p>80 rows × 2 columns</p>\n</div>"
     },
     "execution_count": 130,
     "metadata": {},
     "output_type": "execute_result"
    }
   ],
   "source": [
    "feat = GIGA_model.get_feature_importance(prettified=True)\n",
    "feat = feat.iloc[:80,:]\n",
    "feat"
   ],
   "metadata": {
    "collapsed": false,
    "ExecuteTime": {
     "end_time": "2024-03-13T10:43:23.992742300Z",
     "start_time": "2024-03-13T10:43:23.945953600Z"
    }
   },
   "id": "9fab67bbb68d5f18",
   "execution_count": 130
  },
  {
   "cell_type": "code",
   "outputs": [],
   "source": [
    "feat.to_csv('../data/feat_l.csv',index=False)"
   ],
   "metadata": {
    "collapsed": false,
    "ExecuteTime": {
     "end_time": "2024-03-13T10:43:23.996741100Z",
     "start_time": "2024-03-13T10:43:23.968660400Z"
    }
   },
   "id": "2c4f2a28fdfd8f36",
   "execution_count": 131
  }
 ],
 "metadata": {
  "kernelspec": {
   "display_name": "python3",
   "language": "python",
   "name": "python3"
  },
  "language_info": {
   "codemirror_mode": {
    "name": "ipython",
    "version": 3
   },
   "file_extension": ".py",
   "mimetype": "text/x-python",
   "name": "python",
   "nbconvert_exporter": "python",
   "pygments_lexer": "ipython3",
   "version": "3.7.12"
  },
  "colab": {
   "provenance": []
  }
 },
 "nbformat": 4,
 "nbformat_minor": 5
}
