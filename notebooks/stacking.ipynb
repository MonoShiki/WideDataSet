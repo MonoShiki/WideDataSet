{
 "cells": [
  {
   "cell_type": "code",
   "execution_count": 66,
   "id": "initial_id",
   "metadata": {
    "collapsed": true,
    "ExecuteTime": {
     "end_time": "2024-03-13T19:42:30.631121200Z",
     "start_time": "2024-03-13T19:42:30.581592400Z"
    }
   },
   "outputs": [],
   "source": [
    "import numpy as np\n",
    "import pandas as pd\n",
    "from sklearn.metrics import roc_auc_score\n",
    "from sklearn.model_selection import train_test_split\n",
    "from catboost import CatBoost, CatBoostClassifier"
   ]
  },
  {
   "cell_type": "code",
   "outputs": [
    {
     "data": {
      "text/plain": "   id     date  balance_amt_avg  balance_amt_max  balance_amt_min  \\\n0   0  month_1         0.744845         0.705492         1.287207   \n1   0  month_2         1.049605         0.831916         2.458609   \n2   0  month_3         0.692653         0.740253         0.430042   \n\n   balance_amt_day_avg    channel_code     city    city_type  \\\n0             0.748101  channel_code_5  city_23  city_type_0   \n1             1.053805  channel_code_5  city_23  city_type_0   \n2             0.695747  channel_code_5  city_23  city_type_0   \n\n      index_city_code  ...  cnt_cred_g_oper_3m  cnt_days_cred_g_oper_3m  \\\n0  index_city_code_39  ...            0.951166                 0.568681   \n1  index_city_code_39  ...            0.948812                 0.499716   \n2  index_city_code_39  ...            0.946458                 0.442244   \n\n  sum_deb_h_oper_3m cnt_deb_h_oper_3m  cnt_days_deb_h_oper_3m  \\\n0          0.897565          0.553624                0.774354   \n1          0.785029          0.551904                0.696576   \n2          0.877050          0.551044                0.663243   \n\n   sum_cred_h_oper_3m  cnt_cred_h_oper_3m  cnt_days_cred_h_oper_3m  \\\n0            0.936506            0.295984                 0.967947   \n1            0.990157            0.298873                 0.945969   \n2            0.810065            0.294829                 0.956958   \n\n  start_cluster end_cluster  \n0        {α, γ}     {other}  \n1        {α, γ}     {other}  \n2        {α, γ}     {other}  \n\n[3 rows x 93 columns]",
      "text/html": "<div>\n<style scoped>\n    .dataframe tbody tr th:only-of-type {\n        vertical-align: middle;\n    }\n\n    .dataframe tbody tr th {\n        vertical-align: top;\n    }\n\n    .dataframe thead th {\n        text-align: right;\n    }\n</style>\n<table border=\"1\" class=\"dataframe\">\n  <thead>\n    <tr style=\"text-align: right;\">\n      <th></th>\n      <th>id</th>\n      <th>date</th>\n      <th>balance_amt_avg</th>\n      <th>balance_amt_max</th>\n      <th>balance_amt_min</th>\n      <th>balance_amt_day_avg</th>\n      <th>channel_code</th>\n      <th>city</th>\n      <th>city_type</th>\n      <th>index_city_code</th>\n      <th>...</th>\n      <th>cnt_cred_g_oper_3m</th>\n      <th>cnt_days_cred_g_oper_3m</th>\n      <th>sum_deb_h_oper_3m</th>\n      <th>cnt_deb_h_oper_3m</th>\n      <th>cnt_days_deb_h_oper_3m</th>\n      <th>sum_cred_h_oper_3m</th>\n      <th>cnt_cred_h_oper_3m</th>\n      <th>cnt_days_cred_h_oper_3m</th>\n      <th>start_cluster</th>\n      <th>end_cluster</th>\n    </tr>\n  </thead>\n  <tbody>\n    <tr>\n      <th>0</th>\n      <td>0</td>\n      <td>month_1</td>\n      <td>0.744845</td>\n      <td>0.705492</td>\n      <td>1.287207</td>\n      <td>0.748101</td>\n      <td>channel_code_5</td>\n      <td>city_23</td>\n      <td>city_type_0</td>\n      <td>index_city_code_39</td>\n      <td>...</td>\n      <td>0.951166</td>\n      <td>0.568681</td>\n      <td>0.897565</td>\n      <td>0.553624</td>\n      <td>0.774354</td>\n      <td>0.936506</td>\n      <td>0.295984</td>\n      <td>0.967947</td>\n      <td>{α, γ}</td>\n      <td>{other}</td>\n    </tr>\n    <tr>\n      <th>1</th>\n      <td>0</td>\n      <td>month_2</td>\n      <td>1.049605</td>\n      <td>0.831916</td>\n      <td>2.458609</td>\n      <td>1.053805</td>\n      <td>channel_code_5</td>\n      <td>city_23</td>\n      <td>city_type_0</td>\n      <td>index_city_code_39</td>\n      <td>...</td>\n      <td>0.948812</td>\n      <td>0.499716</td>\n      <td>0.785029</td>\n      <td>0.551904</td>\n      <td>0.696576</td>\n      <td>0.990157</td>\n      <td>0.298873</td>\n      <td>0.945969</td>\n      <td>{α, γ}</td>\n      <td>{other}</td>\n    </tr>\n    <tr>\n      <th>2</th>\n      <td>0</td>\n      <td>month_3</td>\n      <td>0.692653</td>\n      <td>0.740253</td>\n      <td>0.430042</td>\n      <td>0.695747</td>\n      <td>channel_code_5</td>\n      <td>city_23</td>\n      <td>city_type_0</td>\n      <td>index_city_code_39</td>\n      <td>...</td>\n      <td>0.946458</td>\n      <td>0.442244</td>\n      <td>0.877050</td>\n      <td>0.551044</td>\n      <td>0.663243</td>\n      <td>0.810065</td>\n      <td>0.294829</td>\n      <td>0.956958</td>\n      <td>{α, γ}</td>\n      <td>{other}</td>\n    </tr>\n  </tbody>\n</table>\n<p>3 rows × 93 columns</p>\n</div>"
     },
     "execution_count": 67,
     "metadata": {},
     "output_type": "execute_result"
    }
   ],
   "source": [
    "train_df = pd.read_parquet(\"../data/train_data.pqt\")\n",
    "test_df = pd.read_parquet(\"../data/test_data.pqt\")\n",
    "train_df.head(3)"
   ],
   "metadata": {
    "collapsed": false,
    "ExecuteTime": {
     "end_time": "2024-03-13T19:42:33.163927500Z",
     "start_time": "2024-03-13T19:42:30.908288100Z"
    }
   },
   "id": "f267687c9aa848c6",
   "execution_count": 67
  },
  {
   "cell_type": "code",
   "outputs": [
    {
     "data": {
      "text/plain": "       id     date  balance_amt_avg  balance_amt_max  balance_amt_min  \\\n0  200000  month_4        -0.096224         0.335496        -0.125995   \n1  200000  month_5        -0.024255        -0.059806        -0.124295   \n2  200000  month_6         0.045988         0.049418        -0.125995   \n3  200001  month_4        -0.156722        -0.204920        -0.125856   \n4  200001  month_5        -0.156722        -0.204920        -0.125856   \n\n   balance_amt_day_avg     channel_code     city    city_type index_city_code  \\\n0            -0.095578  channel_code_12  city_14  city_type_0            None   \n1            -0.023381  channel_code_12  city_14  city_type_0            None   \n2             0.047079  channel_code_12  city_14  city_type_0            None   \n3            -0.156258   channel_code_9  city_76  city_type_0            None   \n4            -0.156258   channel_code_9  city_76  city_type_0            None   \n\n   ...  sum_cred_g_oper_3m  cnt_cred_g_oper_3m cnt_days_cred_g_oper_3m  \\\n0  ...            0.010952            0.946066                0.407762   \n1  ...            0.006812            0.945281                0.396267   \n2  ...            0.006812            0.945281                0.396267   \n3  ...           -0.028584                 NaN                     NaN   \n4  ...           -0.028584                 NaN                     NaN   \n\n  sum_deb_h_oper_3m  cnt_deb_h_oper_3m  cnt_days_deb_h_oper_3m  \\\n0         -0.153950           0.548895                0.541020   \n1         -0.150505           0.549468                0.552131   \n2         -0.152800           0.549468                0.541020   \n3         -0.165588                NaN                     NaN   \n4         -0.165588                NaN                     NaN   \n\n   sum_cred_h_oper_3m  cnt_cred_h_oper_3m cnt_days_cred_h_oper_3m  \\\n0            0.031742            0.257278                0.561353   \n1            0.237817            0.264211                0.715199   \n2            0.387566            0.268543                0.836079   \n3           -0.201123                 NaN                     NaN   \n4           -0.201123                 NaN                     NaN   \n\n  start_cluster  \n0           {α}  \n1           {α}  \n2          None  \n3           {α}  \n4           {α}  \n\n[5 rows x 92 columns]",
      "text/html": "<div>\n<style scoped>\n    .dataframe tbody tr th:only-of-type {\n        vertical-align: middle;\n    }\n\n    .dataframe tbody tr th {\n        vertical-align: top;\n    }\n\n    .dataframe thead th {\n        text-align: right;\n    }\n</style>\n<table border=\"1\" class=\"dataframe\">\n  <thead>\n    <tr style=\"text-align: right;\">\n      <th></th>\n      <th>id</th>\n      <th>date</th>\n      <th>balance_amt_avg</th>\n      <th>balance_amt_max</th>\n      <th>balance_amt_min</th>\n      <th>balance_amt_day_avg</th>\n      <th>channel_code</th>\n      <th>city</th>\n      <th>city_type</th>\n      <th>index_city_code</th>\n      <th>...</th>\n      <th>sum_cred_g_oper_3m</th>\n      <th>cnt_cred_g_oper_3m</th>\n      <th>cnt_days_cred_g_oper_3m</th>\n      <th>sum_deb_h_oper_3m</th>\n      <th>cnt_deb_h_oper_3m</th>\n      <th>cnt_days_deb_h_oper_3m</th>\n      <th>sum_cred_h_oper_3m</th>\n      <th>cnt_cred_h_oper_3m</th>\n      <th>cnt_days_cred_h_oper_3m</th>\n      <th>start_cluster</th>\n    </tr>\n  </thead>\n  <tbody>\n    <tr>\n      <th>0</th>\n      <td>200000</td>\n      <td>month_4</td>\n      <td>-0.096224</td>\n      <td>0.335496</td>\n      <td>-0.125995</td>\n      <td>-0.095578</td>\n      <td>channel_code_12</td>\n      <td>city_14</td>\n      <td>city_type_0</td>\n      <td>None</td>\n      <td>...</td>\n      <td>0.010952</td>\n      <td>0.946066</td>\n      <td>0.407762</td>\n      <td>-0.153950</td>\n      <td>0.548895</td>\n      <td>0.541020</td>\n      <td>0.031742</td>\n      <td>0.257278</td>\n      <td>0.561353</td>\n      <td>{α}</td>\n    </tr>\n    <tr>\n      <th>1</th>\n      <td>200000</td>\n      <td>month_5</td>\n      <td>-0.024255</td>\n      <td>-0.059806</td>\n      <td>-0.124295</td>\n      <td>-0.023381</td>\n      <td>channel_code_12</td>\n      <td>city_14</td>\n      <td>city_type_0</td>\n      <td>None</td>\n      <td>...</td>\n      <td>0.006812</td>\n      <td>0.945281</td>\n      <td>0.396267</td>\n      <td>-0.150505</td>\n      <td>0.549468</td>\n      <td>0.552131</td>\n      <td>0.237817</td>\n      <td>0.264211</td>\n      <td>0.715199</td>\n      <td>{α}</td>\n    </tr>\n    <tr>\n      <th>2</th>\n      <td>200000</td>\n      <td>month_6</td>\n      <td>0.045988</td>\n      <td>0.049418</td>\n      <td>-0.125995</td>\n      <td>0.047079</td>\n      <td>channel_code_12</td>\n      <td>city_14</td>\n      <td>city_type_0</td>\n      <td>None</td>\n      <td>...</td>\n      <td>0.006812</td>\n      <td>0.945281</td>\n      <td>0.396267</td>\n      <td>-0.152800</td>\n      <td>0.549468</td>\n      <td>0.541020</td>\n      <td>0.387566</td>\n      <td>0.268543</td>\n      <td>0.836079</td>\n      <td>None</td>\n    </tr>\n    <tr>\n      <th>3</th>\n      <td>200001</td>\n      <td>month_4</td>\n      <td>-0.156722</td>\n      <td>-0.204920</td>\n      <td>-0.125856</td>\n      <td>-0.156258</td>\n      <td>channel_code_9</td>\n      <td>city_76</td>\n      <td>city_type_0</td>\n      <td>None</td>\n      <td>...</td>\n      <td>-0.028584</td>\n      <td>NaN</td>\n      <td>NaN</td>\n      <td>-0.165588</td>\n      <td>NaN</td>\n      <td>NaN</td>\n      <td>-0.201123</td>\n      <td>NaN</td>\n      <td>NaN</td>\n      <td>{α}</td>\n    </tr>\n    <tr>\n      <th>4</th>\n      <td>200001</td>\n      <td>month_5</td>\n      <td>-0.156722</td>\n      <td>-0.204920</td>\n      <td>-0.125856</td>\n      <td>-0.156258</td>\n      <td>channel_code_9</td>\n      <td>city_76</td>\n      <td>city_type_0</td>\n      <td>None</td>\n      <td>...</td>\n      <td>-0.028584</td>\n      <td>NaN</td>\n      <td>NaN</td>\n      <td>-0.165588</td>\n      <td>NaN</td>\n      <td>NaN</td>\n      <td>-0.201123</td>\n      <td>NaN</td>\n      <td>NaN</td>\n      <td>{α}</td>\n    </tr>\n  </tbody>\n</table>\n<p>5 rows × 92 columns</p>\n</div>"
     },
     "execution_count": 68,
     "metadata": {},
     "output_type": "execute_result"
    }
   ],
   "source": [
    "test_df.head(5)"
   ],
   "metadata": {
    "collapsed": false,
    "ExecuteTime": {
     "end_time": "2024-03-13T19:42:33.367902400Z",
     "start_time": "2024-03-13T19:42:33.309962Z"
    }
   },
   "id": "627097f45816d8e4",
   "execution_count": 68
  },
  {
   "cell_type": "code",
   "outputs": [],
   "source": [
    "for col in train_df.columns:\n",
    "    if train_df[col].dtype in ['int64', 'float64']:\n",
    "        mean_val = train_df[col].mean()\n",
    "        train_df[col] = train_df[col].fillna(mean_val)\n",
    "    else:\n",
    "        mod_val = train_df[train_df[col].notna()][col].mode()\n",
    "        train_df[col] = train_df[col].fillna(mod_val[0])\n",
    "        train_df[col] = train_df[col].astype(\"category\")\n",
    "for col in test_df.columns:\n",
    "    if test_df[col].dtype in ['int64', 'float64']:\n",
    "        mean_val = test_df[col].mean()\n",
    "        test_df[col] = test_df[col].fillna(mean_val)\n",
    "    else:\n",
    "        if col != 'start_cluster':\n",
    "            mod_val = test_df[test_df[col].notna()][col].mode()\n",
    "            test_df[col] = test_df[col].fillna(mod_val[0])\n",
    "            test_df[col] = test_df[col].astype(\"category\")"
   ],
   "metadata": {
    "collapsed": false,
    "ExecuteTime": {
     "end_time": "2024-03-13T19:42:41.982129600Z",
     "start_time": "2024-03-13T19:42:33.706939300Z"
    }
   },
   "id": "90fa221802abfe6c",
   "execution_count": 69
  },
  {
   "cell_type": "code",
   "outputs": [
    {
     "data": {
      "text/plain": "   id  balance_amt_avg  balance_amt_max  balance_amt_min  balance_amt_day_avg  \\\n0   0         0.744845         0.705492         1.287207             0.748101   \n1   1        -0.081586        -0.091860        -0.114040            -0.080890   \n2   2        -0.154685        -0.186795        -0.122805            -0.154215   \n3   3        -0.156643        -0.204861        -0.125660            -0.156179   \n4   4        -0.138847        -0.182486        -0.125630            -0.138328   \n\n      channel_code      city      city_type     index_city_code  \\\n0   channel_code_5   city_23    city_type_0  index_city_code_39   \n1   channel_code_2   city_14    city_type_0  index_city_code_46   \n2  channel_code_12  city_613  city_type_306  index_city_code_46   \n3  channel_code_14   city_21    city_type_0  index_city_code_46   \n4   channel_code_8   city_21    city_type_0  index_city_code_46   \n\n   ogrn_days_end_month  ...  cnt_cred_g_oper_3m cnt_days_cred_g_oper_3m  \\\n0            -0.488553  ...            0.951166                0.568681   \n1             0.324343  ...            0.945281                0.407762   \n2            -0.256297  ...            0.944497                0.384773   \n3            -1.185321  ...            0.944497                0.384773   \n4            -1.417577  ...            0.957443                0.672129   \n\n  sum_deb_h_oper_3m  cnt_deb_h_oper_3m  cnt_days_deb_h_oper_3m  \\\n0          0.897565           0.553624                0.774354   \n1          0.369318           0.567093                0.785465   \n2         -0.165588           0.546889                0.407687   \n3         -0.165588           0.546889                0.407687   \n4         -0.078233           0.558209                0.707687   \n\n   sum_cred_h_oper_3m  cnt_cred_h_oper_3m cnt_days_cred_h_oper_3m  \\\n0            0.936506            0.295984                0.967947   \n1           -0.184002            0.253523                0.462452   \n2           -0.178674            0.252657                0.440474   \n3           -0.201123            0.250924                0.374540   \n4           -0.178408            0.252946                0.440474   \n\n  start_cluster_x   target  \n0          {α, γ}   {α, γ}  \n1         {other}  {other}  \n2             {α}      {α}  \n3             {α}      {α}  \n4             {α}      {α}  \n\n[5 rows x 92 columns]",
      "text/html": "<div>\n<style scoped>\n    .dataframe tbody tr th:only-of-type {\n        vertical-align: middle;\n    }\n\n    .dataframe tbody tr th {\n        vertical-align: top;\n    }\n\n    .dataframe thead th {\n        text-align: right;\n    }\n</style>\n<table border=\"1\" class=\"dataframe\">\n  <thead>\n    <tr style=\"text-align: right;\">\n      <th></th>\n      <th>id</th>\n      <th>balance_amt_avg</th>\n      <th>balance_amt_max</th>\n      <th>balance_amt_min</th>\n      <th>balance_amt_day_avg</th>\n      <th>channel_code</th>\n      <th>city</th>\n      <th>city_type</th>\n      <th>index_city_code</th>\n      <th>ogrn_days_end_month</th>\n      <th>...</th>\n      <th>cnt_cred_g_oper_3m</th>\n      <th>cnt_days_cred_g_oper_3m</th>\n      <th>sum_deb_h_oper_3m</th>\n      <th>cnt_deb_h_oper_3m</th>\n      <th>cnt_days_deb_h_oper_3m</th>\n      <th>sum_cred_h_oper_3m</th>\n      <th>cnt_cred_h_oper_3m</th>\n      <th>cnt_days_cred_h_oper_3m</th>\n      <th>start_cluster_x</th>\n      <th>target</th>\n    </tr>\n  </thead>\n  <tbody>\n    <tr>\n      <th>0</th>\n      <td>0</td>\n      <td>0.744845</td>\n      <td>0.705492</td>\n      <td>1.287207</td>\n      <td>0.748101</td>\n      <td>channel_code_5</td>\n      <td>city_23</td>\n      <td>city_type_0</td>\n      <td>index_city_code_39</td>\n      <td>-0.488553</td>\n      <td>...</td>\n      <td>0.951166</td>\n      <td>0.568681</td>\n      <td>0.897565</td>\n      <td>0.553624</td>\n      <td>0.774354</td>\n      <td>0.936506</td>\n      <td>0.295984</td>\n      <td>0.967947</td>\n      <td>{α, γ}</td>\n      <td>{α, γ}</td>\n    </tr>\n    <tr>\n      <th>1</th>\n      <td>1</td>\n      <td>-0.081586</td>\n      <td>-0.091860</td>\n      <td>-0.114040</td>\n      <td>-0.080890</td>\n      <td>channel_code_2</td>\n      <td>city_14</td>\n      <td>city_type_0</td>\n      <td>index_city_code_46</td>\n      <td>0.324343</td>\n      <td>...</td>\n      <td>0.945281</td>\n      <td>0.407762</td>\n      <td>0.369318</td>\n      <td>0.567093</td>\n      <td>0.785465</td>\n      <td>-0.184002</td>\n      <td>0.253523</td>\n      <td>0.462452</td>\n      <td>{other}</td>\n      <td>{other}</td>\n    </tr>\n    <tr>\n      <th>2</th>\n      <td>2</td>\n      <td>-0.154685</td>\n      <td>-0.186795</td>\n      <td>-0.122805</td>\n      <td>-0.154215</td>\n      <td>channel_code_12</td>\n      <td>city_613</td>\n      <td>city_type_306</td>\n      <td>index_city_code_46</td>\n      <td>-0.256297</td>\n      <td>...</td>\n      <td>0.944497</td>\n      <td>0.384773</td>\n      <td>-0.165588</td>\n      <td>0.546889</td>\n      <td>0.407687</td>\n      <td>-0.178674</td>\n      <td>0.252657</td>\n      <td>0.440474</td>\n      <td>{α}</td>\n      <td>{α}</td>\n    </tr>\n    <tr>\n      <th>3</th>\n      <td>3</td>\n      <td>-0.156643</td>\n      <td>-0.204861</td>\n      <td>-0.125660</td>\n      <td>-0.156179</td>\n      <td>channel_code_14</td>\n      <td>city_21</td>\n      <td>city_type_0</td>\n      <td>index_city_code_46</td>\n      <td>-1.185321</td>\n      <td>...</td>\n      <td>0.944497</td>\n      <td>0.384773</td>\n      <td>-0.165588</td>\n      <td>0.546889</td>\n      <td>0.407687</td>\n      <td>-0.201123</td>\n      <td>0.250924</td>\n      <td>0.374540</td>\n      <td>{α}</td>\n      <td>{α}</td>\n    </tr>\n    <tr>\n      <th>4</th>\n      <td>4</td>\n      <td>-0.138847</td>\n      <td>-0.182486</td>\n      <td>-0.125630</td>\n      <td>-0.138328</td>\n      <td>channel_code_8</td>\n      <td>city_21</td>\n      <td>city_type_0</td>\n      <td>index_city_code_46</td>\n      <td>-1.417577</td>\n      <td>...</td>\n      <td>0.957443</td>\n      <td>0.672129</td>\n      <td>-0.078233</td>\n      <td>0.558209</td>\n      <td>0.707687</td>\n      <td>-0.178408</td>\n      <td>0.252946</td>\n      <td>0.440474</td>\n      <td>{α}</td>\n      <td>{α}</td>\n    </tr>\n  </tbody>\n</table>\n<p>5 rows × 92 columns</p>\n</div>"
     },
     "execution_count": 70,
     "metadata": {},
     "output_type": "execute_result"
    }
   ],
   "source": [
    "m1_df = train_df[train_df['date'] == 'month_1']\n",
    "m2_df = train_df[train_df['date'] == 'month_2']\n",
    "m3_df = train_df[train_df['date'] == 'month_3']\n",
    "\n",
    "m1_df = m1_df.merge(m2_df[['id','start_cluster']],how='left',on='id')\n",
    "m2_df = m2_df.merge(m3_df[['id','start_cluster']],how='left',on='id')\n",
    "mdf = test_df[test_df['date'] == 'month_4']\n",
    "\n",
    "mdf = mdf.merge(test_df[test_df['date'] == 'month_5'][['id','start_cluster']],how='left',on='id')\n",
    "cluster_train = pd.concat([m1_df,m2_df,mdf])\n",
    "cluster_train = cluster_train.rename(columns={'start_cluster_y':'target'})\n",
    "cluster_train = cluster_train.drop(['date','end_cluster'],axis=1)\n",
    "cluster_train.head(5)"
   ],
   "metadata": {
    "collapsed": false,
    "ExecuteTime": {
     "end_time": "2024-03-13T19:42:43.680707800Z",
     "start_time": "2024-03-13T19:42:41.932106200Z"
    }
   },
   "id": "87e2799eb8996944",
   "execution_count": 70
  },
  {
   "cell_type": "code",
   "outputs": [],
   "source": [
    "X = cluster_train.drop(['id','target'],axis=1)\n",
    "y = cluster_train[\"target\"]\n",
    "cat_cols = X.select_dtypes(exclude=['number']).columns.to_list()\n",
    "cat_f = [X.columns.get_loc(column_name) for column_name in cat_cols if column_name in X.columns.tolist()]\n",
    "x_train, x_val, y_train, y_val = train_test_split(X, y,\n",
    "                                                  test_size=0.3,\n",
    "                                                  random_state=42)"
   ],
   "metadata": {
    "collapsed": false,
    "ExecuteTime": {
     "end_time": "2024-03-13T19:32:26.844649200Z",
     "start_time": "2024-03-13T19:32:25.885467500Z"
    }
   },
   "id": "5e6812b2abaaa072",
   "execution_count": 43
  },
  {
   "cell_type": "code",
   "outputs": [
    {
     "data": {
      "text/plain": "MetricVisualizer(layout=Layout(align_self='stretch', height='500px'))",
      "application/vnd.jupyter.widget-view+json": {
       "version_major": 2,
       "version_minor": 0,
       "model_id": "0440b12def494970a7739980cf211888"
      }
     },
     "metadata": {},
     "output_type": "display_data"
    },
    {
     "name": "stdout",
     "output_type": "stream",
     "text": [
      "0:\tlearn: 0.5055891\ttest: 0.4793383\tbest: 0.4793383 (0)\ttotal: 23.8s\tremaining: 11m 30s\n",
      "25:\tlearn: 0.3048624\ttest: 0.2909394\tbest: 0.2909394 (25)\ttotal: 6m 35s\tremaining: 1m\n",
      "29:\tlearn: 0.3024364\ttest: 0.2892138\tbest: 0.2892138 (29)\ttotal: 7m 34s\tremaining: 0us\n",
      "\n",
      "bestTest = 0.2892138392\n",
      "bestIteration = 29\n"
     ]
    },
    {
     "data": {
      "text/plain": "<catboost.core.CatBoostClassifier at 0x1e16f58faa0>"
     },
     "execution_count": 44,
     "metadata": {},
     "output_type": "execute_result"
    }
   ],
   "source": [
    "cl_model  = CatBoostClassifier(random_state= 42,\n",
    "                                 cat_features = cat_f,\n",
    "                                 iterations=30, \n",
    "                                 thread_count=8,\n",
    "                                 learning_rate=0.3,\n",
    "                                 l2_leaf_reg= 6.769230769230769,\n",
    "                                 depth= 8,\n",
    "                                 custom_metric=['AUC:hints=skip_train~false'])\n",
    "cl_model.fit(x_train,y_train, \n",
    "              eval_set=(x_val, y_val),\n",
    "              plot=True,\n",
    "              verbose=25\n",
    "              )"
   ],
   "metadata": {
    "collapsed": false,
    "ExecuteTime": {
     "end_time": "2024-03-13T19:40:03.522362200Z",
     "start_time": "2024-03-13T19:32:26.789571300Z"
    }
   },
   "id": "3d161e61853dc26c",
   "execution_count": 44
  },
  {
   "cell_type": "code",
   "outputs": [
    {
     "data": {
      "text/plain": "       id     date  balance_amt_avg  balance_amt_max  balance_amt_min  \\\n1  200000  month_5        -0.024255        -0.059806        -0.124295   \n4  200001  month_5        -0.156722        -0.204920        -0.125856   \n7  200002  month_5         0.572242         1.502779        -0.125995   \n\n   balance_amt_day_avg     channel_code     city    city_type  \\\n1            -0.023381  channel_code_12  city_14  city_type_0   \n4            -0.156258   channel_code_9  city_76  city_type_0   \n7             0.574963  channel_code_12  city_14  city_type_0   \n\n      index_city_code  ...  sum_cred_g_oper_3m  cnt_cred_g_oper_3m  \\\n1  index_city_code_46  ...            0.006812            0.945281   \n4  index_city_code_46  ...           -0.028584            0.946254   \n7  index_city_code_78  ...            0.499912            0.949989   \n\n  cnt_days_cred_g_oper_3m sum_deb_h_oper_3m  cnt_deb_h_oper_3m  \\\n1                0.396267         -0.150505           0.549468   \n4                0.411172         -0.165588           0.551103   \n7                0.522704          2.442243           0.563940   \n\n   cnt_days_deb_h_oper_3m  sum_cred_h_oper_3m  cnt_cred_h_oper_3m  \\\n1                0.552131            0.237817            0.264211   \n4                0.507374           -0.201123            0.255138   \n7                0.841020            3.313686            0.256701   \n\n  cnt_days_cred_h_oper_3m start_cluster_x  \n1                0.715199             {α}  \n4                0.451548             {α}  \n7                0.550364         {other}  \n\n[3 rows x 92 columns]",
      "text/html": "<div>\n<style scoped>\n    .dataframe tbody tr th:only-of-type {\n        vertical-align: middle;\n    }\n\n    .dataframe tbody tr th {\n        vertical-align: top;\n    }\n\n    .dataframe thead th {\n        text-align: right;\n    }\n</style>\n<table border=\"1\" class=\"dataframe\">\n  <thead>\n    <tr style=\"text-align: right;\">\n      <th></th>\n      <th>id</th>\n      <th>date</th>\n      <th>balance_amt_avg</th>\n      <th>balance_amt_max</th>\n      <th>balance_amt_min</th>\n      <th>balance_amt_day_avg</th>\n      <th>channel_code</th>\n      <th>city</th>\n      <th>city_type</th>\n      <th>index_city_code</th>\n      <th>...</th>\n      <th>sum_cred_g_oper_3m</th>\n      <th>cnt_cred_g_oper_3m</th>\n      <th>cnt_days_cred_g_oper_3m</th>\n      <th>sum_deb_h_oper_3m</th>\n      <th>cnt_deb_h_oper_3m</th>\n      <th>cnt_days_deb_h_oper_3m</th>\n      <th>sum_cred_h_oper_3m</th>\n      <th>cnt_cred_h_oper_3m</th>\n      <th>cnt_days_cred_h_oper_3m</th>\n      <th>start_cluster_x</th>\n    </tr>\n  </thead>\n  <tbody>\n    <tr>\n      <th>1</th>\n      <td>200000</td>\n      <td>month_5</td>\n      <td>-0.024255</td>\n      <td>-0.059806</td>\n      <td>-0.124295</td>\n      <td>-0.023381</td>\n      <td>channel_code_12</td>\n      <td>city_14</td>\n      <td>city_type_0</td>\n      <td>index_city_code_46</td>\n      <td>...</td>\n      <td>0.006812</td>\n      <td>0.945281</td>\n      <td>0.396267</td>\n      <td>-0.150505</td>\n      <td>0.549468</td>\n      <td>0.552131</td>\n      <td>0.237817</td>\n      <td>0.264211</td>\n      <td>0.715199</td>\n      <td>{α}</td>\n    </tr>\n    <tr>\n      <th>4</th>\n      <td>200001</td>\n      <td>month_5</td>\n      <td>-0.156722</td>\n      <td>-0.204920</td>\n      <td>-0.125856</td>\n      <td>-0.156258</td>\n      <td>channel_code_9</td>\n      <td>city_76</td>\n      <td>city_type_0</td>\n      <td>index_city_code_46</td>\n      <td>...</td>\n      <td>-0.028584</td>\n      <td>0.946254</td>\n      <td>0.411172</td>\n      <td>-0.165588</td>\n      <td>0.551103</td>\n      <td>0.507374</td>\n      <td>-0.201123</td>\n      <td>0.255138</td>\n      <td>0.451548</td>\n      <td>{α}</td>\n    </tr>\n    <tr>\n      <th>7</th>\n      <td>200002</td>\n      <td>month_5</td>\n      <td>0.572242</td>\n      <td>1.502779</td>\n      <td>-0.125995</td>\n      <td>0.574963</td>\n      <td>channel_code_12</td>\n      <td>city_14</td>\n      <td>city_type_0</td>\n      <td>index_city_code_78</td>\n      <td>...</td>\n      <td>0.499912</td>\n      <td>0.949989</td>\n      <td>0.522704</td>\n      <td>2.442243</td>\n      <td>0.563940</td>\n      <td>0.841020</td>\n      <td>3.313686</td>\n      <td>0.256701</td>\n      <td>0.550364</td>\n      <td>{other}</td>\n    </tr>\n  </tbody>\n</table>\n<p>3 rows × 92 columns</p>\n</div>"
     },
     "execution_count": 71,
     "metadata": {},
     "output_type": "execute_result"
    }
   ],
   "source": [
    "cluster_test = test_df[test_df['date'] =='month_5']\n",
    "cluster_test = cluster_test.rename(columns={'start_cluster':'start_cluster_x'})\n",
    "cluster_test.head(3)"
   ],
   "metadata": {
    "collapsed": false,
    "ExecuteTime": {
     "end_time": "2024-03-13T19:42:43.837363100Z",
     "start_time": "2024-03-13T19:42:43.678706900Z"
    }
   },
   "id": "945cee9473724301",
   "execution_count": 71
  },
  {
   "cell_type": "code",
   "outputs": [
    {
     "data": {
      "text/plain": "['{α}',\n '{α}',\n '{other}',\n '{α}',\n '{α}',\n '{α}',\n '{α}',\n '{α}',\n '{α}',\n '{α}',\n '{α, μ}',\n '{α}',\n '{α}',\n '{}',\n '{α}',\n '{α}',\n '{α}',\n '{}',\n '{α}',\n '{α}',\n '{α, γ}',\n '{α}',\n '{α}',\n '{α}',\n '{α, β}',\n '{α}',\n '{α}',\n '{α}',\n '{α, β}',\n '{α}',\n '{α}',\n '{α}',\n '{α, ε, η}',\n '{α}',\n '{α, η}',\n '{α, δ}',\n '{α}',\n '{α, γ}',\n '{α, ε}',\n '{α}',\n '{other}',\n '{α}',\n '{α}',\n '{α}',\n '{α}',\n '{α}',\n '{α, η}',\n '{α}',\n '{α}',\n '{α}',\n '{α}',\n '{α}',\n '{α, η}',\n '{α}',\n '{α, η}',\n '{α}',\n '{α}',\n '{α}',\n '{α, η}',\n '{α}',\n '{α}',\n '{α}',\n '{α, η}',\n '{other}',\n '{α}',\n '{α}',\n '{α}',\n '{α}',\n '{α}',\n '{α}',\n '{α}',\n '{}',\n '{α}',\n '{α}',\n '{α}',\n '{}',\n '{α}',\n '{α}',\n '{α}',\n '{α}',\n '{α}',\n '{α, β}',\n '{α}',\n '{α, δ}',\n '{α}',\n '{α}',\n '{α}',\n '{α}',\n '{α}',\n '{}',\n '{α, γ}',\n '{α}',\n '{α, ε, η}',\n '{α}',\n '{α}',\n '{α, η}',\n '{α}',\n '{α}',\n '{α}',\n '{other}',\n '{α}',\n '{α}',\n '{other}',\n '{α, β}',\n '{α, μ}',\n '{α, η}',\n '{α}',\n '{other}',\n '{α}',\n '{α}',\n '{α, δ}',\n '{α, γ}',\n '{α, γ}',\n '{α}',\n '{α}',\n '{α}',\n '{other}',\n '{α, γ}',\n '{α}',\n '{α, η}',\n '{α}',\n '{α}',\n '{α}',\n '{α, ψ}',\n '{α}',\n '{α}',\n '{α}',\n '{α}',\n '{α}',\n '{α}',\n '{α}',\n '{α, γ}',\n '{α}',\n '{α}',\n '{α}',\n '{α}',\n '{α}',\n '{α, γ}',\n '{α}',\n '{α}',\n '{α}',\n '{}',\n '{α, ε}',\n '{α}',\n '{}',\n '{α}',\n '{α}',\n '{α, γ}',\n '{α, η}',\n '{α}',\n '{α}',\n '{α, γ}',\n '{α}',\n '{α}',\n '{α}',\n '{α}',\n '{}',\n '{α}',\n '{α}',\n '{α, η}',\n '{α}',\n '{α, β}',\n '{α}',\n '{}',\n '{}',\n '{α}',\n '{α, γ}',\n '{α}',\n '{α}',\n '{α}',\n '{α}',\n '{α}',\n '{α}',\n '{α}',\n '{α}',\n '{α, θ}',\n '{α}',\n '{α}',\n '{other}',\n '{α}',\n '{α, η}',\n '{α, γ}',\n '{α}',\n '{α}',\n '{α}',\n '{α}',\n '{α}',\n '{α}',\n '{α}',\n '{α, η}',\n '{α}',\n '{}',\n '{α}',\n '{α}',\n '{α}',\n '{α}',\n '{α}',\n '{}',\n '{α}',\n '{α, ψ}',\n '{α}',\n '{α}',\n '{}',\n '{α}',\n '{α, γ}',\n '{α}',\n '{α}',\n '{α}',\n '{α}',\n '{α, β}',\n '{α}',\n '{α}',\n '{α, η}',\n '{α}',\n '{α, ε, η}',\n '{}',\n '{α}',\n '{other}',\n '{α, ε}',\n '{α}',\n '{}',\n '{α}',\n '{}',\n '{α}',\n '{α}',\n '{α}',\n '{}',\n '{α}',\n '{α}',\n '{α}',\n '{α, δ}',\n '{α}',\n '{α, γ}',\n '{}',\n '{α, η}',\n '{other}',\n '{α, γ}',\n '{α}',\n '{α}',\n '{α}',\n '{α}',\n '{α}',\n '{α}',\n '{α}',\n '{α, η}',\n '{α, η}',\n '{α}',\n '{α}',\n '{α}',\n '{}',\n '{α}',\n '{α}',\n '{other}',\n '{}',\n '{α}',\n '{α}',\n '{α}',\n '{other}',\n '{}',\n '{α}',\n '{α}',\n '{α, β}',\n '{α, θ}',\n '{α, ε}',\n '{other}',\n '{α}',\n '{}',\n '{α, ε}',\n '{α}',\n '{α, η}',\n '{α}',\n '{α}',\n '{α, ε}',\n '{α}',\n '{α}',\n '{α}',\n '{α}',\n '{α}',\n '{α}',\n '{α}',\n '{α}',\n '{α, γ}',\n '{α}',\n '{α}',\n '{α, γ}',\n '{α}',\n '{α}',\n '{α}',\n '{}',\n '{α}',\n '{α}',\n '{α}',\n '{α}',\n '{α}',\n '{α}',\n '{α}',\n '{α}',\n '{α, ε}',\n '{}',\n '{α, η}',\n '{α}',\n '{α}',\n '{α}',\n '{α, ψ}',\n '{α}',\n '{α}',\n '{α}',\n '{α}',\n '{α}',\n '{}',\n '{α}',\n '{α}',\n '{α, γ}',\n '{}',\n '{}',\n '{α}',\n '{α}',\n '{α}',\n '{α}',\n '{α, ε}',\n '{α}',\n '{}',\n '{α}',\n '{α}',\n '{α, δ}',\n '{α}',\n '{α}',\n '{α}',\n '{α}',\n '{α}',\n '{α}',\n '{α}',\n '{α}',\n '{α}',\n '{α}',\n '{α}',\n '{α}',\n '{α}',\n '{α}',\n '{α}',\n '{other}',\n '{α}',\n '{other}',\n '{α}',\n '{α, η}',\n '{α, γ}',\n '{α}',\n '{α}',\n '{α}',\n '{α}',\n '{α}',\n '{α}',\n '{α, ε}',\n '{α}',\n '{α}',\n '{other}',\n '{α}',\n '{α, η}',\n '{α}',\n '{α}',\n '{α}',\n '{α, η}',\n '{α}',\n '{α}',\n '{α}',\n '{α, η}',\n '{α, η}',\n '{α}',\n '{α}',\n '{α}',\n '{α}',\n '{α, η}',\n '{α, η}',\n '{α}',\n '{α, η}',\n '{α}',\n '{α, η}',\n '{other}',\n '{other}',\n '{other}',\n '{α}',\n '{α}',\n '{α}',\n '{α}',\n '{α}',\n '{α}',\n '{}',\n '{α}',\n '{α}',\n '{α}',\n '{}',\n '{α}',\n '{α}',\n '{other}',\n '{α}',\n '{α}',\n '{α, γ}',\n '{α}',\n '{α}',\n '{α, η}',\n '{α}',\n '{other}',\n '{α}',\n '{other}',\n '{α}',\n '{α}',\n '{α}',\n '{α}',\n '{α}',\n '{α}',\n '{α}',\n '{α}',\n '{other}',\n '{α}',\n '{α}',\n '{α}',\n '{α}',\n '{α}',\n '{α}',\n '{α}',\n '{α, η}',\n '{α}',\n '{α, η}',\n '{α}',\n '{α}',\n '{α}',\n '{α}',\n '{α}',\n '{α}',\n '{α}',\n '{α}',\n '{α}',\n '{α}',\n '{α}',\n '{α}',\n '{α}',\n '{α, η}',\n '{α, η}',\n '{α}',\n '{α, ψ}',\n '{α}',\n '{α}',\n '{α, η}',\n '{α, γ}',\n '{α}',\n '{α}',\n '{α}',\n '{α, η}',\n '{}',\n '{α}',\n '{α}',\n '{other}',\n '{α}',\n '{α, ε}',\n '{α}',\n '{α}',\n '{α}',\n '{α}',\n '{α}',\n '{α}',\n '{α}',\n '{α}',\n '{α}',\n '{α}',\n '{α}',\n '{α}',\n '{α}',\n '{α}',\n '{α, γ}',\n '{α, γ}',\n '{α}',\n '{α}',\n '{α}',\n '{α, β}',\n '{α}',\n '{}',\n '{α}',\n '{α}',\n '{}',\n '{α, β}',\n '{α}',\n '{α, ε}',\n '{α}',\n '{α}',\n '{α}',\n '{α}',\n '{α}',\n '{α}',\n '{α}',\n '{α}',\n '{α}',\n '{α}',\n '{other}',\n '{α}',\n '{α}',\n '{α}',\n '{α, μ}',\n '{}',\n '{α}',\n '{α}',\n '{other}',\n '{α, γ}',\n '{α, η}',\n '{α}',\n '{α}',\n '{α}',\n '{α}',\n '{α}',\n '{α}',\n '{}',\n '{α, η}',\n '{α, η}',\n '{α}',\n '{α}',\n '{α}',\n '{α}',\n '{α}',\n '{α}',\n '{α}',\n '{α}',\n '{α}',\n '{α, δ}',\n '{α, β}',\n '{α, γ}',\n '{}',\n '{α}',\n '{α, η}',\n '{}',\n '{α}',\n '{α}',\n '{α}',\n '{α}',\n '{α, η}',\n '{}',\n '{α}',\n '{}',\n '{α}',\n '{α}',\n '{α}',\n '{α}',\n '{α, η}',\n '{α}',\n '{α, γ}',\n '{α}',\n '{α, γ}',\n '{α}',\n '{α}',\n '{α}',\n '{α, η}',\n '{α}',\n '{α}',\n '{α}',\n '{α}',\n '{α, γ}',\n '{α, ε}',\n '{α}',\n '{α}',\n '{α}',\n '{α}',\n '{α}',\n '{α}',\n '{α}',\n '{α, η}',\n '{α}',\n '{α}',\n '{α}',\n '{α}',\n '{α, ε}',\n '{α}',\n '{α, δ}',\n '{}',\n '{α}',\n '{other}',\n '{α}',\n '{α}',\n '{α}',\n '{α}',\n '{α, λ}',\n '{α}',\n '{α}',\n '{α}',\n '{α}',\n '{α}',\n '{α}',\n '{α}',\n '{α}',\n '{α, η}',\n '{α}',\n '{α}',\n '{α}',\n '{α}',\n '{α, η}',\n '{α}',\n '{α}',\n '{other}',\n '{α}',\n '{α, γ}',\n '{α}',\n '{}',\n '{α}',\n '{α}',\n '{α}',\n '{α}',\n '{α}',\n '{α}',\n '{α, γ}',\n '{α}',\n '{α}',\n '{α, δ}',\n '{}',\n '{α}',\n '{α}',\n '{α}',\n '{α, η}',\n '{α}',\n '{α}',\n '{α}',\n '{α}',\n '{α}',\n '{α, η}',\n '{α}',\n '{α}',\n '{α, δ}',\n '{α, η}',\n '{α}',\n '{α}',\n '{α}',\n '{α}',\n '{α}',\n '{α}',\n '{α}',\n '{α}',\n '{α}',\n '{α, γ}',\n '{α}',\n '{other}',\n '{α}',\n '{α, ε}',\n '{α}',\n '{α}',\n '{α}',\n '{}',\n '{α}',\n '{α}',\n '{α}',\n '{α}',\n '{α}',\n '{α, η}',\n '{α}',\n '{α, ε}',\n '{α}',\n '{α}',\n '{α}',\n '{α}',\n '{α}',\n '{α}',\n '{α, λ}',\n '{α}',\n '{α}',\n '{α}',\n '{α, η}',\n '{α}',\n '{α}',\n '{}',\n '{}',\n '{α, η}',\n '{α}',\n '{α}',\n '{α}',\n '{α}',\n '{α}',\n '{α}',\n '{α}',\n '{α}',\n '{α}',\n '{α, η}',\n '{α, γ}',\n '{α, γ}',\n '{α}',\n '{α}',\n '{α}',\n '{α}',\n '{α, η}',\n '{α}',\n '{α}',\n '{α}',\n '{α}',\n '{α}',\n '{α}',\n '{α}',\n '{α}',\n '{α}',\n '{α, η}',\n '{α}',\n '{α, η}',\n '{α}',\n '{other}',\n '{α}',\n '{α}',\n '{α}',\n '{α}',\n '{}',\n '{other}',\n '{α}',\n '{α, β}',\n '{α}',\n '{α}',\n '{α}',\n '{α}',\n '{α}',\n '{α}',\n '{α}',\n '{α, η}',\n '{α, η}',\n '{α}',\n '{α}',\n '{α}',\n '{α}',\n '{α}',\n '{α, γ}',\n '{α, η}',\n '{α}',\n '{α, γ}',\n '{α, η}',\n '{α}',\n '{α, η}',\n '{α}',\n '{α}',\n '{α, λ}',\n '{α}',\n '{α, δ}',\n '{other}',\n '{α}',\n '{α, η}',\n '{α}',\n '{α}',\n '{α}',\n '{α}',\n '{α}',\n '{α}',\n '{α, γ}',\n '{α}',\n '{α}',\n '{α, γ}',\n '{α, η}',\n '{α}',\n '{α}',\n '{α, γ}',\n '{α}',\n '{α}',\n '{α, θ}',\n '{α}',\n '{α, ε}',\n '{other}',\n '{α}',\n '{α, η}',\n '{α}',\n '{α}',\n '{α, γ}',\n '{α}',\n '{α}',\n '{α}',\n '{α}',\n '{other}',\n '{α}',\n '{α}',\n '{α, γ}',\n '{α}',\n '{α}',\n '{α}',\n '{α}',\n '{α}',\n '{α}',\n '{α, η}',\n '{α}',\n '{α}',\n '{α}',\n '{α}',\n '{α}',\n '{α}',\n '{α}',\n '{α, η}',\n '{α}',\n '{α}',\n '{α}',\n '{α}',\n '{α}',\n '{α, η}',\n '{α}',\n '{}',\n '{α}',\n '{α}',\n '{α}',\n '{α}',\n '{α, γ}',\n '{α}',\n '{α, η}',\n '{α}',\n '{α}',\n '{α}',\n '{α}',\n '{α}',\n '{α}',\n '{α}',\n '{α}',\n '{α, γ}',\n '{α}',\n '{other}',\n '{α}',\n '{α}',\n '{α}',\n '{α}',\n '{α}',\n '{α}',\n '{α}',\n '{α}',\n '{α}',\n '{α}',\n '{other}',\n '{α}',\n '{α}',\n '{α}',\n '{α}',\n '{α}',\n '{α}',\n '{α}',\n '{other}',\n '{α}',\n '{α}',\n '{α}',\n '{α, γ}',\n '{α}',\n '{α}',\n '{α}',\n '{α}',\n '{α, δ}',\n '{}',\n '{α}',\n '{α}',\n '{α}',\n '{α}',\n '{α}',\n '{α}',\n '{α}',\n '{α, δ}',\n '{α}',\n '{α}',\n '{α}',\n '{}',\n '{α}',\n '{α}',\n '{α}',\n '{other}',\n '{α}',\n '{α, δ}',\n '{}',\n '{α, η}',\n '{α}',\n '{α}',\n '{α, γ}',\n '{α}',\n '{α}',\n '{α}',\n '{α}',\n '{α}',\n '{α}',\n '{}',\n '{α}',\n '{α}',\n '{α}',\n '{α}',\n '{α}',\n '{α}',\n '{α}',\n '{α}',\n '{α}',\n '{α, β}',\n '{α}',\n '{α, η}',\n '{α}',\n '{α}',\n '{α}',\n '{α}',\n '{α}',\n '{α, γ}',\n '{}',\n '{α}',\n '{α}',\n '{α, η}',\n '{α}',\n '{α}',\n '{α}',\n '{α}',\n '{other}',\n '{α}',\n '{α}',\n '{}',\n '{α}',\n '{α}',\n '{α}',\n '{α}',\n '{α}',\n '{α}',\n '{α, ε, η}',\n '{α}',\n '{α}',\n '{other}',\n '{other}',\n '{α}',\n '{α}',\n '{other}',\n '{α}',\n '{α, η}',\n '{α}',\n '{other}',\n '{α, η}',\n '{other}',\n '{α}',\n '{α}',\n '{}',\n '{α}',\n '{α, δ}',\n '{α}',\n '{}',\n '{α, η}',\n '{}',\n '{α}',\n '{α}',\n '{}',\n '{α, λ}',\n '{α}',\n '{α}',\n '{α}',\n '{α}',\n '{α}',\n '{α, δ}',\n '{α}',\n '{α}',\n '{α}',\n '{}',\n '{α, η}',\n '{α, γ}',\n '{α}',\n '{α}',\n '{α, θ}',\n '{α}',\n '{α, γ}',\n '{α}',\n '{}',\n '{}',\n '{α}',\n '{α}',\n '{α}',\n '{α}',\n '{α, γ}',\n '{α}',\n '{α}',\n '{}',\n '{α, ε}',\n '{α, γ}',\n '{other}',\n '{α}',\n '{α, γ}',\n '{α}',\n '{α}',\n '{α}',\n '{α}',\n '{α}',\n '{α, η}',\n '{α}',\n '{α}',\n '{α}',\n '{α}',\n '{α}',\n '{}',\n '{}',\n '{α}',\n '{α, γ}',\n '{α, θ}',\n '{α}',\n '{}',\n '{}',\n '{α, β}',\n '{α}',\n '{α}',\n '{α}',\n '{α}',\n '{α, γ}',\n '{α}',\n '{α}',\n '{α}',\n '{α}',\n '{α}',\n '{α}',\n '{α}',\n '{α}',\n '{α}',\n '{α}',\n '{other}',\n '{α}',\n ...]"
     },
     "execution_count": 72,
     "metadata": {},
     "output_type": "execute_result"
    }
   ],
   "source": [
    "yp_proba = cl_model.predict_proba(cluster_test.drop(['date','id'],axis=1))\n",
    "y_pred =  yp_proba / yp_proba.sum(axis=1, keepdims=True)\n",
    "max_column_indices = np.argmax(y_pred, axis=1)\n",
    "max_column_names = [cl_model.classes_[idx] for idx in max_column_indices]\n",
    "max_column_names"
   ],
   "metadata": {
    "collapsed": false,
    "ExecuteTime": {
     "end_time": "2024-03-13T19:42:51.566007300Z",
     "start_time": "2024-03-13T19:42:48.821690600Z"
    }
   },
   "id": "d5a666c386bd9390",
   "execution_count": 72
  },
  {
   "cell_type": "code",
   "outputs": [],
   "source": [
    "mcr_df = test_df[test_df['date'] =='month_6']\n",
    "mcr_df = mcr_df.reset_index(drop=True)\n",
    "mcr_df['start_cluster'] = max_column_names"
   ],
   "metadata": {
    "collapsed": false,
    "ExecuteTime": {
     "end_time": "2024-03-13T19:42:51.637982900Z",
     "start_time": "2024-03-13T19:42:51.515601500Z"
    }
   },
   "id": "4e868e7478baecd6",
   "execution_count": 73
  },
  {
   "cell_type": "code",
   "outputs": [
    {
     "data": {
      "text/plain": "           id     date  balance_amt_avg  balance_amt_max  balance_amt_min  \\\n0      200000  month_6         0.045988         0.049418        -0.125995   \n1      200001  month_6        -0.156722        -0.204920        -0.125856   \n2      200002  month_6        -0.048015         0.448252        -0.125995   \n3      200003  month_6        -0.156579        -0.204813        -0.125501   \n4      200004  month_6        -0.153379        -0.201932        -0.125995   \n...       ...      ...              ...              ...              ...   \n99995  299995  month_6        -0.153707        -0.202806        -0.125498   \n99996  299996  month_6        -0.154929        -0.197878        -0.125873   \n99997  299997  month_6        -0.105294        -0.141429        -0.104590   \n99998  299998  month_6        -0.155350        -0.203711        -0.125995   \n99999  299999  month_6        -0.141660        -0.156818        -0.125894   \n\n       balance_amt_day_avg     channel_code     city    city_type  \\\n0                 0.047079  channel_code_12  city_14  city_type_0   \n1                -0.156258   channel_code_9  city_76  city_type_0   \n2                -0.047215  channel_code_12  city_14  city_type_0   \n3                -0.156115   channel_code_7  city_31  city_type_0   \n4                -0.154155   channel_code_7   city_0  city_type_0   \n...                    ...              ...      ...          ...   \n99995            -0.153234  channel_code_14  city_22  city_type_0   \n99996            -0.154459   channel_code_1  city_96  city_type_0   \n99997            -0.104671  channel_code_17  city_85  city_type_0   \n99998            -0.155980   channel_code_9  city_25  city_type_0   \n99999            -0.141149   channel_code_9   city_6  city_type_0   \n\n           index_city_code  ...  sum_cred_g_oper_3m  cnt_cred_g_oper_3m  \\\n0       index_city_code_46  ...            0.006812            0.945281   \n1       index_city_code_46  ...           -0.028584            0.946254   \n2       index_city_code_78  ...            0.123154            0.946850   \n3       index_city_code_46  ...           -0.028584            0.946254   \n4       index_city_code_46  ...           -0.027573            0.944889   \n...                    ...  ...                 ...                 ...   \n99995   index_city_code_29  ...           -0.028584            0.946254   \n99996   index_city_code_66  ...           -0.028584            0.944497   \n99997  index_city_code_103  ...           -0.028584            0.944497   \n99998   index_city_code_30  ...           -0.028584            0.944497   \n99999   index_city_code_34  ...           -0.028584            0.944497   \n\n      cnt_days_cred_g_oper_3m sum_deb_h_oper_3m  cnt_deb_h_oper_3m  \\\n0                    0.396267         -0.152800           0.549468   \n1                    0.411172         -0.165588           0.551103   \n2                    0.453739          2.614870           0.565087   \n3                    0.411172         -0.165588           0.551103   \n4                    0.396267         -0.165324           0.547032   \n...                       ...               ...                ...   \n99995                0.411172         -0.165588           0.551103   \n99996                0.384773         -0.155776           0.549755   \n99997                0.384773          0.087901           0.551904   \n99998                0.384773         -0.165588           0.546889   \n99999                0.384773         -0.028842           0.556919   \n\n       cnt_days_deb_h_oper_3m  sum_cred_h_oper_3m  cnt_cred_h_oper_3m  \\\n0                    0.541020            0.387566            0.268543   \n1                    0.507374           -0.201123            0.255138   \n2                    0.818798            4.449125            0.258723   \n3                    0.507374           -0.201123            0.255138   \n4                    0.418798           -0.201123            0.250924   \n...                       ...                 ...                 ...   \n99995                0.507374           -0.201123            0.255138   \n99996                0.507687           -0.191186            0.252657   \n99997                0.685465            0.090620            0.258723   \n99998                0.407687           -0.201123            0.250924   \n99999                0.796576           -0.011582            0.254101   \n\n      cnt_days_cred_h_oper_3m start_cluster  \n0                    0.836079           {α}  \n1                    0.451548           {α}  \n2                    0.627287       {other}  \n3                    0.451548           {α}  \n4                    0.374540           {α}  \n...                       ...           ...  \n99995                0.451548           {α}  \n99996                0.440474           {α}  \n99997                0.594320           {α}  \n99998                0.374540           {α}  \n99999                0.495419           {α}  \n\n[100000 rows x 92 columns]",
      "text/html": "<div>\n<style scoped>\n    .dataframe tbody tr th:only-of-type {\n        vertical-align: middle;\n    }\n\n    .dataframe tbody tr th {\n        vertical-align: top;\n    }\n\n    .dataframe thead th {\n        text-align: right;\n    }\n</style>\n<table border=\"1\" class=\"dataframe\">\n  <thead>\n    <tr style=\"text-align: right;\">\n      <th></th>\n      <th>id</th>\n      <th>date</th>\n      <th>balance_amt_avg</th>\n      <th>balance_amt_max</th>\n      <th>balance_amt_min</th>\n      <th>balance_amt_day_avg</th>\n      <th>channel_code</th>\n      <th>city</th>\n      <th>city_type</th>\n      <th>index_city_code</th>\n      <th>...</th>\n      <th>sum_cred_g_oper_3m</th>\n      <th>cnt_cred_g_oper_3m</th>\n      <th>cnt_days_cred_g_oper_3m</th>\n      <th>sum_deb_h_oper_3m</th>\n      <th>cnt_deb_h_oper_3m</th>\n      <th>cnt_days_deb_h_oper_3m</th>\n      <th>sum_cred_h_oper_3m</th>\n      <th>cnt_cred_h_oper_3m</th>\n      <th>cnt_days_cred_h_oper_3m</th>\n      <th>start_cluster</th>\n    </tr>\n  </thead>\n  <tbody>\n    <tr>\n      <th>0</th>\n      <td>200000</td>\n      <td>month_6</td>\n      <td>0.045988</td>\n      <td>0.049418</td>\n      <td>-0.125995</td>\n      <td>0.047079</td>\n      <td>channel_code_12</td>\n      <td>city_14</td>\n      <td>city_type_0</td>\n      <td>index_city_code_46</td>\n      <td>...</td>\n      <td>0.006812</td>\n      <td>0.945281</td>\n      <td>0.396267</td>\n      <td>-0.152800</td>\n      <td>0.549468</td>\n      <td>0.541020</td>\n      <td>0.387566</td>\n      <td>0.268543</td>\n      <td>0.836079</td>\n      <td>{α}</td>\n    </tr>\n    <tr>\n      <th>1</th>\n      <td>200001</td>\n      <td>month_6</td>\n      <td>-0.156722</td>\n      <td>-0.204920</td>\n      <td>-0.125856</td>\n      <td>-0.156258</td>\n      <td>channel_code_9</td>\n      <td>city_76</td>\n      <td>city_type_0</td>\n      <td>index_city_code_46</td>\n      <td>...</td>\n      <td>-0.028584</td>\n      <td>0.946254</td>\n      <td>0.411172</td>\n      <td>-0.165588</td>\n      <td>0.551103</td>\n      <td>0.507374</td>\n      <td>-0.201123</td>\n      <td>0.255138</td>\n      <td>0.451548</td>\n      <td>{α}</td>\n    </tr>\n    <tr>\n      <th>2</th>\n      <td>200002</td>\n      <td>month_6</td>\n      <td>-0.048015</td>\n      <td>0.448252</td>\n      <td>-0.125995</td>\n      <td>-0.047215</td>\n      <td>channel_code_12</td>\n      <td>city_14</td>\n      <td>city_type_0</td>\n      <td>index_city_code_78</td>\n      <td>...</td>\n      <td>0.123154</td>\n      <td>0.946850</td>\n      <td>0.453739</td>\n      <td>2.614870</td>\n      <td>0.565087</td>\n      <td>0.818798</td>\n      <td>4.449125</td>\n      <td>0.258723</td>\n      <td>0.627287</td>\n      <td>{other}</td>\n    </tr>\n    <tr>\n      <th>3</th>\n      <td>200003</td>\n      <td>month_6</td>\n      <td>-0.156579</td>\n      <td>-0.204813</td>\n      <td>-0.125501</td>\n      <td>-0.156115</td>\n      <td>channel_code_7</td>\n      <td>city_31</td>\n      <td>city_type_0</td>\n      <td>index_city_code_46</td>\n      <td>...</td>\n      <td>-0.028584</td>\n      <td>0.946254</td>\n      <td>0.411172</td>\n      <td>-0.165588</td>\n      <td>0.551103</td>\n      <td>0.507374</td>\n      <td>-0.201123</td>\n      <td>0.255138</td>\n      <td>0.451548</td>\n      <td>{α}</td>\n    </tr>\n    <tr>\n      <th>4</th>\n      <td>200004</td>\n      <td>month_6</td>\n      <td>-0.153379</td>\n      <td>-0.201932</td>\n      <td>-0.125995</td>\n      <td>-0.154155</td>\n      <td>channel_code_7</td>\n      <td>city_0</td>\n      <td>city_type_0</td>\n      <td>index_city_code_46</td>\n      <td>...</td>\n      <td>-0.027573</td>\n      <td>0.944889</td>\n      <td>0.396267</td>\n      <td>-0.165324</td>\n      <td>0.547032</td>\n      <td>0.418798</td>\n      <td>-0.201123</td>\n      <td>0.250924</td>\n      <td>0.374540</td>\n      <td>{α}</td>\n    </tr>\n    <tr>\n      <th>...</th>\n      <td>...</td>\n      <td>...</td>\n      <td>...</td>\n      <td>...</td>\n      <td>...</td>\n      <td>...</td>\n      <td>...</td>\n      <td>...</td>\n      <td>...</td>\n      <td>...</td>\n      <td>...</td>\n      <td>...</td>\n      <td>...</td>\n      <td>...</td>\n      <td>...</td>\n      <td>...</td>\n      <td>...</td>\n      <td>...</td>\n      <td>...</td>\n      <td>...</td>\n      <td>...</td>\n    </tr>\n    <tr>\n      <th>99995</th>\n      <td>299995</td>\n      <td>month_6</td>\n      <td>-0.153707</td>\n      <td>-0.202806</td>\n      <td>-0.125498</td>\n      <td>-0.153234</td>\n      <td>channel_code_14</td>\n      <td>city_22</td>\n      <td>city_type_0</td>\n      <td>index_city_code_29</td>\n      <td>...</td>\n      <td>-0.028584</td>\n      <td>0.946254</td>\n      <td>0.411172</td>\n      <td>-0.165588</td>\n      <td>0.551103</td>\n      <td>0.507374</td>\n      <td>-0.201123</td>\n      <td>0.255138</td>\n      <td>0.451548</td>\n      <td>{α}</td>\n    </tr>\n    <tr>\n      <th>99996</th>\n      <td>299996</td>\n      <td>month_6</td>\n      <td>-0.154929</td>\n      <td>-0.197878</td>\n      <td>-0.125873</td>\n      <td>-0.154459</td>\n      <td>channel_code_1</td>\n      <td>city_96</td>\n      <td>city_type_0</td>\n      <td>index_city_code_66</td>\n      <td>...</td>\n      <td>-0.028584</td>\n      <td>0.944497</td>\n      <td>0.384773</td>\n      <td>-0.155776</td>\n      <td>0.549755</td>\n      <td>0.507687</td>\n      <td>-0.191186</td>\n      <td>0.252657</td>\n      <td>0.440474</td>\n      <td>{α}</td>\n    </tr>\n    <tr>\n      <th>99997</th>\n      <td>299997</td>\n      <td>month_6</td>\n      <td>-0.105294</td>\n      <td>-0.141429</td>\n      <td>-0.104590</td>\n      <td>-0.104671</td>\n      <td>channel_code_17</td>\n      <td>city_85</td>\n      <td>city_type_0</td>\n      <td>index_city_code_103</td>\n      <td>...</td>\n      <td>-0.028584</td>\n      <td>0.944497</td>\n      <td>0.384773</td>\n      <td>0.087901</td>\n      <td>0.551904</td>\n      <td>0.685465</td>\n      <td>0.090620</td>\n      <td>0.258723</td>\n      <td>0.594320</td>\n      <td>{α}</td>\n    </tr>\n    <tr>\n      <th>99998</th>\n      <td>299998</td>\n      <td>month_6</td>\n      <td>-0.155350</td>\n      <td>-0.203711</td>\n      <td>-0.125995</td>\n      <td>-0.155980</td>\n      <td>channel_code_9</td>\n      <td>city_25</td>\n      <td>city_type_0</td>\n      <td>index_city_code_30</td>\n      <td>...</td>\n      <td>-0.028584</td>\n      <td>0.944497</td>\n      <td>0.384773</td>\n      <td>-0.165588</td>\n      <td>0.546889</td>\n      <td>0.407687</td>\n      <td>-0.201123</td>\n      <td>0.250924</td>\n      <td>0.374540</td>\n      <td>{α}</td>\n    </tr>\n    <tr>\n      <th>99999</th>\n      <td>299999</td>\n      <td>month_6</td>\n      <td>-0.141660</td>\n      <td>-0.156818</td>\n      <td>-0.125894</td>\n      <td>-0.141149</td>\n      <td>channel_code_9</td>\n      <td>city_6</td>\n      <td>city_type_0</td>\n      <td>index_city_code_34</td>\n      <td>...</td>\n      <td>-0.028584</td>\n      <td>0.944497</td>\n      <td>0.384773</td>\n      <td>-0.028842</td>\n      <td>0.556919</td>\n      <td>0.796576</td>\n      <td>-0.011582</td>\n      <td>0.254101</td>\n      <td>0.495419</td>\n      <td>{α}</td>\n    </tr>\n  </tbody>\n</table>\n<p>100000 rows × 92 columns</p>\n</div>"
     },
     "execution_count": 74,
     "metadata": {},
     "output_type": "execute_result"
    }
   ],
   "source": [
    "mcr_df"
   ],
   "metadata": {
    "collapsed": false,
    "ExecuteTime": {
     "end_time": "2024-03-13T19:42:51.687443900Z",
     "start_time": "2024-03-13T19:42:51.626981300Z"
    }
   },
   "id": "ad1d6d980fc5347d",
   "execution_count": 74
  },
  {
   "cell_type": "code",
   "outputs": [
    {
     "data": {
      "text/plain": "           id     date  balance_amt_avg  balance_amt_max  balance_amt_min  \\\n0      200000  month_4        -0.096224         0.335496        -0.125995   \n1      200000  month_5        -0.024255        -0.059806        -0.124295   \n3      200001  month_4        -0.156722        -0.204920        -0.125856   \n4      200001  month_5        -0.156722        -0.204920        -0.125856   \n6      200002  month_4        -0.096506         0.185905        -0.125995   \n...       ...      ...              ...              ...              ...   \n99995  299995  month_6        -0.153707        -0.202806        -0.125498   \n99996  299996  month_6        -0.154929        -0.197878        -0.125873   \n99997  299997  month_6        -0.105294        -0.141429        -0.104590   \n99998  299998  month_6        -0.155350        -0.203711        -0.125995   \n99999  299999  month_6        -0.141660        -0.156818        -0.125894   \n\n       balance_amt_day_avg     channel_code     city    city_type  \\\n0                -0.095578  channel_code_12  city_14  city_type_0   \n1                -0.023381  channel_code_12  city_14  city_type_0   \n3                -0.156258   channel_code_9  city_76  city_type_0   \n4                -0.156258   channel_code_9  city_76  city_type_0   \n6                -0.095856  channel_code_12  city_14  city_type_0   \n...                    ...              ...      ...          ...   \n99995            -0.153234  channel_code_14  city_22  city_type_0   \n99996            -0.154459   channel_code_1  city_96  city_type_0   \n99997            -0.104671  channel_code_17  city_85  city_type_0   \n99998            -0.155980   channel_code_9  city_25  city_type_0   \n99999            -0.141149   channel_code_9   city_6  city_type_0   \n\n           index_city_code  ...  sum_cred_g_oper_3m  cnt_cred_g_oper_3m  \\\n0       index_city_code_46  ...            0.010952            0.946066   \n1       index_city_code_46  ...            0.006812            0.945281   \n3       index_city_code_46  ...           -0.028584            0.946254   \n4       index_city_code_46  ...           -0.028584            0.946254   \n6       index_city_code_78  ...            0.510730            0.950774   \n...                    ...  ...                 ...                 ...   \n99995   index_city_code_29  ...           -0.028584            0.946254   \n99996   index_city_code_66  ...           -0.028584            0.944497   \n99997  index_city_code_103  ...           -0.028584            0.944497   \n99998   index_city_code_30  ...           -0.028584            0.944497   \n99999   index_city_code_34  ...           -0.028584            0.944497   \n\n      cnt_days_cred_g_oper_3m sum_deb_h_oper_3m  cnt_deb_h_oper_3m  \\\n0                    0.407762         -0.153950           0.548895   \n1                    0.396267         -0.150505           0.549468   \n3                    0.411172         -0.165588           0.551103   \n4                    0.411172         -0.165588           0.551103   \n6                    0.545693          0.715525           0.554913   \n...                       ...               ...                ...   \n99995                0.411172         -0.165588           0.551103   \n99996                0.384773         -0.155776           0.549755   \n99997                0.384773          0.087901           0.551904   \n99998                0.384773         -0.165588           0.546889   \n99999                0.384773         -0.028842           0.556919   \n\n       cnt_days_deb_h_oper_3m  sum_cred_h_oper_3m  cnt_cred_h_oper_3m  \\\n0                    0.541020            0.031742            0.257278   \n1                    0.552131            0.237817            0.264211   \n3                    0.507374           -0.201123            0.255138   \n4                    0.507374           -0.201123            0.255138   \n6                    0.718798            0.445811            0.254968   \n...                       ...                 ...                 ...   \n99995                0.507374           -0.201123            0.255138   \n99996                0.507687           -0.191186            0.252657   \n99997                0.685465            0.090620            0.258723   \n99998                0.407687           -0.201123            0.250924   \n99999                0.796576           -0.011582            0.254101   \n\n      cnt_days_cred_h_oper_3m start_cluster  \n0                    0.561353           {α}  \n1                    0.715199           {α}  \n3                    0.451548           {α}  \n4                    0.451548           {α}  \n6                    0.495419       {other}  \n...                       ...           ...  \n99995                0.451548           {α}  \n99996                0.440474           {α}  \n99997                0.594320           {α}  \n99998                0.374540           {α}  \n99999                0.495419           {α}  \n\n[290120 rows x 92 columns]",
      "text/html": "<div>\n<style scoped>\n    .dataframe tbody tr th:only-of-type {\n        vertical-align: middle;\n    }\n\n    .dataframe tbody tr th {\n        vertical-align: top;\n    }\n\n    .dataframe thead th {\n        text-align: right;\n    }\n</style>\n<table border=\"1\" class=\"dataframe\">\n  <thead>\n    <tr style=\"text-align: right;\">\n      <th></th>\n      <th>id</th>\n      <th>date</th>\n      <th>balance_amt_avg</th>\n      <th>balance_amt_max</th>\n      <th>balance_amt_min</th>\n      <th>balance_amt_day_avg</th>\n      <th>channel_code</th>\n      <th>city</th>\n      <th>city_type</th>\n      <th>index_city_code</th>\n      <th>...</th>\n      <th>sum_cred_g_oper_3m</th>\n      <th>cnt_cred_g_oper_3m</th>\n      <th>cnt_days_cred_g_oper_3m</th>\n      <th>sum_deb_h_oper_3m</th>\n      <th>cnt_deb_h_oper_3m</th>\n      <th>cnt_days_deb_h_oper_3m</th>\n      <th>sum_cred_h_oper_3m</th>\n      <th>cnt_cred_h_oper_3m</th>\n      <th>cnt_days_cred_h_oper_3m</th>\n      <th>start_cluster</th>\n    </tr>\n  </thead>\n  <tbody>\n    <tr>\n      <th>0</th>\n      <td>200000</td>\n      <td>month_4</td>\n      <td>-0.096224</td>\n      <td>0.335496</td>\n      <td>-0.125995</td>\n      <td>-0.095578</td>\n      <td>channel_code_12</td>\n      <td>city_14</td>\n      <td>city_type_0</td>\n      <td>index_city_code_46</td>\n      <td>...</td>\n      <td>0.010952</td>\n      <td>0.946066</td>\n      <td>0.407762</td>\n      <td>-0.153950</td>\n      <td>0.548895</td>\n      <td>0.541020</td>\n      <td>0.031742</td>\n      <td>0.257278</td>\n      <td>0.561353</td>\n      <td>{α}</td>\n    </tr>\n    <tr>\n      <th>1</th>\n      <td>200000</td>\n      <td>month_5</td>\n      <td>-0.024255</td>\n      <td>-0.059806</td>\n      <td>-0.124295</td>\n      <td>-0.023381</td>\n      <td>channel_code_12</td>\n      <td>city_14</td>\n      <td>city_type_0</td>\n      <td>index_city_code_46</td>\n      <td>...</td>\n      <td>0.006812</td>\n      <td>0.945281</td>\n      <td>0.396267</td>\n      <td>-0.150505</td>\n      <td>0.549468</td>\n      <td>0.552131</td>\n      <td>0.237817</td>\n      <td>0.264211</td>\n      <td>0.715199</td>\n      <td>{α}</td>\n    </tr>\n    <tr>\n      <th>3</th>\n      <td>200001</td>\n      <td>month_4</td>\n      <td>-0.156722</td>\n      <td>-0.204920</td>\n      <td>-0.125856</td>\n      <td>-0.156258</td>\n      <td>channel_code_9</td>\n      <td>city_76</td>\n      <td>city_type_0</td>\n      <td>index_city_code_46</td>\n      <td>...</td>\n      <td>-0.028584</td>\n      <td>0.946254</td>\n      <td>0.411172</td>\n      <td>-0.165588</td>\n      <td>0.551103</td>\n      <td>0.507374</td>\n      <td>-0.201123</td>\n      <td>0.255138</td>\n      <td>0.451548</td>\n      <td>{α}</td>\n    </tr>\n    <tr>\n      <th>4</th>\n      <td>200001</td>\n      <td>month_5</td>\n      <td>-0.156722</td>\n      <td>-0.204920</td>\n      <td>-0.125856</td>\n      <td>-0.156258</td>\n      <td>channel_code_9</td>\n      <td>city_76</td>\n      <td>city_type_0</td>\n      <td>index_city_code_46</td>\n      <td>...</td>\n      <td>-0.028584</td>\n      <td>0.946254</td>\n      <td>0.411172</td>\n      <td>-0.165588</td>\n      <td>0.551103</td>\n      <td>0.507374</td>\n      <td>-0.201123</td>\n      <td>0.255138</td>\n      <td>0.451548</td>\n      <td>{α}</td>\n    </tr>\n    <tr>\n      <th>6</th>\n      <td>200002</td>\n      <td>month_4</td>\n      <td>-0.096506</td>\n      <td>0.185905</td>\n      <td>-0.125995</td>\n      <td>-0.095856</td>\n      <td>channel_code_12</td>\n      <td>city_14</td>\n      <td>city_type_0</td>\n      <td>index_city_code_78</td>\n      <td>...</td>\n      <td>0.510730</td>\n      <td>0.950774</td>\n      <td>0.545693</td>\n      <td>0.715525</td>\n      <td>0.554913</td>\n      <td>0.718798</td>\n      <td>0.445811</td>\n      <td>0.254968</td>\n      <td>0.495419</td>\n      <td>{other}</td>\n    </tr>\n    <tr>\n      <th>...</th>\n      <td>...</td>\n      <td>...</td>\n      <td>...</td>\n      <td>...</td>\n      <td>...</td>\n      <td>...</td>\n      <td>...</td>\n      <td>...</td>\n      <td>...</td>\n      <td>...</td>\n      <td>...</td>\n      <td>...</td>\n      <td>...</td>\n      <td>...</td>\n      <td>...</td>\n      <td>...</td>\n      <td>...</td>\n      <td>...</td>\n      <td>...</td>\n      <td>...</td>\n      <td>...</td>\n    </tr>\n    <tr>\n      <th>99995</th>\n      <td>299995</td>\n      <td>month_6</td>\n      <td>-0.153707</td>\n      <td>-0.202806</td>\n      <td>-0.125498</td>\n      <td>-0.153234</td>\n      <td>channel_code_14</td>\n      <td>city_22</td>\n      <td>city_type_0</td>\n      <td>index_city_code_29</td>\n      <td>...</td>\n      <td>-0.028584</td>\n      <td>0.946254</td>\n      <td>0.411172</td>\n      <td>-0.165588</td>\n      <td>0.551103</td>\n      <td>0.507374</td>\n      <td>-0.201123</td>\n      <td>0.255138</td>\n      <td>0.451548</td>\n      <td>{α}</td>\n    </tr>\n    <tr>\n      <th>99996</th>\n      <td>299996</td>\n      <td>month_6</td>\n      <td>-0.154929</td>\n      <td>-0.197878</td>\n      <td>-0.125873</td>\n      <td>-0.154459</td>\n      <td>channel_code_1</td>\n      <td>city_96</td>\n      <td>city_type_0</td>\n      <td>index_city_code_66</td>\n      <td>...</td>\n      <td>-0.028584</td>\n      <td>0.944497</td>\n      <td>0.384773</td>\n      <td>-0.155776</td>\n      <td>0.549755</td>\n      <td>0.507687</td>\n      <td>-0.191186</td>\n      <td>0.252657</td>\n      <td>0.440474</td>\n      <td>{α}</td>\n    </tr>\n    <tr>\n      <th>99997</th>\n      <td>299997</td>\n      <td>month_6</td>\n      <td>-0.105294</td>\n      <td>-0.141429</td>\n      <td>-0.104590</td>\n      <td>-0.104671</td>\n      <td>channel_code_17</td>\n      <td>city_85</td>\n      <td>city_type_0</td>\n      <td>index_city_code_103</td>\n      <td>...</td>\n      <td>-0.028584</td>\n      <td>0.944497</td>\n      <td>0.384773</td>\n      <td>0.087901</td>\n      <td>0.551904</td>\n      <td>0.685465</td>\n      <td>0.090620</td>\n      <td>0.258723</td>\n      <td>0.594320</td>\n      <td>{α}</td>\n    </tr>\n    <tr>\n      <th>99998</th>\n      <td>299998</td>\n      <td>month_6</td>\n      <td>-0.155350</td>\n      <td>-0.203711</td>\n      <td>-0.125995</td>\n      <td>-0.155980</td>\n      <td>channel_code_9</td>\n      <td>city_25</td>\n      <td>city_type_0</td>\n      <td>index_city_code_30</td>\n      <td>...</td>\n      <td>-0.028584</td>\n      <td>0.944497</td>\n      <td>0.384773</td>\n      <td>-0.165588</td>\n      <td>0.546889</td>\n      <td>0.407687</td>\n      <td>-0.201123</td>\n      <td>0.250924</td>\n      <td>0.374540</td>\n      <td>{α}</td>\n    </tr>\n    <tr>\n      <th>99999</th>\n      <td>299999</td>\n      <td>month_6</td>\n      <td>-0.141660</td>\n      <td>-0.156818</td>\n      <td>-0.125894</td>\n      <td>-0.141149</td>\n      <td>channel_code_9</td>\n      <td>city_6</td>\n      <td>city_type_0</td>\n      <td>index_city_code_34</td>\n      <td>...</td>\n      <td>-0.028584</td>\n      <td>0.944497</td>\n      <td>0.384773</td>\n      <td>-0.028842</td>\n      <td>0.556919</td>\n      <td>0.796576</td>\n      <td>-0.011582</td>\n      <td>0.254101</td>\n      <td>0.495419</td>\n      <td>{α}</td>\n    </tr>\n  </tbody>\n</table>\n<p>290120 rows × 92 columns</p>\n</div>"
     },
     "execution_count": 75,
     "metadata": {},
     "output_type": "execute_result"
    }
   ],
   "source": [
    "test_df = pd.concat([test_df[test_df['date'] != 'month_6'],mcr_df])\n",
    "test_df"
   ],
   "metadata": {
    "collapsed": false,
    "ExecuteTime": {
     "end_time": "2024-03-13T19:43:12.652491400Z",
     "start_time": "2024-03-13T19:43:12.399956700Z"
    }
   },
   "id": "333b037a3c164fc3",
   "execution_count": 75
  },
  {
   "cell_type": "code",
   "outputs": [
    {
     "data": {
      "text/plain": "       id     date  balance_amt_avg  balance_amt_max  balance_amt_min  \\\n0  200000  month_4        -0.096224         0.335496        -0.125995   \n1  200000  month_5        -0.024255        -0.059806        -0.124295   \n3  200001  month_4        -0.156722        -0.204920        -0.125856   \n4  200001  month_5        -0.156722        -0.204920        -0.125856   \n6  200002  month_4        -0.096506         0.185905        -0.125995   \n\n   balance_amt_day_avg     channel_code     city    city_type  \\\n0            -0.095578  channel_code_12  city_14  city_type_0   \n1            -0.023381  channel_code_12  city_14  city_type_0   \n3            -0.156258   channel_code_9  city_76  city_type_0   \n4            -0.156258   channel_code_9  city_76  city_type_0   \n6            -0.095856  channel_code_12  city_14  city_type_0   \n\n      index_city_code  ...  sum_cred_g_oper_3m  cnt_cred_g_oper_3m  \\\n0  index_city_code_46  ...            0.010952            0.946066   \n1  index_city_code_46  ...            0.006812            0.945281   \n3  index_city_code_46  ...           -0.028584            0.946254   \n4  index_city_code_46  ...           -0.028584            0.946254   \n6  index_city_code_78  ...            0.510730            0.950774   \n\n  cnt_days_cred_g_oper_3m sum_deb_h_oper_3m  cnt_deb_h_oper_3m  \\\n0                0.407762         -0.153950           0.548895   \n1                0.396267         -0.150505           0.549468   \n3                0.411172         -0.165588           0.551103   \n4                0.411172         -0.165588           0.551103   \n6                0.545693          0.715525           0.554913   \n\n   cnt_days_deb_h_oper_3m  sum_cred_h_oper_3m  cnt_cred_h_oper_3m  \\\n0                0.541020            0.031742            0.257278   \n1                0.552131            0.237817            0.264211   \n3                0.507374           -0.201123            0.255138   \n4                0.507374           -0.201123            0.255138   \n6                0.718798            0.445811            0.254968   \n\n  cnt_days_cred_h_oper_3m start_cluster  \n0                0.561353           {α}  \n1                0.715199           {α}  \n3                0.451548           {α}  \n4                0.451548           {α}  \n6                0.495419       {other}  \n\n[5 rows x 92 columns]",
      "text/html": "<div>\n<style scoped>\n    .dataframe tbody tr th:only-of-type {\n        vertical-align: middle;\n    }\n\n    .dataframe tbody tr th {\n        vertical-align: top;\n    }\n\n    .dataframe thead th {\n        text-align: right;\n    }\n</style>\n<table border=\"1\" class=\"dataframe\">\n  <thead>\n    <tr style=\"text-align: right;\">\n      <th></th>\n      <th>id</th>\n      <th>date</th>\n      <th>balance_amt_avg</th>\n      <th>balance_amt_max</th>\n      <th>balance_amt_min</th>\n      <th>balance_amt_day_avg</th>\n      <th>channel_code</th>\n      <th>city</th>\n      <th>city_type</th>\n      <th>index_city_code</th>\n      <th>...</th>\n      <th>sum_cred_g_oper_3m</th>\n      <th>cnt_cred_g_oper_3m</th>\n      <th>cnt_days_cred_g_oper_3m</th>\n      <th>sum_deb_h_oper_3m</th>\n      <th>cnt_deb_h_oper_3m</th>\n      <th>cnt_days_deb_h_oper_3m</th>\n      <th>sum_cred_h_oper_3m</th>\n      <th>cnt_cred_h_oper_3m</th>\n      <th>cnt_days_cred_h_oper_3m</th>\n      <th>start_cluster</th>\n    </tr>\n  </thead>\n  <tbody>\n    <tr>\n      <th>0</th>\n      <td>200000</td>\n      <td>month_4</td>\n      <td>-0.096224</td>\n      <td>0.335496</td>\n      <td>-0.125995</td>\n      <td>-0.095578</td>\n      <td>channel_code_12</td>\n      <td>city_14</td>\n      <td>city_type_0</td>\n      <td>index_city_code_46</td>\n      <td>...</td>\n      <td>0.010952</td>\n      <td>0.946066</td>\n      <td>0.407762</td>\n      <td>-0.153950</td>\n      <td>0.548895</td>\n      <td>0.541020</td>\n      <td>0.031742</td>\n      <td>0.257278</td>\n      <td>0.561353</td>\n      <td>{α}</td>\n    </tr>\n    <tr>\n      <th>1</th>\n      <td>200000</td>\n      <td>month_5</td>\n      <td>-0.024255</td>\n      <td>-0.059806</td>\n      <td>-0.124295</td>\n      <td>-0.023381</td>\n      <td>channel_code_12</td>\n      <td>city_14</td>\n      <td>city_type_0</td>\n      <td>index_city_code_46</td>\n      <td>...</td>\n      <td>0.006812</td>\n      <td>0.945281</td>\n      <td>0.396267</td>\n      <td>-0.150505</td>\n      <td>0.549468</td>\n      <td>0.552131</td>\n      <td>0.237817</td>\n      <td>0.264211</td>\n      <td>0.715199</td>\n      <td>{α}</td>\n    </tr>\n    <tr>\n      <th>3</th>\n      <td>200001</td>\n      <td>month_4</td>\n      <td>-0.156722</td>\n      <td>-0.204920</td>\n      <td>-0.125856</td>\n      <td>-0.156258</td>\n      <td>channel_code_9</td>\n      <td>city_76</td>\n      <td>city_type_0</td>\n      <td>index_city_code_46</td>\n      <td>...</td>\n      <td>-0.028584</td>\n      <td>0.946254</td>\n      <td>0.411172</td>\n      <td>-0.165588</td>\n      <td>0.551103</td>\n      <td>0.507374</td>\n      <td>-0.201123</td>\n      <td>0.255138</td>\n      <td>0.451548</td>\n      <td>{α}</td>\n    </tr>\n    <tr>\n      <th>4</th>\n      <td>200001</td>\n      <td>month_5</td>\n      <td>-0.156722</td>\n      <td>-0.204920</td>\n      <td>-0.125856</td>\n      <td>-0.156258</td>\n      <td>channel_code_9</td>\n      <td>city_76</td>\n      <td>city_type_0</td>\n      <td>index_city_code_46</td>\n      <td>...</td>\n      <td>-0.028584</td>\n      <td>0.946254</td>\n      <td>0.411172</td>\n      <td>-0.165588</td>\n      <td>0.551103</td>\n      <td>0.507374</td>\n      <td>-0.201123</td>\n      <td>0.255138</td>\n      <td>0.451548</td>\n      <td>{α}</td>\n    </tr>\n    <tr>\n      <th>6</th>\n      <td>200002</td>\n      <td>month_4</td>\n      <td>-0.096506</td>\n      <td>0.185905</td>\n      <td>-0.125995</td>\n      <td>-0.095856</td>\n      <td>channel_code_12</td>\n      <td>city_14</td>\n      <td>city_type_0</td>\n      <td>index_city_code_78</td>\n      <td>...</td>\n      <td>0.510730</td>\n      <td>0.950774</td>\n      <td>0.545693</td>\n      <td>0.715525</td>\n      <td>0.554913</td>\n      <td>0.718798</td>\n      <td>0.445811</td>\n      <td>0.254968</td>\n      <td>0.495419</td>\n      <td>{other}</td>\n    </tr>\n  </tbody>\n</table>\n<p>5 rows × 92 columns</p>\n</div>"
     },
     "execution_count": 76,
     "metadata": {},
     "output_type": "execute_result"
    }
   ],
   "source": [
    "for col in test_df.columns:\n",
    "    if test_df[col].dtype in ['int64', 'float64']:\n",
    "        mean_val = test_df[col].mean()\n",
    "        test_df[col] = test_df[col].fillna(mean_val)\n",
    "    else:\n",
    "        if col != 'start_cluster':\n",
    "            mod_val = test_df[test_df[col].notna()][col].mode()\n",
    "            test_df[col] = test_df[col].fillna(mod_val[0])\n",
    "            test_df[col] = test_df[col].astype(\"category\")\n",
    "test_df['id'] = test_df['id'].astype(int)\n",
    "test_df.head(5)"
   ],
   "metadata": {
    "collapsed": false,
    "ExecuteTime": {
     "end_time": "2024-03-13T19:43:18.816270600Z",
     "start_time": "2024-03-13T19:43:16.745766500Z"
    }
   },
   "id": "a8e857aba465272a",
   "execution_count": 76
  },
  {
   "cell_type": "code",
   "outputs": [],
   "source": [
    "def weighted_roc_auc(y_true, y_pred, labels, weights_dict):\n",
    "    unnorm_weights = np.array([weights_dict[label] for label in labels])\n",
    "    weights = unnorm_weights / unnorm_weights.sum()\n",
    "    classes_roc_auc = roc_auc_score(y_true, y_pred, labels=labels,\n",
    "                                    multi_class=\"ovr\", average=None)\n",
    "    return sum(weights * classes_roc_auc)"
   ],
   "metadata": {
    "collapsed": false,
    "ExecuteTime": {
     "end_time": "2024-03-13T19:43:18.817271900Z",
     "start_time": "2024-03-13T19:43:18.769908100Z"
    }
   },
   "id": "d500cee4aae2c5b7",
   "execution_count": 77
  },
  {
   "cell_type": "code",
   "outputs": [],
   "source": [
    "def calcEntropy(x):\n",
    "    #Function to calculate entropy\n",
    "    #-sum(p_i log_2(p_i)) where pi is each possible value in dataset \n",
    "\n",
    "    stat = pd.Series(x)\n",
    "    stat = stat.value_counts().reset_index()\n",
    "    stat = stat.assign(perc_cnt = stat['count']/ sum(stat['count']))\n",
    "\n",
    "    stat = stat.assign(entropy = -stat['perc_cnt'] * np.log2(stat['perc_cnt']))\n",
    "\n",
    "    stat['total_entropy'] =sum(stat['entropy'])\n",
    "    return sum(stat['entropy'])\n",
    "\n",
    "\n",
    "def calcIG(x, y):\n",
    "    #1.Calc original entropy\n",
    "    entropy_origin = calcEntropy(y)\n",
    "\n",
    "    #2. Calculate entropy after deviding features\n",
    "    x = pd.Series(x)\n",
    "    x_df = x.value_counts().reset_index()\n",
    "    x_df['percCount'] = x_df['count'] / sum(x_df['count'])\n",
    "\n",
    "    #2.1 Check is binarycolumn\n",
    "    if x_df.shape[0]<=2:\n",
    "        x_df['entropy'] = x.apply(lambda bin: calcEntropy(y[x[x==bin].index])[1])\n",
    "    else:\n",
    "\n",
    "        df_ =pd.DataFrame(data=np.array([x,y]).transpose(), columns=['x', 'y']).sort_values(by='x')\n",
    "        df_['moving_average'] = df_['x'].rolling(window=2).mean()\n",
    "        min_entropy, min_aver,min_left,min_right = 1000, 0, 0, 0\n",
    "        print(len(df_['moving_average'][1:].unique()))\n",
    "        aveg_move = df_['moving_average'][1:].unique()\n",
    "        if len(aveg_move) > 100:\n",
    "            _, aveg_move = pd.qcut(df_['moving_average'][1:].unique(), 15,retbins='bins')\n",
    "        for aver in aveg_move:\n",
    "            left_node = df_.query('x < @aver')['y']\n",
    "            right_node = df_.query('x > @aver')['y']\n",
    "            left_node_entropy = calcEntropy(left_node)\n",
    "            right_node_entropy = calcEntropy(right_node)\n",
    "\n",
    "            total_entropy = left_node_entropy * (left_node.shape[0] / df_.shape[0])  + right_node_entropy * (right_node.shape[0] / df_.shape[0])\n",
    "            if total_entropy < min_entropy:\n",
    "                min_entropy = total_entropy\n",
    "                min_left, min_right = left_node_entropy, right_node_entropy\n",
    "                min_aver = aver\n",
    "\n",
    "            #print(f\"С treshold {aver} total weighted entropy=  {total_entropy}\")\n",
    "        left_df = df_[df_['x'] < min_aver]\n",
    "        right_df =df_[df_['x'] >= min_aver]\n",
    "        return pd.DataFrame({\"diff\":[f\"<{min_aver}\", f\">={min_aver}\"],\n",
    "                            \"count\":[left_df.shape[0], right_df.shape[0]] ,\n",
    "                             \"percCount\":[left_df.shape[0] / df_.shape[0], right_df.shape[0]/ df_.shape[0]] ,\n",
    "                             \"entropy\":[min_left, min_right],\n",
    "                             \"weighted_entropy\":[min_left*(left_df.shape[0] / df_.shape[0]), min_right *( right_df.shape[0]/ df_.shape[0])],\n",
    "                            \"name\" : [x.name,x.name]\n",
    "                            \n",
    "                            }),entropy_origin - min_entropy,min_aver\n",
    "\n",
    "    # 3. Calculate weighted average\n",
    "    x_df['weighted_entropy'] = x_df['entropy'] * x_df['percCount']\n",
    "\n",
    "    #4. Calculate Information gain\n",
    "    x_df['IG'] = entropy_origin - sum(x_df['weighted_entropy'] / x_df.shape[0])\n",
    "\n",
    "    return x_df, x_df['IG'][0], 1"
   ],
   "metadata": {
    "collapsed": false,
    "ExecuteTime": {
     "end_time": "2024-03-13T19:43:18.844279400Z",
     "start_time": "2024-03-13T19:43:18.783092800Z"
    }
   },
   "id": "e85927968e7f2e72",
   "execution_count": 78
  },
  {
   "cell_type": "code",
   "outputs": [
    {
     "data": {
      "text/plain": "{'{}': 1,\n '{α, ε, η}': 1,\n '{α, ε, θ}': 1,\n '{α, θ}': 1,\n '{α, π}': 1,\n '{α, ε}': 2,\n '{α, η}': 2,\n '{α, μ}': 2,\n '{α}': 2,\n '{λ}': 2,\n '{other}': 3,\n '{α, β}': 3,\n '{α, γ}': 3,\n '{α, δ}': 3,\n '{α, ε, ψ}': 3,\n '{α, λ}': 3,\n '{α, ψ}': 3}"
     },
     "execution_count": 79,
     "metadata": {},
     "output_type": "execute_result"
    }
   ],
   "source": [
    "cluster_weights = pd.read_excel(\"cluster_weights.xlsx\").set_index(\"cluster\")\n",
    "weights_dict = cluster_weights[\"unnorm_weight\"].to_dict()\n",
    "weights_dict"
   ],
   "metadata": {
    "collapsed": false,
    "ExecuteTime": {
     "end_time": "2024-03-13T19:43:19.010813200Z",
     "start_time": "2024-03-13T19:43:18.982310700Z"
    }
   },
   "id": "c99c205cf9d23d79",
   "execution_count": 79
  },
  {
   "cell_type": "code",
   "outputs": [
    {
     "data": {
      "text/plain": "   id   date_x  balance_amt_avg_x  balance_amt_max_x  balance_amt_min_x  \\\n0   0  month_3           0.692653           0.740253           0.430042   \n1   1  month_3          -0.090605          -0.114275          -0.114119   \n2   2  month_3          -0.148737          -0.187003          -0.112416   \n3   3  month_3          -0.156522          -0.204718          -0.125759   \n4   4  month_3          -0.141798          -0.170262          -0.125672   \n\n   balance_amt_day_avg_x   channel_code_x    city_x    city_type_x  \\\n0               0.695747   channel_code_5   city_23    city_type_0   \n1              -0.089937   channel_code_2   city_14    city_type_0   \n2              -0.148249  channel_code_12  city_613  city_type_306   \n3              -0.156058  channel_code_14   city_21    city_type_0   \n4              -0.141289   channel_code_8   city_21    city_type_0   \n\n    index_city_code_x  ...  cnt_cred_g_oper_3m  cnt_days_cred_g_oper_3m  \\\n0  index_city_code_39  ...            0.951166                 0.568681   \n1  index_city_code_46  ...            0.945281                 0.407762   \n2  index_city_code_46  ...            0.944497                 0.384773   \n3  index_city_code_46  ...            0.944497                 0.384773   \n4  index_city_code_46  ...            0.957443                 0.672129   \n\n  sum_deb_h_oper_3m cnt_deb_h_oper_3m  cnt_days_deb_h_oper_3m  \\\n0          0.897565          0.553624                0.774354   \n1          0.369318          0.567093                0.785465   \n2         -0.165588          0.546889                0.407687   \n3         -0.165588          0.546889                0.407687   \n4         -0.078233          0.558209                0.707687   \n\n   sum_cred_h_oper_3m  cnt_cred_h_oper_3m  cnt_days_cred_h_oper_3m  \\\n0            0.936506            0.295984                 0.967947   \n1           -0.184002            0.253523                 0.462452   \n2           -0.178674            0.252657                 0.440474   \n3           -0.201123            0.250924                 0.374540   \n4           -0.178408            0.252946                 0.440474   \n\n  start_cluster end_cluster  \n0        {α, γ}     {other}  \n1       {other}     {other}  \n2           {α}         {α}  \n3           {α}         {α}  \n4           {α}         {α}  \n\n[5 rows x 277 columns]",
      "text/html": "<div>\n<style scoped>\n    .dataframe tbody tr th:only-of-type {\n        vertical-align: middle;\n    }\n\n    .dataframe tbody tr th {\n        vertical-align: top;\n    }\n\n    .dataframe thead th {\n        text-align: right;\n    }\n</style>\n<table border=\"1\" class=\"dataframe\">\n  <thead>\n    <tr style=\"text-align: right;\">\n      <th></th>\n      <th>id</th>\n      <th>date_x</th>\n      <th>balance_amt_avg_x</th>\n      <th>balance_amt_max_x</th>\n      <th>balance_amt_min_x</th>\n      <th>balance_amt_day_avg_x</th>\n      <th>channel_code_x</th>\n      <th>city_x</th>\n      <th>city_type_x</th>\n      <th>index_city_code_x</th>\n      <th>...</th>\n      <th>cnt_cred_g_oper_3m</th>\n      <th>cnt_days_cred_g_oper_3m</th>\n      <th>sum_deb_h_oper_3m</th>\n      <th>cnt_deb_h_oper_3m</th>\n      <th>cnt_days_deb_h_oper_3m</th>\n      <th>sum_cred_h_oper_3m</th>\n      <th>cnt_cred_h_oper_3m</th>\n      <th>cnt_days_cred_h_oper_3m</th>\n      <th>start_cluster</th>\n      <th>end_cluster</th>\n    </tr>\n  </thead>\n  <tbody>\n    <tr>\n      <th>0</th>\n      <td>0</td>\n      <td>month_3</td>\n      <td>0.692653</td>\n      <td>0.740253</td>\n      <td>0.430042</td>\n      <td>0.695747</td>\n      <td>channel_code_5</td>\n      <td>city_23</td>\n      <td>city_type_0</td>\n      <td>index_city_code_39</td>\n      <td>...</td>\n      <td>0.951166</td>\n      <td>0.568681</td>\n      <td>0.897565</td>\n      <td>0.553624</td>\n      <td>0.774354</td>\n      <td>0.936506</td>\n      <td>0.295984</td>\n      <td>0.967947</td>\n      <td>{α, γ}</td>\n      <td>{other}</td>\n    </tr>\n    <tr>\n      <th>1</th>\n      <td>1</td>\n      <td>month_3</td>\n      <td>-0.090605</td>\n      <td>-0.114275</td>\n      <td>-0.114119</td>\n      <td>-0.089937</td>\n      <td>channel_code_2</td>\n      <td>city_14</td>\n      <td>city_type_0</td>\n      <td>index_city_code_46</td>\n      <td>...</td>\n      <td>0.945281</td>\n      <td>0.407762</td>\n      <td>0.369318</td>\n      <td>0.567093</td>\n      <td>0.785465</td>\n      <td>-0.184002</td>\n      <td>0.253523</td>\n      <td>0.462452</td>\n      <td>{other}</td>\n      <td>{other}</td>\n    </tr>\n    <tr>\n      <th>2</th>\n      <td>2</td>\n      <td>month_3</td>\n      <td>-0.148737</td>\n      <td>-0.187003</td>\n      <td>-0.112416</td>\n      <td>-0.148249</td>\n      <td>channel_code_12</td>\n      <td>city_613</td>\n      <td>city_type_306</td>\n      <td>index_city_code_46</td>\n      <td>...</td>\n      <td>0.944497</td>\n      <td>0.384773</td>\n      <td>-0.165588</td>\n      <td>0.546889</td>\n      <td>0.407687</td>\n      <td>-0.178674</td>\n      <td>0.252657</td>\n      <td>0.440474</td>\n      <td>{α}</td>\n      <td>{α}</td>\n    </tr>\n    <tr>\n      <th>3</th>\n      <td>3</td>\n      <td>month_3</td>\n      <td>-0.156522</td>\n      <td>-0.204718</td>\n      <td>-0.125759</td>\n      <td>-0.156058</td>\n      <td>channel_code_14</td>\n      <td>city_21</td>\n      <td>city_type_0</td>\n      <td>index_city_code_46</td>\n      <td>...</td>\n      <td>0.944497</td>\n      <td>0.384773</td>\n      <td>-0.165588</td>\n      <td>0.546889</td>\n      <td>0.407687</td>\n      <td>-0.201123</td>\n      <td>0.250924</td>\n      <td>0.374540</td>\n      <td>{α}</td>\n      <td>{α}</td>\n    </tr>\n    <tr>\n      <th>4</th>\n      <td>4</td>\n      <td>month_3</td>\n      <td>-0.141798</td>\n      <td>-0.170262</td>\n      <td>-0.125672</td>\n      <td>-0.141289</td>\n      <td>channel_code_8</td>\n      <td>city_21</td>\n      <td>city_type_0</td>\n      <td>index_city_code_46</td>\n      <td>...</td>\n      <td>0.957443</td>\n      <td>0.672129</td>\n      <td>-0.078233</td>\n      <td>0.558209</td>\n      <td>0.707687</td>\n      <td>-0.178408</td>\n      <td>0.252946</td>\n      <td>0.440474</td>\n      <td>{α}</td>\n      <td>{α}</td>\n    </tr>\n  </tbody>\n</table>\n<p>5 rows × 277 columns</p>\n</div>"
     },
     "execution_count": 80,
     "metadata": {},
     "output_type": "execute_result"
    }
   ],
   "source": [
    "m1_df = train_df[train_df['date'] == 'month_1']\n",
    "m2_df = train_df[train_df['date'] == 'month_2']\n",
    "m3_df = train_df[train_df['date'] == 'month_3']\n",
    "df = m3_df.merge(m2_df,on='id',how='left')\n",
    "df = df.merge(m1_df,on='id',how='left')\n",
    "df.head(5)"
   ],
   "metadata": {
    "collapsed": false,
    "ExecuteTime": {
     "end_time": "2024-03-13T19:43:22.819063400Z",
     "start_time": "2024-03-13T19:43:21.601824200Z"
    }
   },
   "id": "84319412cefb3bc9",
   "execution_count": 80
  },
  {
   "cell_type": "code",
   "outputs": [
    {
     "data": {
      "text/plain": "   id  balance_amt_avg_x  balance_amt_max_x  balance_amt_min_x  \\\n0   0           0.692653           0.740253           0.430042   \n1   1          -0.090605          -0.114275          -0.114119   \n2   2          -0.148737          -0.187003          -0.112416   \n3   3          -0.156522          -0.204718          -0.125759   \n4   4          -0.141798          -0.170262          -0.125672   \n\n   balance_amt_day_avg_x   channel_code_x    city_x    city_type_x  \\\n0               0.695747   channel_code_5   city_23    city_type_0   \n1              -0.089937   channel_code_2   city_14    city_type_0   \n2              -0.148249  channel_code_12  city_613  city_type_306   \n3              -0.156058  channel_code_14   city_21    city_type_0   \n4              -0.141289   channel_code_8   city_21    city_type_0   \n\n    index_city_code_x  ogrn_days_end_month_x  ...  cnt_cred_g_oper_3m  \\\n0  index_city_code_39              -0.488553  ...            0.951166   \n1  index_city_code_46               0.324343  ...            0.945281   \n2  index_city_code_46              -0.256297  ...            0.944497   \n3  index_city_code_46              -1.185321  ...            0.944497   \n4  index_city_code_46              -1.417577  ...            0.957443   \n\n  cnt_days_cred_g_oper_3m sum_deb_h_oper_3m  cnt_deb_h_oper_3m  \\\n0                0.568681          0.897565           0.553624   \n1                0.407762          0.369318           0.567093   \n2                0.384773         -0.165588           0.546889   \n3                0.384773         -0.165588           0.546889   \n4                0.672129         -0.078233           0.558209   \n\n   cnt_days_deb_h_oper_3m  sum_cred_h_oper_3m  cnt_cred_h_oper_3m  \\\n0                0.774354            0.936506            0.295984   \n1                0.785465           -0.184002            0.253523   \n2                0.407687           -0.178674            0.252657   \n3                0.407687           -0.201123            0.250924   \n4                0.707687           -0.178408            0.252946   \n\n  cnt_days_cred_h_oper_3m start_cluster  end_cluster  \n0                0.967947        {α, γ}      {other}  \n1                0.462452       {other}      {other}  \n2                0.440474           {α}          {α}  \n3                0.374540           {α}          {α}  \n4                0.440474           {α}          {α}  \n\n[5 rows x 274 columns]",
      "text/html": "<div>\n<style scoped>\n    .dataframe tbody tr th:only-of-type {\n        vertical-align: middle;\n    }\n\n    .dataframe tbody tr th {\n        vertical-align: top;\n    }\n\n    .dataframe thead th {\n        text-align: right;\n    }\n</style>\n<table border=\"1\" class=\"dataframe\">\n  <thead>\n    <tr style=\"text-align: right;\">\n      <th></th>\n      <th>id</th>\n      <th>balance_amt_avg_x</th>\n      <th>balance_amt_max_x</th>\n      <th>balance_amt_min_x</th>\n      <th>balance_amt_day_avg_x</th>\n      <th>channel_code_x</th>\n      <th>city_x</th>\n      <th>city_type_x</th>\n      <th>index_city_code_x</th>\n      <th>ogrn_days_end_month_x</th>\n      <th>...</th>\n      <th>cnt_cred_g_oper_3m</th>\n      <th>cnt_days_cred_g_oper_3m</th>\n      <th>sum_deb_h_oper_3m</th>\n      <th>cnt_deb_h_oper_3m</th>\n      <th>cnt_days_deb_h_oper_3m</th>\n      <th>sum_cred_h_oper_3m</th>\n      <th>cnt_cred_h_oper_3m</th>\n      <th>cnt_days_cred_h_oper_3m</th>\n      <th>start_cluster</th>\n      <th>end_cluster</th>\n    </tr>\n  </thead>\n  <tbody>\n    <tr>\n      <th>0</th>\n      <td>0</td>\n      <td>0.692653</td>\n      <td>0.740253</td>\n      <td>0.430042</td>\n      <td>0.695747</td>\n      <td>channel_code_5</td>\n      <td>city_23</td>\n      <td>city_type_0</td>\n      <td>index_city_code_39</td>\n      <td>-0.488553</td>\n      <td>...</td>\n      <td>0.951166</td>\n      <td>0.568681</td>\n      <td>0.897565</td>\n      <td>0.553624</td>\n      <td>0.774354</td>\n      <td>0.936506</td>\n      <td>0.295984</td>\n      <td>0.967947</td>\n      <td>{α, γ}</td>\n      <td>{other}</td>\n    </tr>\n    <tr>\n      <th>1</th>\n      <td>1</td>\n      <td>-0.090605</td>\n      <td>-0.114275</td>\n      <td>-0.114119</td>\n      <td>-0.089937</td>\n      <td>channel_code_2</td>\n      <td>city_14</td>\n      <td>city_type_0</td>\n      <td>index_city_code_46</td>\n      <td>0.324343</td>\n      <td>...</td>\n      <td>0.945281</td>\n      <td>0.407762</td>\n      <td>0.369318</td>\n      <td>0.567093</td>\n      <td>0.785465</td>\n      <td>-0.184002</td>\n      <td>0.253523</td>\n      <td>0.462452</td>\n      <td>{other}</td>\n      <td>{other}</td>\n    </tr>\n    <tr>\n      <th>2</th>\n      <td>2</td>\n      <td>-0.148737</td>\n      <td>-0.187003</td>\n      <td>-0.112416</td>\n      <td>-0.148249</td>\n      <td>channel_code_12</td>\n      <td>city_613</td>\n      <td>city_type_306</td>\n      <td>index_city_code_46</td>\n      <td>-0.256297</td>\n      <td>...</td>\n      <td>0.944497</td>\n      <td>0.384773</td>\n      <td>-0.165588</td>\n      <td>0.546889</td>\n      <td>0.407687</td>\n      <td>-0.178674</td>\n      <td>0.252657</td>\n      <td>0.440474</td>\n      <td>{α}</td>\n      <td>{α}</td>\n    </tr>\n    <tr>\n      <th>3</th>\n      <td>3</td>\n      <td>-0.156522</td>\n      <td>-0.204718</td>\n      <td>-0.125759</td>\n      <td>-0.156058</td>\n      <td>channel_code_14</td>\n      <td>city_21</td>\n      <td>city_type_0</td>\n      <td>index_city_code_46</td>\n      <td>-1.185321</td>\n      <td>...</td>\n      <td>0.944497</td>\n      <td>0.384773</td>\n      <td>-0.165588</td>\n      <td>0.546889</td>\n      <td>0.407687</td>\n      <td>-0.201123</td>\n      <td>0.250924</td>\n      <td>0.374540</td>\n      <td>{α}</td>\n      <td>{α}</td>\n    </tr>\n    <tr>\n      <th>4</th>\n      <td>4</td>\n      <td>-0.141798</td>\n      <td>-0.170262</td>\n      <td>-0.125672</td>\n      <td>-0.141289</td>\n      <td>channel_code_8</td>\n      <td>city_21</td>\n      <td>city_type_0</td>\n      <td>index_city_code_46</td>\n      <td>-1.417577</td>\n      <td>...</td>\n      <td>0.957443</td>\n      <td>0.672129</td>\n      <td>-0.078233</td>\n      <td>0.558209</td>\n      <td>0.707687</td>\n      <td>-0.178408</td>\n      <td>0.252946</td>\n      <td>0.440474</td>\n      <td>{α}</td>\n      <td>{α}</td>\n    </tr>\n  </tbody>\n</table>\n<p>5 rows × 274 columns</p>\n</div>"
     },
     "execution_count": 81,
     "metadata": {},
     "output_type": "execute_result"
    }
   ],
   "source": [
    "train_df = df\n",
    "train_df = train_df.drop(['date','date_x','date_y'],axis=1)\n",
    "train_df.head(5)"
   ],
   "metadata": {
    "collapsed": false,
    "ExecuteTime": {
     "end_time": "2024-03-13T19:43:24.715042500Z",
     "start_time": "2024-03-13T19:43:24.599458Z"
    }
   },
   "id": "11eab584125cb353",
   "execution_count": 81
  },
  {
   "cell_type": "code",
   "outputs": [
    {
     "data": {
      "text/plain": "       id   date_x  balance_amt_avg_x  balance_amt_max_x  balance_amt_min_x  \\\n0  200000  month_6           0.045988           0.049418          -0.125995   \n1  200001  month_6          -0.156722          -0.204920          -0.125856   \n2  200002  month_6          -0.048015           0.448252          -0.125995   \n3  200003  month_6          -0.156579          -0.204813          -0.125501   \n4  200004  month_6          -0.153379          -0.201932          -0.125995   \n\n   balance_amt_day_avg_x   channel_code_x   city_x  city_type_x  \\\n0               0.047079  channel_code_12  city_14  city_type_0   \n1              -0.156258   channel_code_9  city_76  city_type_0   \n2              -0.047215  channel_code_12  city_14  city_type_0   \n3              -0.156115   channel_code_7  city_31  city_type_0   \n4              -0.154155   channel_code_7   city_0  city_type_0   \n\n    index_city_code_x  ...  sum_cred_g_oper_3m  cnt_cred_g_oper_3m  \\\n0  index_city_code_46  ...            0.010952            0.946066   \n1  index_city_code_46  ...           -0.028584            0.946254   \n2  index_city_code_78  ...            0.510730            0.950774   \n3  index_city_code_46  ...           -0.028584            0.946254   \n4  index_city_code_46  ...                 NaN                 NaN   \n\n  cnt_days_cred_g_oper_3m sum_deb_h_oper_3m  cnt_deb_h_oper_3m  \\\n0                0.407762         -0.153950           0.548895   \n1                0.411172         -0.165588           0.551103   \n2                0.545693          0.715525           0.554913   \n3                0.411172         -0.165588           0.551103   \n4                     NaN               NaN                NaN   \n\n   cnt_days_deb_h_oper_3m  sum_cred_h_oper_3m  cnt_cred_h_oper_3m  \\\n0                0.541020            0.031742            0.257278   \n1                0.507374           -0.201123            0.255138   \n2                0.718798            0.445811            0.254968   \n3                0.507374           -0.201123            0.255138   \n4                     NaN                 NaN                 NaN   \n\n  cnt_days_cred_h_oper_3m start_cluster  \n0                0.561353           {α}  \n1                0.451548           {α}  \n2                0.495419       {other}  \n3                0.451548           {α}  \n4                     NaN           NaN  \n\n[5 rows x 274 columns]",
      "text/html": "<div>\n<style scoped>\n    .dataframe tbody tr th:only-of-type {\n        vertical-align: middle;\n    }\n\n    .dataframe tbody tr th {\n        vertical-align: top;\n    }\n\n    .dataframe thead th {\n        text-align: right;\n    }\n</style>\n<table border=\"1\" class=\"dataframe\">\n  <thead>\n    <tr style=\"text-align: right;\">\n      <th></th>\n      <th>id</th>\n      <th>date_x</th>\n      <th>balance_amt_avg_x</th>\n      <th>balance_amt_max_x</th>\n      <th>balance_amt_min_x</th>\n      <th>balance_amt_day_avg_x</th>\n      <th>channel_code_x</th>\n      <th>city_x</th>\n      <th>city_type_x</th>\n      <th>index_city_code_x</th>\n      <th>...</th>\n      <th>sum_cred_g_oper_3m</th>\n      <th>cnt_cred_g_oper_3m</th>\n      <th>cnt_days_cred_g_oper_3m</th>\n      <th>sum_deb_h_oper_3m</th>\n      <th>cnt_deb_h_oper_3m</th>\n      <th>cnt_days_deb_h_oper_3m</th>\n      <th>sum_cred_h_oper_3m</th>\n      <th>cnt_cred_h_oper_3m</th>\n      <th>cnt_days_cred_h_oper_3m</th>\n      <th>start_cluster</th>\n    </tr>\n  </thead>\n  <tbody>\n    <tr>\n      <th>0</th>\n      <td>200000</td>\n      <td>month_6</td>\n      <td>0.045988</td>\n      <td>0.049418</td>\n      <td>-0.125995</td>\n      <td>0.047079</td>\n      <td>channel_code_12</td>\n      <td>city_14</td>\n      <td>city_type_0</td>\n      <td>index_city_code_46</td>\n      <td>...</td>\n      <td>0.010952</td>\n      <td>0.946066</td>\n      <td>0.407762</td>\n      <td>-0.153950</td>\n      <td>0.548895</td>\n      <td>0.541020</td>\n      <td>0.031742</td>\n      <td>0.257278</td>\n      <td>0.561353</td>\n      <td>{α}</td>\n    </tr>\n    <tr>\n      <th>1</th>\n      <td>200001</td>\n      <td>month_6</td>\n      <td>-0.156722</td>\n      <td>-0.204920</td>\n      <td>-0.125856</td>\n      <td>-0.156258</td>\n      <td>channel_code_9</td>\n      <td>city_76</td>\n      <td>city_type_0</td>\n      <td>index_city_code_46</td>\n      <td>...</td>\n      <td>-0.028584</td>\n      <td>0.946254</td>\n      <td>0.411172</td>\n      <td>-0.165588</td>\n      <td>0.551103</td>\n      <td>0.507374</td>\n      <td>-0.201123</td>\n      <td>0.255138</td>\n      <td>0.451548</td>\n      <td>{α}</td>\n    </tr>\n    <tr>\n      <th>2</th>\n      <td>200002</td>\n      <td>month_6</td>\n      <td>-0.048015</td>\n      <td>0.448252</td>\n      <td>-0.125995</td>\n      <td>-0.047215</td>\n      <td>channel_code_12</td>\n      <td>city_14</td>\n      <td>city_type_0</td>\n      <td>index_city_code_78</td>\n      <td>...</td>\n      <td>0.510730</td>\n      <td>0.950774</td>\n      <td>0.545693</td>\n      <td>0.715525</td>\n      <td>0.554913</td>\n      <td>0.718798</td>\n      <td>0.445811</td>\n      <td>0.254968</td>\n      <td>0.495419</td>\n      <td>{other}</td>\n    </tr>\n    <tr>\n      <th>3</th>\n      <td>200003</td>\n      <td>month_6</td>\n      <td>-0.156579</td>\n      <td>-0.204813</td>\n      <td>-0.125501</td>\n      <td>-0.156115</td>\n      <td>channel_code_7</td>\n      <td>city_31</td>\n      <td>city_type_0</td>\n      <td>index_city_code_46</td>\n      <td>...</td>\n      <td>-0.028584</td>\n      <td>0.946254</td>\n      <td>0.411172</td>\n      <td>-0.165588</td>\n      <td>0.551103</td>\n      <td>0.507374</td>\n      <td>-0.201123</td>\n      <td>0.255138</td>\n      <td>0.451548</td>\n      <td>{α}</td>\n    </tr>\n    <tr>\n      <th>4</th>\n      <td>200004</td>\n      <td>month_6</td>\n      <td>-0.153379</td>\n      <td>-0.201932</td>\n      <td>-0.125995</td>\n      <td>-0.154155</td>\n      <td>channel_code_7</td>\n      <td>city_0</td>\n      <td>city_type_0</td>\n      <td>index_city_code_46</td>\n      <td>...</td>\n      <td>NaN</td>\n      <td>NaN</td>\n      <td>NaN</td>\n      <td>NaN</td>\n      <td>NaN</td>\n      <td>NaN</td>\n      <td>NaN</td>\n      <td>NaN</td>\n      <td>NaN</td>\n      <td>NaN</td>\n    </tr>\n  </tbody>\n</table>\n<p>5 rows × 274 columns</p>\n</div>"
     },
     "execution_count": 82,
     "metadata": {},
     "output_type": "execute_result"
    }
   ],
   "source": [
    "m1_df = test_df[test_df['date'] == 'month_4']\n",
    "m2_df = test_df[test_df['date'] == 'month_5']\n",
    "m3_df = test_df[test_df['date'] == 'month_6']\n",
    "df = m3_df.merge(m2_df,on='id',how='left')\n",
    "df = df.merge(m1_df,on='id',how='left')\n",
    "df.head(5)"
   ],
   "metadata": {
    "collapsed": false,
    "ExecuteTime": {
     "end_time": "2024-03-13T19:43:31.734003900Z",
     "start_time": "2024-03-13T19:43:30.994490100Z"
    }
   },
   "id": "78a8aa1ae998b015",
   "execution_count": 82
  },
  {
   "cell_type": "code",
   "outputs": [],
   "source": [
    "test_df = df \n",
    "test_df = test_df.drop(['date','date_x','date_y'],axis=1)"
   ],
   "metadata": {
    "collapsed": false,
    "ExecuteTime": {
     "end_time": "2024-03-13T19:43:33.819911100Z",
     "start_time": "2024-03-13T19:43:33.735179800Z"
    }
   },
   "id": "5573cf55d43a3935",
   "execution_count": 83
  },
  {
   "cell_type": "code",
   "outputs": [
    {
     "data": {
      "text/plain": "   id  balance_amt_avg_x  balance_amt_max_x  balance_amt_min_x  \\\n0   0           0.692653           0.740253           0.430042   \n1   1          -0.090605          -0.114275          -0.114119   \n2   2          -0.148737          -0.187003          -0.112416   \n3   3          -0.156522          -0.204718          -0.125759   \n4   4          -0.141798          -0.170262          -0.125672   \n\n   balance_amt_day_avg_x   channel_code_x    city_x    city_type_x  \\\n0               0.695747   channel_code_5   city_23    city_type_0   \n1              -0.089937   channel_code_2   city_14    city_type_0   \n2              -0.148249  channel_code_12  city_613  city_type_306   \n3              -0.156058  channel_code_14   city_21    city_type_0   \n4              -0.141289   channel_code_8   city_21    city_type_0   \n\n    index_city_code_x  ogrn_days_end_month_x  ...  cnt_cred_g_oper_3m  \\\n0  index_city_code_39              -0.488553  ...            0.951166   \n1  index_city_code_46               0.324343  ...            0.945281   \n2  index_city_code_46              -0.256297  ...            0.944497   \n3  index_city_code_46              -1.185321  ...            0.944497   \n4  index_city_code_46              -1.417577  ...            0.957443   \n\n  cnt_days_cred_g_oper_3m sum_deb_h_oper_3m  cnt_deb_h_oper_3m  \\\n0                0.568681          0.897565           0.553624   \n1                0.407762          0.369318           0.567093   \n2                0.384773         -0.165588           0.546889   \n3                0.384773         -0.165588           0.546889   \n4                0.672129         -0.078233           0.558209   \n\n   cnt_days_deb_h_oper_3m  sum_cred_h_oper_3m  cnt_cred_h_oper_3m  \\\n0                0.774354            0.936506            0.295984   \n1                0.785465           -0.184002            0.253523   \n2                0.407687           -0.178674            0.252657   \n3                0.407687           -0.201123            0.250924   \n4                0.707687           -0.178408            0.252946   \n\n  cnt_days_cred_h_oper_3m start_cluster  end_cluster  \n0                0.967947        {α, γ}      {other}  \n1                0.462452       {other}      {other}  \n2                0.440474           {α}          {α}  \n3                0.374540           {α}          {α}  \n4                0.440474           {α}          {α}  \n\n[5 rows x 274 columns]",
      "text/html": "<div>\n<style scoped>\n    .dataframe tbody tr th:only-of-type {\n        vertical-align: middle;\n    }\n\n    .dataframe tbody tr th {\n        vertical-align: top;\n    }\n\n    .dataframe thead th {\n        text-align: right;\n    }\n</style>\n<table border=\"1\" class=\"dataframe\">\n  <thead>\n    <tr style=\"text-align: right;\">\n      <th></th>\n      <th>id</th>\n      <th>balance_amt_avg_x</th>\n      <th>balance_amt_max_x</th>\n      <th>balance_amt_min_x</th>\n      <th>balance_amt_day_avg_x</th>\n      <th>channel_code_x</th>\n      <th>city_x</th>\n      <th>city_type_x</th>\n      <th>index_city_code_x</th>\n      <th>ogrn_days_end_month_x</th>\n      <th>...</th>\n      <th>cnt_cred_g_oper_3m</th>\n      <th>cnt_days_cred_g_oper_3m</th>\n      <th>sum_deb_h_oper_3m</th>\n      <th>cnt_deb_h_oper_3m</th>\n      <th>cnt_days_deb_h_oper_3m</th>\n      <th>sum_cred_h_oper_3m</th>\n      <th>cnt_cred_h_oper_3m</th>\n      <th>cnt_days_cred_h_oper_3m</th>\n      <th>start_cluster</th>\n      <th>end_cluster</th>\n    </tr>\n  </thead>\n  <tbody>\n    <tr>\n      <th>0</th>\n      <td>0</td>\n      <td>0.692653</td>\n      <td>0.740253</td>\n      <td>0.430042</td>\n      <td>0.695747</td>\n      <td>channel_code_5</td>\n      <td>city_23</td>\n      <td>city_type_0</td>\n      <td>index_city_code_39</td>\n      <td>-0.488553</td>\n      <td>...</td>\n      <td>0.951166</td>\n      <td>0.568681</td>\n      <td>0.897565</td>\n      <td>0.553624</td>\n      <td>0.774354</td>\n      <td>0.936506</td>\n      <td>0.295984</td>\n      <td>0.967947</td>\n      <td>{α, γ}</td>\n      <td>{other}</td>\n    </tr>\n    <tr>\n      <th>1</th>\n      <td>1</td>\n      <td>-0.090605</td>\n      <td>-0.114275</td>\n      <td>-0.114119</td>\n      <td>-0.089937</td>\n      <td>channel_code_2</td>\n      <td>city_14</td>\n      <td>city_type_0</td>\n      <td>index_city_code_46</td>\n      <td>0.324343</td>\n      <td>...</td>\n      <td>0.945281</td>\n      <td>0.407762</td>\n      <td>0.369318</td>\n      <td>0.567093</td>\n      <td>0.785465</td>\n      <td>-0.184002</td>\n      <td>0.253523</td>\n      <td>0.462452</td>\n      <td>{other}</td>\n      <td>{other}</td>\n    </tr>\n    <tr>\n      <th>2</th>\n      <td>2</td>\n      <td>-0.148737</td>\n      <td>-0.187003</td>\n      <td>-0.112416</td>\n      <td>-0.148249</td>\n      <td>channel_code_12</td>\n      <td>city_613</td>\n      <td>city_type_306</td>\n      <td>index_city_code_46</td>\n      <td>-0.256297</td>\n      <td>...</td>\n      <td>0.944497</td>\n      <td>0.384773</td>\n      <td>-0.165588</td>\n      <td>0.546889</td>\n      <td>0.407687</td>\n      <td>-0.178674</td>\n      <td>0.252657</td>\n      <td>0.440474</td>\n      <td>{α}</td>\n      <td>{α}</td>\n    </tr>\n    <tr>\n      <th>3</th>\n      <td>3</td>\n      <td>-0.156522</td>\n      <td>-0.204718</td>\n      <td>-0.125759</td>\n      <td>-0.156058</td>\n      <td>channel_code_14</td>\n      <td>city_21</td>\n      <td>city_type_0</td>\n      <td>index_city_code_46</td>\n      <td>-1.185321</td>\n      <td>...</td>\n      <td>0.944497</td>\n      <td>0.384773</td>\n      <td>-0.165588</td>\n      <td>0.546889</td>\n      <td>0.407687</td>\n      <td>-0.201123</td>\n      <td>0.250924</td>\n      <td>0.374540</td>\n      <td>{α}</td>\n      <td>{α}</td>\n    </tr>\n    <tr>\n      <th>4</th>\n      <td>4</td>\n      <td>-0.141798</td>\n      <td>-0.170262</td>\n      <td>-0.125672</td>\n      <td>-0.141289</td>\n      <td>channel_code_8</td>\n      <td>city_21</td>\n      <td>city_type_0</td>\n      <td>index_city_code_46</td>\n      <td>-1.417577</td>\n      <td>...</td>\n      <td>0.957443</td>\n      <td>0.672129</td>\n      <td>-0.078233</td>\n      <td>0.558209</td>\n      <td>0.707687</td>\n      <td>-0.178408</td>\n      <td>0.252946</td>\n      <td>0.440474</td>\n      <td>{α}</td>\n      <td>{α}</td>\n    </tr>\n  </tbody>\n</table>\n<p>5 rows × 274 columns</p>\n</div>"
     },
     "execution_count": 84,
     "metadata": {},
     "output_type": "execute_result"
    }
   ],
   "source": [
    "train_df.head(5)"
   ],
   "metadata": {
    "collapsed": false,
    "ExecuteTime": {
     "end_time": "2024-03-13T19:43:37.827909100Z",
     "start_time": "2024-03-13T19:43:37.767130100Z"
    }
   },
   "id": "9940e11e045cb9c0",
   "execution_count": 84
  },
  {
   "cell_type": "code",
   "outputs": [
    {
     "data": {
      "text/plain": "       id  balance_amt_avg_x  balance_amt_max_x  balance_amt_min_x  \\\n0  200000           0.045988           0.049418          -0.125995   \n1  200001          -0.156722          -0.204920          -0.125856   \n2  200002          -0.048015           0.448252          -0.125995   \n3  200003          -0.156579          -0.204813          -0.125501   \n4  200004          -0.153379          -0.201932          -0.125995   \n\n   balance_amt_day_avg_x   channel_code_x   city_x  city_type_x  \\\n0               0.047079  channel_code_12  city_14  city_type_0   \n1              -0.156258   channel_code_9  city_76  city_type_0   \n2              -0.047215  channel_code_12  city_14  city_type_0   \n3              -0.156115   channel_code_7  city_31  city_type_0   \n4              -0.154155   channel_code_7   city_0  city_type_0   \n\n    index_city_code_x  ogrn_days_end_month_x  ...  sum_cred_g_oper_3m  \\\n0  index_city_code_46              -1.533705  ...            0.010952   \n1  index_city_code_46               0.092087  ...           -0.028584   \n2  index_city_code_78              -1.069193  ...            0.510730   \n3  index_city_code_46              -0.256297  ...           -0.028584   \n4  index_city_code_46               0.672727  ...                 NaN   \n\n  cnt_cred_g_oper_3m cnt_days_cred_g_oper_3m  sum_deb_h_oper_3m  \\\n0           0.946066                0.407762          -0.153950   \n1           0.946254                0.411172          -0.165588   \n2           0.950774                0.545693           0.715525   \n3           0.946254                0.411172          -0.165588   \n4                NaN                     NaN                NaN   \n\n   cnt_deb_h_oper_3m  cnt_days_deb_h_oper_3m  sum_cred_h_oper_3m  \\\n0           0.548895                0.541020            0.031742   \n1           0.551103                0.507374           -0.201123   \n2           0.554913                0.718798            0.445811   \n3           0.551103                0.507374           -0.201123   \n4                NaN                     NaN                 NaN   \n\n  cnt_cred_h_oper_3m cnt_days_cred_h_oper_3m  start_cluster  \n0           0.257278                0.561353            {α}  \n1           0.255138                0.451548            {α}  \n2           0.254968                0.495419        {other}  \n3           0.255138                0.451548            {α}  \n4                NaN                     NaN            NaN  \n\n[5 rows x 271 columns]",
      "text/html": "<div>\n<style scoped>\n    .dataframe tbody tr th:only-of-type {\n        vertical-align: middle;\n    }\n\n    .dataframe tbody tr th {\n        vertical-align: top;\n    }\n\n    .dataframe thead th {\n        text-align: right;\n    }\n</style>\n<table border=\"1\" class=\"dataframe\">\n  <thead>\n    <tr style=\"text-align: right;\">\n      <th></th>\n      <th>id</th>\n      <th>balance_amt_avg_x</th>\n      <th>balance_amt_max_x</th>\n      <th>balance_amt_min_x</th>\n      <th>balance_amt_day_avg_x</th>\n      <th>channel_code_x</th>\n      <th>city_x</th>\n      <th>city_type_x</th>\n      <th>index_city_code_x</th>\n      <th>ogrn_days_end_month_x</th>\n      <th>...</th>\n      <th>sum_cred_g_oper_3m</th>\n      <th>cnt_cred_g_oper_3m</th>\n      <th>cnt_days_cred_g_oper_3m</th>\n      <th>sum_deb_h_oper_3m</th>\n      <th>cnt_deb_h_oper_3m</th>\n      <th>cnt_days_deb_h_oper_3m</th>\n      <th>sum_cred_h_oper_3m</th>\n      <th>cnt_cred_h_oper_3m</th>\n      <th>cnt_days_cred_h_oper_3m</th>\n      <th>start_cluster</th>\n    </tr>\n  </thead>\n  <tbody>\n    <tr>\n      <th>0</th>\n      <td>200000</td>\n      <td>0.045988</td>\n      <td>0.049418</td>\n      <td>-0.125995</td>\n      <td>0.047079</td>\n      <td>channel_code_12</td>\n      <td>city_14</td>\n      <td>city_type_0</td>\n      <td>index_city_code_46</td>\n      <td>-1.533705</td>\n      <td>...</td>\n      <td>0.010952</td>\n      <td>0.946066</td>\n      <td>0.407762</td>\n      <td>-0.153950</td>\n      <td>0.548895</td>\n      <td>0.541020</td>\n      <td>0.031742</td>\n      <td>0.257278</td>\n      <td>0.561353</td>\n      <td>{α}</td>\n    </tr>\n    <tr>\n      <th>1</th>\n      <td>200001</td>\n      <td>-0.156722</td>\n      <td>-0.204920</td>\n      <td>-0.125856</td>\n      <td>-0.156258</td>\n      <td>channel_code_9</td>\n      <td>city_76</td>\n      <td>city_type_0</td>\n      <td>index_city_code_46</td>\n      <td>0.092087</td>\n      <td>...</td>\n      <td>-0.028584</td>\n      <td>0.946254</td>\n      <td>0.411172</td>\n      <td>-0.165588</td>\n      <td>0.551103</td>\n      <td>0.507374</td>\n      <td>-0.201123</td>\n      <td>0.255138</td>\n      <td>0.451548</td>\n      <td>{α}</td>\n    </tr>\n    <tr>\n      <th>2</th>\n      <td>200002</td>\n      <td>-0.048015</td>\n      <td>0.448252</td>\n      <td>-0.125995</td>\n      <td>-0.047215</td>\n      <td>channel_code_12</td>\n      <td>city_14</td>\n      <td>city_type_0</td>\n      <td>index_city_code_78</td>\n      <td>-1.069193</td>\n      <td>...</td>\n      <td>0.510730</td>\n      <td>0.950774</td>\n      <td>0.545693</td>\n      <td>0.715525</td>\n      <td>0.554913</td>\n      <td>0.718798</td>\n      <td>0.445811</td>\n      <td>0.254968</td>\n      <td>0.495419</td>\n      <td>{other}</td>\n    </tr>\n    <tr>\n      <th>3</th>\n      <td>200003</td>\n      <td>-0.156579</td>\n      <td>-0.204813</td>\n      <td>-0.125501</td>\n      <td>-0.156115</td>\n      <td>channel_code_7</td>\n      <td>city_31</td>\n      <td>city_type_0</td>\n      <td>index_city_code_46</td>\n      <td>-0.256297</td>\n      <td>...</td>\n      <td>-0.028584</td>\n      <td>0.946254</td>\n      <td>0.411172</td>\n      <td>-0.165588</td>\n      <td>0.551103</td>\n      <td>0.507374</td>\n      <td>-0.201123</td>\n      <td>0.255138</td>\n      <td>0.451548</td>\n      <td>{α}</td>\n    </tr>\n    <tr>\n      <th>4</th>\n      <td>200004</td>\n      <td>-0.153379</td>\n      <td>-0.201932</td>\n      <td>-0.125995</td>\n      <td>-0.154155</td>\n      <td>channel_code_7</td>\n      <td>city_0</td>\n      <td>city_type_0</td>\n      <td>index_city_code_46</td>\n      <td>0.672727</td>\n      <td>...</td>\n      <td>NaN</td>\n      <td>NaN</td>\n      <td>NaN</td>\n      <td>NaN</td>\n      <td>NaN</td>\n      <td>NaN</td>\n      <td>NaN</td>\n      <td>NaN</td>\n      <td>NaN</td>\n      <td>NaN</td>\n    </tr>\n  </tbody>\n</table>\n<p>5 rows × 271 columns</p>\n</div>"
     },
     "execution_count": 85,
     "metadata": {},
     "output_type": "execute_result"
    }
   ],
   "source": [
    "test_df.head(5)"
   ],
   "metadata": {
    "collapsed": false,
    "ExecuteTime": {
     "end_time": "2024-03-13T19:43:42.160348100Z",
     "start_time": "2024-03-13T19:43:42.104407600Z"
    }
   },
   "id": "f426093c9777f79f",
   "execution_count": 85
  },
  {
   "cell_type": "code",
   "outputs": [],
   "source": [
    "for col in train_df.columns:\n",
    "    if train_df[col].dtype in ['int64', 'float64']:\n",
    "        mean_val = train_df[col].mean()\n",
    "        train_df[col] = train_df[col].fillna(mean_val)\n",
    "    else:\n",
    "        mod_val = train_df[train_df[col].notna()][col].mode()\n",
    "        train_df[col] = train_df[col].fillna(mod_val[0])\n",
    "        train_df[col] = train_df[col].astype(\"category\")\n",
    "for col in test_df.columns:\n",
    "    if test_df[col].dtype in ['int64', 'float64']:\n",
    "        mean_val = test_df[col].mean()\n",
    "        test_df[col] = test_df[col].fillna(mean_val)\n",
    "    else:\n",
    "            mod_val = test_df[test_df[col].notna()][col].mode()\n",
    "            test_df[col] = test_df[col].fillna(mod_val[0])\n",
    "            test_df[col] = test_df[col].astype(\"category\")"
   ],
   "metadata": {
    "collapsed": false,
    "ExecuteTime": {
     "end_time": "2024-03-13T19:44:04.753582300Z",
     "start_time": "2024-03-13T19:43:45.254850900Z"
    }
   },
   "id": "fa558b482682474b",
   "execution_count": 86
  },
  {
   "cell_type": "code",
   "outputs": [
    {
     "name": "stdout",
     "output_type": "stream",
     "text": [
      "balance_amt_avg_x 166712\n",
      "balance_amt_max_x 155324\n",
      "balance_amt_min_x 121862\n",
      "balance_amt_day_avg_x 165846\n",
      "channel_code_x 85\n",
      "city_x 12829\n",
      "city_type_x 10909\n",
      "index_city_code_x 455\n",
      "ogrn_days_end_month_x 63\n",
      "ogrn_days_end_quarter_x 185\n",
      "ogrn_month_x 23\n",
      "ogrn_year_x 41\n",
      "ft_registration_date_x 9998\n",
      "max_founderpres_x 9497\n",
      "min_founderpres_x 9284\n",
      "ogrn_exist_months_x 475\n",
      "okved_x 173\n",
      "segment_x 7\n",
      "sum_of_paym_2m_x 118985\n",
      "sum_of_paym_6m_x 136719\n",
      "sum_of_paym_1y_x 147160\n",
      "sum_a_oper_1m_x 6095\n",
      "cnt_a_oper_1m_x 138\n",
      "sum_b_oper_1m_x 1619\n",
      "cnt_b_oper_1m_x 60\n",
      "sum_c_oper_1m_x 29450\n",
      "cnt_c_oper_1m_x 647\n",
      "sum_deb_d_oper_1m_x 33720\n",
      "cnt_deb_d_oper_1m_x 192\n",
      "sum_cred_d_oper_1m_x 7506\n",
      "cnt_cred_d_oper_1m_x 195\n",
      "sum_deb_e_oper_1m_x 121350\n",
      "cnt_deb_e_oper_1m_x 1640\n",
      "cnt_days_deb_e_oper_1m_x 65\n",
      "sum_cred_e_oper_1m_x 100953\n",
      "cnt_cred_e_oper_1m_x 1251\n",
      "cnt_days_cred_e_oper_1m_x 65\n",
      "sum_deb_f_oper_1m_x 48848\n",
      "cnt_deb_f_oper_1m_x 412\n",
      "cnt_days_deb_f_oper_1m_x 65\n",
      "sum_cred_f_oper_1m_x 4076\n",
      "cnt_cred_f_oper_1m_x 195\n",
      "cnt_days_cred_f_oper_1m_x 63\n",
      "sum_deb_g_oper_1m_x 58580\n",
      "cnt_deb_g_oper_1m_x 394\n",
      "cnt_days_deb_g_oper_1m_x 65\n",
      "sum_cred_g_oper_1m_x 20836\n",
      "cnt_cred_g_oper_1m_x 416\n",
      "cnt_days_cred_g_oper_1m_x 64\n",
      "sum_deb_h_oper_1m_x 67162\n",
      "cnt_deb_h_oper_1m_x 856\n",
      "cnt_days_deb_h_oper_1m_x 65\n",
      "sum_cred_h_oper_1m_x 56589\n",
      "cnt_cred_h_oper_1m_x 634\n",
      "cnt_days_cred_h_oper_1m_x 65\n",
      "sum_a_oper_3m_x 11347\n",
      "cnt_a_oper_3m_x 276\n",
      "sum_b_oper_3m_x 2625\n",
      "cnt_b_oper_3m_x 135\n",
      "sum_c_oper_3m_x 36984\n",
      "cnt_c_oper_3m_x 1340\n",
      "sum_deb_d_oper_3m_x 43060\n",
      "cnt_deb_d_oper_3m_x 376\n",
      "sum_cred_d_oper_3m_x 10421\n",
      "cnt_cred_d_oper_3m_x 367\n",
      "sum_deb_e_oper_3m_x 135767\n",
      "cnt_deb_e_oper_3m_x 3147\n",
      "cnt_days_deb_e_oper_3m_x 185\n",
      "sum_cred_e_oper_3m_x 119981\n",
      "cnt_cred_e_oper_3m_x 2220\n",
      "cnt_days_cred_e_oper_3m_x 185\n",
      "sum_deb_f_oper_3m_x 68054\n",
      "cnt_deb_f_oper_3m_x 793\n",
      "cnt_days_deb_f_oper_3m_x 180\n",
      "sum_cred_f_oper_3m_x 6421\n",
      "cnt_cred_f_oper_3m_x 311\n",
      "cnt_days_cred_f_oper_3m_x 140\n",
      "sum_deb_g_oper_3m_x 75812\n",
      "cnt_deb_g_oper_3m_x 816\n",
      "cnt_days_deb_g_oper_3m_x 173\n",
      "sum_cred_g_oper_3m_x 31291\n",
      "cnt_cred_g_oper_3m_x 764\n",
      "cnt_days_cred_g_oper_3m_x 159\n",
      "sum_deb_h_oper_3m_x 81241\n",
      "cnt_deb_h_oper_3m_x 1740\n",
      "cnt_days_deb_h_oper_3m_x 166\n",
      "sum_cred_h_oper_3m_x 76439\n",
      "cnt_cred_h_oper_3m_x 1248\n",
      "cnt_days_cred_h_oper_3m_x 179\n",
      "start_cluster_x 33\n",
      "balance_amt_avg_y 158833\n",
      "balance_amt_max_y 149236\n",
      "balance_amt_min_y 122357\n",
      "balance_amt_day_avg_y 158428\n",
      "channel_code_y 85\n",
      "city_y 12230\n",
      "city_type_y 10316\n",
      "index_city_code_y 454\n",
      "ogrn_days_end_month_y 63\n",
      "ogrn_days_end_quarter_y 185\n",
      "ogrn_month_y 23\n",
      "ogrn_year_y 41\n",
      "ft_registration_date_y 9947\n",
      "max_founderpres_y 9422\n",
      "min_founderpres_y 9204\n",
      "ogrn_exist_months_y 473\n",
      "okved_y 174\n",
      "segment_y 7\n",
      "sum_of_paym_2m_y 116846\n",
      "sum_of_paym_6m_y 130815\n",
      "sum_of_paym_1y_y 141126\n",
      "sum_a_oper_1m_y 5323\n",
      "cnt_a_oper_1m_y 125\n",
      "sum_b_oper_1m_y 1499\n",
      "cnt_b_oper_1m_y 50\n",
      "sum_c_oper_1m_y 27858\n",
      "cnt_c_oper_1m_y 616\n",
      "sum_deb_d_oper_1m_y 30214\n",
      "cnt_deb_d_oper_1m_y 170\n",
      "sum_cred_d_oper_1m_y 6800\n",
      "cnt_cred_d_oper_1m_y 172\n",
      "sum_deb_e_oper_1m_y 113343\n",
      "cnt_deb_e_oper_1m_y 1379\n",
      "cnt_days_deb_e_oper_1m_y 65\n",
      "sum_cred_e_oper_1m_y 93276\n",
      "cnt_cred_e_oper_1m_y 1071\n",
      "cnt_days_cred_e_oper_1m_y 65\n",
      "sum_deb_f_oper_1m_y 40656\n",
      "cnt_deb_f_oper_1m_y 342\n",
      "cnt_days_deb_f_oper_1m_y 65\n",
      "sum_cred_f_oper_1m_y 3346\n",
      "cnt_cred_f_oper_1m_y 168\n",
      "cnt_days_cred_f_oper_1m_y 51\n",
      "sum_deb_g_oper_1m_y 51623\n",
      "cnt_deb_g_oper_1m_y 343\n",
      "cnt_days_deb_g_oper_1m_y 62\n",
      "sum_cred_g_oper_1m_y 18315\n",
      "cnt_cred_g_oper_1m_y 343\n",
      "cnt_days_cred_g_oper_1m_y 58\n",
      "sum_deb_h_oper_1m_y 61136\n",
      "cnt_deb_h_oper_1m_y 702\n",
      "cnt_days_deb_h_oper_1m_y 56\n",
      "sum_cred_h_oper_1m_y 50400\n",
      "cnt_cred_h_oper_1m_y 544\n",
      "cnt_days_cred_h_oper_1m_y 61\n",
      "sum_a_oper_3m_y 11089\n",
      "cnt_a_oper_3m_y 271\n",
      "sum_b_oper_3m_y 2467\n",
      "cnt_b_oper_3m_y 135\n",
      "sum_c_oper_3m_y 35307\n",
      "cnt_c_oper_3m_y 1324\n",
      "sum_deb_d_oper_3m_y 42066\n",
      "cnt_deb_d_oper_3m_y 377\n",
      "sum_cred_d_oper_3m_y 10250\n",
      "cnt_cred_d_oper_3m_y 357\n",
      "sum_deb_e_oper_3m_y 129518\n",
      "cnt_deb_e_oper_3m_y 3115\n",
      "cnt_days_deb_e_oper_3m_y 185\n",
      "sum_cred_e_oper_3m_y 115294\n",
      "cnt_cred_e_oper_3m_y 2208\n",
      "cnt_days_cred_e_oper_3m_y 185\n",
      "sum_deb_f_oper_3m_y 65715\n",
      "cnt_deb_f_oper_3m_y 789\n",
      "cnt_days_deb_f_oper_3m_y 178\n",
      "sum_cred_f_oper_3m_y 6175\n",
      "cnt_cred_f_oper_3m_y 307\n",
      "cnt_days_cred_f_oper_3m_y 138\n",
      "sum_deb_g_oper_3m_y 73441\n",
      "cnt_deb_g_oper_3m_y 812\n",
      "cnt_days_deb_g_oper_3m_y 172\n",
      "sum_cred_g_oper_3m_y 30637\n",
      "cnt_cred_g_oper_3m_y 751\n",
      "cnt_days_cred_g_oper_3m_y 157\n",
      "sum_deb_h_oper_3m_y 78621\n",
      "cnt_deb_h_oper_3m_y 1733\n",
      "cnt_days_deb_h_oper_3m_y 169\n",
      "sum_cred_h_oper_3m_y 74087\n",
      "cnt_cred_h_oper_3m_y 1261\n",
      "cnt_days_cred_h_oper_3m_y 178\n",
      "start_cluster_y 33\n",
      "balance_amt_avg 154275\n",
      "balance_amt_max 145867\n",
      "balance_amt_min 117634\n",
      "balance_amt_day_avg 153924\n",
      "channel_code 85\n",
      "city 11746\n",
      "city_type 9842\n",
      "index_city_code 452\n",
      "ogrn_days_end_month 63\n",
      "ogrn_days_end_quarter 185\n",
      "ogrn_month 23\n",
      "ogrn_year 41\n",
      "ft_registration_date 9901\n",
      "max_founderpres 9354\n",
      "min_founderpres 9136\n",
      "ogrn_exist_months 472\n",
      "okved 173\n",
      "segment 7\n",
      "sum_of_paym_2m 114953\n",
      "sum_of_paym_6m 127717\n",
      "sum_of_paym_1y 137250\n",
      "sum_a_oper_1m 6430\n",
      "cnt_a_oper_1m 135\n",
      "sum_b_oper_1m 1652\n",
      "cnt_b_oper_1m 58\n",
      "sum_c_oper_1m 28319\n",
      "cnt_c_oper_1m 612\n",
      "sum_deb_d_oper_1m 33588\n",
      "cnt_deb_d_oper_1m 198\n",
      "sum_cred_d_oper_1m 7829\n",
      "cnt_cred_d_oper_1m 197\n",
      "sum_deb_e_oper_1m 115835\n",
      "cnt_deb_e_oper_1m 1653\n",
      "cnt_days_deb_e_oper_1m 65\n",
      "sum_cred_e_oper_1m 91268\n",
      "cnt_cred_e_oper_1m 1224\n",
      "cnt_days_cred_e_oper_1m 65\n",
      "sum_deb_f_oper_1m 49873\n",
      "cnt_deb_f_oper_1m 442\n",
      "cnt_days_deb_f_oper_1m 65\n",
      "sum_cred_f_oper_1m 3895\n",
      "cnt_cred_f_oper_1m 190\n",
      "cnt_days_cred_f_oper_1m 60\n",
      "sum_deb_g_oper_1m 58706\n",
      "cnt_deb_g_oper_1m 446\n",
      "cnt_days_deb_g_oper_1m 65\n",
      "sum_cred_g_oper_1m 21484\n",
      "cnt_cred_g_oper_1m 409\n",
      "cnt_days_cred_g_oper_1m 62\n",
      "sum_deb_h_oper_1m 65275\n",
      "cnt_deb_h_oper_1m 903\n",
      "cnt_days_deb_h_oper_1m 64\n",
      "sum_cred_h_oper_1m 58656\n",
      "cnt_cred_h_oper_1m 680\n",
      "cnt_days_cred_h_oper_1m 65\n",
      "sum_a_oper_3m 11418\n",
      "cnt_a_oper_3m 283\n",
      "sum_b_oper_3m 2332\n",
      "cnt_b_oper_3m 142\n",
      "sum_c_oper_3m 34509\n",
      "cnt_c_oper_3m 1332\n",
      "sum_deb_d_oper_3m 41777\n",
      "cnt_deb_d_oper_3m 388\n",
      "sum_cred_d_oper_3m 10332\n",
      "cnt_cred_d_oper_3m 376\n",
      "sum_deb_e_oper_3m 126809\n",
      "cnt_deb_e_oper_3m 3250\n",
      "cnt_days_deb_e_oper_3m 185\n",
      "sum_cred_e_oper_3m 113048\n",
      "cnt_cred_e_oper_3m 2260\n",
      "cnt_days_cred_e_oper_3m 185\n",
      "sum_deb_f_oper_3m 66123\n",
      "cnt_deb_f_oper_3m 828\n",
      "cnt_days_deb_f_oper_3m 185\n",
      "sum_cred_f_oper_3m 6284\n",
      "cnt_cred_f_oper_3m 316\n",
      "cnt_days_cred_f_oper_3m 147\n",
      "sum_deb_g_oper_3m 72485\n",
      "cnt_deb_g_oper_3m 831\n",
      "cnt_days_deb_g_oper_3m 169\n",
      "sum_cred_g_oper_3m 31119\n",
      "cnt_cred_g_oper_3m 802\n",
      "cnt_days_cred_g_oper_3m 162\n",
      "sum_deb_h_oper_3m 77896\n",
      "cnt_deb_h_oper_3m 1879\n",
      "cnt_days_deb_h_oper_3m 173\n",
      "sum_cred_h_oper_3m 73991\n",
      "cnt_cred_h_oper_3m 1343\n",
      "cnt_days_cred_h_oper_3m 181\n",
      "start_cluster 33\n"
     ]
    }
   ],
   "source": [
    "from sklearn.preprocessing import LabelEncoder\n",
    "label_encoder = LabelEncoder()\n",
    "y = label_encoder.fit_transform(train_df['end_cluster_x'])\n",
    "mypdf = pd.DataFrame()\n",
    "trend = []\n",
    "mina = []\n",
    "info = []\n",
    "col_list = []\n",
    "for col in train_df.columns:\n",
    "    if col in ['id',\"end_cluster_x\",'end_cluster_y','end_cluster']:continue\n",
    "    x = train_df[col]\n",
    "    print(col,end=' ')\n",
    "    if x.dtype in ('category','object'):\n",
    "        x = label_encoder.fit_transform(x)\n",
    "    stat,trend_entr,min_aver = calcIG(x,y)\n",
    "    trend.append(trend_entr)\n",
    "    mina.append(min_aver)\n",
    "    col_list.append(col)\n",
    "    mypdf = pd.concat([mypdf, stat])"
   ],
   "metadata": {
    "collapsed": false,
    "ExecuteTime": {
     "end_time": "2024-03-13T19:45:38.363838600Z",
     "start_time": "2024-03-13T19:44:04.754580600Z"
    }
   },
   "id": "d84ba564c51eef23",
   "execution_count": 87
  },
  {
   "cell_type": "code",
   "outputs": [
    {
     "data": {
      "text/plain": "     entropy_change   min_aver                  feature\n0          0.096960  -0.152721        balance_amt_avg_x\n1          0.124642  -0.202255        balance_amt_max_x\n2          0.388460  -0.125995        balance_amt_min_x\n3          0.096390  -0.152208    balance_amt_day_avg_x\n4          0.435250  43.000000           channel_code_x\n..              ...        ...                      ...\n265        0.464091   0.407687   cnt_days_deb_h_oper_3m\n266        0.131432  -0.196819       sum_cred_h_oper_3m\n267        0.548466   0.250924       cnt_cred_h_oper_3m\n268        0.548466   0.374540  cnt_days_cred_h_oper_3m\n269        1.049310  15.000000            start_cluster\n\n[270 rows x 3 columns]",
      "text/html": "<div>\n<style scoped>\n    .dataframe tbody tr th:only-of-type {\n        vertical-align: middle;\n    }\n\n    .dataframe tbody tr th {\n        vertical-align: top;\n    }\n\n    .dataframe thead th {\n        text-align: right;\n    }\n</style>\n<table border=\"1\" class=\"dataframe\">\n  <thead>\n    <tr style=\"text-align: right;\">\n      <th></th>\n      <th>entropy_change</th>\n      <th>min_aver</th>\n      <th>feature</th>\n    </tr>\n  </thead>\n  <tbody>\n    <tr>\n      <th>0</th>\n      <td>0.096960</td>\n      <td>-0.152721</td>\n      <td>balance_amt_avg_x</td>\n    </tr>\n    <tr>\n      <th>1</th>\n      <td>0.124642</td>\n      <td>-0.202255</td>\n      <td>balance_amt_max_x</td>\n    </tr>\n    <tr>\n      <th>2</th>\n      <td>0.388460</td>\n      <td>-0.125995</td>\n      <td>balance_amt_min_x</td>\n    </tr>\n    <tr>\n      <th>3</th>\n      <td>0.096390</td>\n      <td>-0.152208</td>\n      <td>balance_amt_day_avg_x</td>\n    </tr>\n    <tr>\n      <th>4</th>\n      <td>0.435250</td>\n      <td>43.000000</td>\n      <td>channel_code_x</td>\n    </tr>\n    <tr>\n      <th>...</th>\n      <td>...</td>\n      <td>...</td>\n      <td>...</td>\n    </tr>\n    <tr>\n      <th>265</th>\n      <td>0.464091</td>\n      <td>0.407687</td>\n      <td>cnt_days_deb_h_oper_3m</td>\n    </tr>\n    <tr>\n      <th>266</th>\n      <td>0.131432</td>\n      <td>-0.196819</td>\n      <td>sum_cred_h_oper_3m</td>\n    </tr>\n    <tr>\n      <th>267</th>\n      <td>0.548466</td>\n      <td>0.250924</td>\n      <td>cnt_cred_h_oper_3m</td>\n    </tr>\n    <tr>\n      <th>268</th>\n      <td>0.548466</td>\n      <td>0.374540</td>\n      <td>cnt_days_cred_h_oper_3m</td>\n    </tr>\n    <tr>\n      <th>269</th>\n      <td>1.049310</td>\n      <td>15.000000</td>\n      <td>start_cluster</td>\n    </tr>\n  </tbody>\n</table>\n<p>270 rows × 3 columns</p>\n</div>"
     },
     "execution_count": 88,
     "metadata": {},
     "output_type": "execute_result"
    }
   ],
   "source": [
    "entropy_df = pd.DataFrame(columns = ['entropy_change','min_aver','feature'])\n",
    "entropy_df['entropy_change'] = trend\n",
    "entropy_df['min_aver'] = mina \n",
    "entropy_df['feature'] = col_list\n",
    "entropy_df"
   ],
   "metadata": {
    "collapsed": false,
    "ExecuteTime": {
     "end_time": "2024-03-13T19:45:38.378868600Z",
     "start_time": "2024-03-13T19:45:38.365237900Z"
    }
   },
   "id": "225585e1127baae2",
   "execution_count": 88
  },
  {
   "cell_type": "code",
   "outputs": [
    {
     "data": {
      "text/plain": "['city_type',\n 'city_type_y',\n 'city_type_x',\n 'cnt_b_oper_3m_x',\n 'cnt_b_oper_1m_x',\n 'cnt_cred_f_oper_3m_x',\n 'cnt_days_cred_f_oper_3m_x',\n 'cnt_days_cred_f_oper_1m_x',\n 'cnt_cred_f_oper_1m_x',\n 'cnt_cred_d_oper_3m_x',\n 'cnt_b_oper_3m_y',\n 'cnt_cred_d_oper_1m_x',\n 'cnt_b_oper_1m_y',\n 'cnt_cred_f_oper_3m_y',\n 'cnt_days_cred_f_oper_3m_y',\n 'cnt_b_oper_3m',\n 'cnt_days_cred_f_oper_1m_y',\n 'cnt_cred_f_oper_1m_y',\n 'cnt_cred_d_oper_3m_y',\n 'cnt_cred_d_oper_1m_y',\n 'cnt_b_oper_1m',\n 'cnt_days_cred_f_oper_3m',\n 'cnt_cred_f_oper_3m',\n 'cnt_days_cred_f_oper_1m',\n 'cnt_cred_f_oper_1m',\n 'cnt_a_oper_1m_x',\n 'cnt_cred_d_oper_3m',\n 'cnt_a_oper_3m_x',\n 'cnt_cred_d_oper_1m',\n 'cnt_a_oper_1m_y',\n 'cnt_a_oper_3m_y',\n 'cnt_a_oper_3m',\n 'cnt_a_oper_1m',\n 'segment',\n 'cnt_c_oper_1m_x',\n 'cnt_c_oper_3m_x',\n 'cnt_days_cred_g_oper_1m_x',\n 'cnt_cred_g_oper_1m_x',\n 'segment_y',\n 'segment_x',\n 'cnt_days_cred_g_oper_1m_y',\n 'cnt_cred_g_oper_1m_y',\n 'cnt_c_oper_1m_y',\n 'cnt_c_oper_3m_y',\n 'start_cluster_x',\n 'cnt_cred_g_oper_3m_x',\n 'cnt_days_cred_g_oper_3m_x',\n 'cnt_c_oper_3m',\n 'cnt_c_oper_1m',\n 'start_cluster_y',\n 'cnt_cred_g_oper_1m',\n 'cnt_days_cred_g_oper_1m',\n 'cnt_cred_g_oper_3m_y',\n 'cnt_days_cred_g_oper_3m_y',\n 'start_cluster',\n 'cnt_days_cred_g_oper_3m',\n 'cnt_cred_g_oper_3m',\n 'cnt_deb_d_oper_1m_x',\n 'cnt_deb_d_oper_3m_x',\n 'cnt_deb_d_oper_1m_y']"
     },
     "execution_count": 89,
     "metadata": {},
     "output_type": "execute_result"
    }
   ],
   "source": [
    "cols_features = entropy_df.sort_values(by='entropy_change', ascending=False).iloc[:60]['feature'].tolist()\n",
    "cols_features"
   ],
   "metadata": {
    "collapsed": false,
    "ExecuteTime": {
     "end_time": "2024-03-13T19:45:38.384331300Z",
     "start_time": "2024-03-13T19:45:38.377869300Z"
    }
   },
   "id": "f318d44ed26ff81",
   "execution_count": 89
  },
  {
   "cell_type": "code",
   "outputs": [],
   "source": [
    "train_df = train_df[cols_features + ['end_cluster_x']]\n",
    "test_df = test_df[cols_features]"
   ],
   "metadata": {
    "collapsed": false,
    "ExecuteTime": {
     "end_time": "2024-03-13T19:46:11.252706800Z",
     "start_time": "2024-03-13T19:46:11.122515500Z"
    }
   },
   "id": "a2df6cccbc8dbaa1",
   "execution_count": 90
  },
  {
   "cell_type": "code",
   "outputs": [],
   "source": [
    "X = train_df.drop(['end_cluster_x'],axis= 1)\n",
    "Z = test_df[cols_features]\n",
    "y = train_df[\"end_cluster_x\"]\n",
    "n_models = 15\n",
    "k = X.shape[1] // n_models\n",
    "d_model = {}\n",
    "for i in range(n_models):\n",
    "    X_train = X.iloc[:,i*k:(i+1)*k]\n",
    "    X_test = Z.iloc[:,i*k:(i+1)*k]\n",
    "    Y = y\n",
    "    cat_f = X_train.select_dtypes(exclude=['number']).columns.to_list()\n",
    "    d_model[i] = (X_train, Y,X_test,cat_f)\n"
   ],
   "metadata": {
    "collapsed": false,
    "ExecuteTime": {
     "end_time": "2024-03-13T19:46:16.488484700Z",
     "start_time": "2024-03-13T19:46:16.324585300Z"
    }
   },
   "id": "a56c06c07e2f2841",
   "execution_count": 91
  },
  {
   "cell_type": "code",
   "outputs": [
    {
     "name": "stdout",
     "output_type": "stream",
     "text": [
      "0:\tlearn: 1.6367321\ttotal: 1.18s\tremaining: 57.7s\n",
      "1:\tlearn: 1.5176970\ttotal: 1.96s\tremaining: 47s\n",
      "2:\tlearn: 1.4547825\ttotal: 2.77s\tremaining: 43.4s\n",
      "3:\tlearn: 1.4172414\ttotal: 3.55s\tremaining: 40.8s\n",
      "4:\tlearn: 1.3933184\ttotal: 4.49s\tremaining: 40.4s\n",
      "5:\tlearn: 1.3782799\ttotal: 5.4s\tremaining: 39.6s\n",
      "6:\tlearn: 1.3687695\ttotal: 6.22s\tremaining: 38.2s\n",
      "7:\tlearn: 1.3612642\ttotal: 7.13s\tremaining: 37.4s\n",
      "8:\tlearn: 1.3566261\ttotal: 7.94s\tremaining: 36.2s\n",
      "9:\tlearn: 1.3518204\ttotal: 8.9s\tremaining: 35.6s\n",
      "10:\tlearn: 1.3493288\ttotal: 9.78s\tremaining: 34.7s\n",
      "11:\tlearn: 1.3477907\ttotal: 10.9s\tremaining: 34.4s\n",
      "12:\tlearn: 1.3467838\ttotal: 11.9s\tremaining: 33.8s\n",
      "13:\tlearn: 1.3456712\ttotal: 12.9s\tremaining: 33.1s\n",
      "14:\tlearn: 1.3452322\ttotal: 14s\tremaining: 32.6s\n",
      "15:\tlearn: 1.3447886\ttotal: 15s\tremaining: 31.8s\n",
      "16:\tlearn: 1.3445193\ttotal: 16.2s\tremaining: 31.5s\n",
      "17:\tlearn: 1.3444114\ttotal: 17.1s\tremaining: 30.3s\n",
      "18:\tlearn: 1.3442744\ttotal: 18s\tremaining: 29.3s\n",
      "19:\tlearn: 1.3438086\ttotal: 19s\tremaining: 28.5s\n",
      "20:\tlearn: 1.3437293\ttotal: 20s\tremaining: 27.6s\n",
      "21:\tlearn: 1.3436499\ttotal: 20.6s\tremaining: 26.2s\n",
      "22:\tlearn: 1.3435911\ttotal: 21.2s\tremaining: 24.9s\n",
      "23:\tlearn: 1.3435441\ttotal: 21.9s\tremaining: 23.7s\n",
      "24:\tlearn: 1.3432482\ttotal: 22.5s\tremaining: 22.5s\n",
      "25:\tlearn: 1.3432238\ttotal: 23.2s\tremaining: 21.4s\n",
      "26:\tlearn: 1.3430310\ttotal: 23.8s\tremaining: 20.3s\n",
      "27:\tlearn: 1.3430141\ttotal: 24.5s\tremaining: 19.2s\n",
      "28:\tlearn: 1.3428288\ttotal: 25.1s\tremaining: 18.2s\n",
      "29:\tlearn: 1.3426725\ttotal: 25.7s\tremaining: 17.1s\n",
      "30:\tlearn: 1.3426246\ttotal: 26.3s\tremaining: 16.1s\n",
      "31:\tlearn: 1.3424935\ttotal: 27s\tremaining: 15.2s\n",
      "32:\tlearn: 1.3424524\ttotal: 27.6s\tremaining: 14.2s\n",
      "33:\tlearn: 1.3424131\ttotal: 28.2s\tremaining: 13.3s\n",
      "34:\tlearn: 1.3423145\ttotal: 28.8s\tremaining: 12.4s\n",
      "35:\tlearn: 1.3423024\ttotal: 29.5s\tremaining: 11.5s\n",
      "36:\tlearn: 1.3422907\ttotal: 30.1s\tremaining: 10.6s\n",
      "37:\tlearn: 1.3422673\ttotal: 30.7s\tremaining: 9.7s\n",
      "38:\tlearn: 1.3422623\ttotal: 31.3s\tremaining: 8.83s\n",
      "39:\tlearn: 1.3422529\ttotal: 31.9s\tremaining: 7.98s\n",
      "40:\tlearn: 1.3422200\ttotal: 32.5s\tremaining: 7.14s\n",
      "41:\tlearn: 1.3422042\ttotal: 33.2s\tremaining: 6.32s\n",
      "42:\tlearn: 1.3421728\ttotal: 33.8s\tremaining: 5.5s\n",
      "43:\tlearn: 1.3421485\ttotal: 34.4s\tremaining: 4.7s\n",
      "44:\tlearn: 1.3420405\ttotal: 35.1s\tremaining: 3.9s\n",
      "45:\tlearn: 1.3419813\ttotal: 35.7s\tremaining: 3.1s\n",
      "46:\tlearn: 1.3419717\ttotal: 36.3s\tremaining: 2.32s\n",
      "47:\tlearn: 1.3419578\ttotal: 37s\tremaining: 1.54s\n",
      "48:\tlearn: 1.3418209\ttotal: 37.6s\tremaining: 767ms\n",
      "49:\tlearn: 1.3417673\ttotal: 38.2s\tremaining: 0us\n",
      "0:\tlearn: 1.6266203\ttotal: 173ms\tremaining: 8.48s\n",
      "1:\tlearn: 1.5068292\ttotal: 345ms\tremaining: 8.28s\n",
      "2:\tlearn: 1.4462103\ttotal: 522ms\tremaining: 8.19s\n",
      "3:\tlearn: 1.4061182\ttotal: 697ms\tremaining: 8.01s\n",
      "4:\tlearn: 1.3796979\ttotal: 875ms\tremaining: 7.88s\n",
      "5:\tlearn: 1.3627148\ttotal: 1.05s\tremaining: 7.71s\n",
      "6:\tlearn: 1.3521220\ttotal: 1.23s\tremaining: 7.53s\n",
      "7:\tlearn: 1.3438456\ttotal: 1.4s\tremaining: 7.33s\n",
      "8:\tlearn: 1.3391291\ttotal: 1.58s\tremaining: 7.18s\n",
      "9:\tlearn: 1.3361394\ttotal: 1.75s\tremaining: 6.99s\n",
      "10:\tlearn: 1.3341705\ttotal: 1.92s\tremaining: 6.8s\n",
      "11:\tlearn: 1.3325131\ttotal: 2.09s\tremaining: 6.61s\n",
      "12:\tlearn: 1.3310161\ttotal: 2.27s\tremaining: 6.45s\n",
      "13:\tlearn: 1.3297126\ttotal: 2.44s\tremaining: 6.26s\n",
      "14:\tlearn: 1.3291727\ttotal: 2.6s\tremaining: 6.08s\n",
      "15:\tlearn: 1.3288460\ttotal: 2.77s\tremaining: 5.89s\n",
      "16:\tlearn: 1.3285696\ttotal: 2.94s\tremaining: 5.72s\n",
      "17:\tlearn: 1.3284377\ttotal: 3.12s\tremaining: 5.55s\n",
      "18:\tlearn: 1.3278805\ttotal: 3.3s\tremaining: 5.38s\n",
      "19:\tlearn: 1.3275527\ttotal: 3.48s\tremaining: 5.22s\n",
      "20:\tlearn: 1.3274061\ttotal: 3.66s\tremaining: 5.05s\n",
      "21:\tlearn: 1.3273726\ttotal: 3.83s\tremaining: 4.87s\n",
      "22:\tlearn: 1.3272580\ttotal: 4s\tremaining: 4.7s\n",
      "23:\tlearn: 1.3272390\ttotal: 4.17s\tremaining: 4.52s\n",
      "24:\tlearn: 1.3272095\ttotal: 4.35s\tremaining: 4.35s\n",
      "25:\tlearn: 1.3271674\ttotal: 4.51s\tremaining: 4.17s\n",
      "26:\tlearn: 1.3271309\ttotal: 4.69s\tremaining: 3.99s\n",
      "27:\tlearn: 1.3271172\ttotal: 4.85s\tremaining: 3.81s\n",
      "28:\tlearn: 1.3270866\ttotal: 5.02s\tremaining: 3.63s\n",
      "29:\tlearn: 1.3270615\ttotal: 5.19s\tremaining: 3.46s\n",
      "30:\tlearn: 1.3270034\ttotal: 5.37s\tremaining: 3.29s\n",
      "31:\tlearn: 1.3269510\ttotal: 5.55s\tremaining: 3.12s\n",
      "32:\tlearn: 1.3269392\ttotal: 5.72s\tremaining: 2.95s\n",
      "33:\tlearn: 1.3269334\ttotal: 5.89s\tremaining: 2.77s\n",
      "34:\tlearn: 1.3269158\ttotal: 6.07s\tremaining: 2.6s\n",
      "35:\tlearn: 1.3267339\ttotal: 6.24s\tremaining: 2.43s\n",
      "36:\tlearn: 1.3267272\ttotal: 6.41s\tremaining: 2.25s\n",
      "37:\tlearn: 1.3267204\ttotal: 6.59s\tremaining: 2.08s\n",
      "38:\tlearn: 1.3267062\ttotal: 6.76s\tremaining: 1.91s\n",
      "39:\tlearn: 1.3266923\ttotal: 6.93s\tremaining: 1.73s\n",
      "40:\tlearn: 1.3265351\ttotal: 7.11s\tremaining: 1.56s\n",
      "41:\tlearn: 1.3265198\ttotal: 7.27s\tremaining: 1.38s\n",
      "42:\tlearn: 1.3265031\ttotal: 7.44s\tremaining: 1.21s\n",
      "43:\tlearn: 1.3264461\ttotal: 7.61s\tremaining: 1.04s\n",
      "44:\tlearn: 1.3264269\ttotal: 7.79s\tremaining: 865ms\n",
      "45:\tlearn: 1.3264114\ttotal: 7.96s\tremaining: 692ms\n",
      "46:\tlearn: 1.3264043\ttotal: 8.13s\tremaining: 519ms\n",
      "47:\tlearn: 1.3263963\ttotal: 8.3s\tremaining: 346ms\n",
      "48:\tlearn: 1.3263895\ttotal: 8.47s\tremaining: 173ms\n",
      "49:\tlearn: 1.3263555\ttotal: 8.63s\tremaining: 0us\n",
      "0:\tlearn: 1.6347264\ttotal: 178ms\tremaining: 8.71s\n",
      "1:\tlearn: 1.5100186\ttotal: 358ms\tremaining: 8.59s\n",
      "2:\tlearn: 1.4417616\ttotal: 543ms\tremaining: 8.51s\n",
      "3:\tlearn: 1.4012863\ttotal: 723ms\tremaining: 8.32s\n",
      "4:\tlearn: 1.3743537\ttotal: 904ms\tremaining: 8.14s\n",
      "5:\tlearn: 1.3550837\ttotal: 1.09s\tremaining: 7.98s\n",
      "6:\tlearn: 1.3424408\ttotal: 1.28s\tremaining: 7.87s\n",
      "7:\tlearn: 1.3339222\ttotal: 1.47s\tremaining: 7.69s\n",
      "8:\tlearn: 1.3284495\ttotal: 1.64s\tremaining: 7.47s\n",
      "9:\tlearn: 1.3241457\ttotal: 1.82s\tremaining: 7.29s\n",
      "10:\tlearn: 1.3212341\ttotal: 2s\tremaining: 7.1s\n",
      "11:\tlearn: 1.3189290\ttotal: 2.19s\tremaining: 6.92s\n",
      "12:\tlearn: 1.3176001\ttotal: 2.36s\tremaining: 6.72s\n",
      "13:\tlearn: 1.3163879\ttotal: 2.54s\tremaining: 6.54s\n",
      "14:\tlearn: 1.3158132\ttotal: 2.72s\tremaining: 6.35s\n",
      "15:\tlearn: 1.3151047\ttotal: 2.89s\tremaining: 6.14s\n",
      "16:\tlearn: 1.3143701\ttotal: 3.07s\tremaining: 5.96s\n",
      "17:\tlearn: 1.3140321\ttotal: 3.26s\tremaining: 5.79s\n",
      "18:\tlearn: 1.3138983\ttotal: 3.43s\tremaining: 5.6s\n",
      "19:\tlearn: 1.3138228\ttotal: 3.6s\tremaining: 5.4s\n",
      "20:\tlearn: 1.3134364\ttotal: 3.77s\tremaining: 5.21s\n",
      "21:\tlearn: 1.3133547\ttotal: 3.95s\tremaining: 5.03s\n",
      "22:\tlearn: 1.3131006\ttotal: 4.13s\tremaining: 4.84s\n",
      "23:\tlearn: 1.3129363\ttotal: 4.3s\tremaining: 4.66s\n",
      "24:\tlearn: 1.3128266\ttotal: 4.48s\tremaining: 4.48s\n",
      "25:\tlearn: 1.3128149\ttotal: 4.65s\tremaining: 4.29s\n",
      "26:\tlearn: 1.3127406\ttotal: 4.82s\tremaining: 4.11s\n",
      "27:\tlearn: 1.3126566\ttotal: 4.99s\tremaining: 3.92s\n",
      "28:\tlearn: 1.3125169\ttotal: 5.17s\tremaining: 3.75s\n",
      "29:\tlearn: 1.3123625\ttotal: 5.37s\tremaining: 3.58s\n",
      "30:\tlearn: 1.3121664\ttotal: 5.56s\tremaining: 3.41s\n",
      "31:\tlearn: 1.3121531\ttotal: 5.73s\tremaining: 3.23s\n",
      "32:\tlearn: 1.3121355\ttotal: 5.91s\tremaining: 3.04s\n",
      "33:\tlearn: 1.3121220\ttotal: 6.08s\tremaining: 2.86s\n",
      "34:\tlearn: 1.3119608\ttotal: 6.26s\tremaining: 2.69s\n",
      "35:\tlearn: 1.3118735\ttotal: 6.45s\tremaining: 2.51s\n",
      "36:\tlearn: 1.3118677\ttotal: 6.62s\tremaining: 2.33s\n",
      "37:\tlearn: 1.3118341\ttotal: 6.79s\tremaining: 2.15s\n",
      "38:\tlearn: 1.3117185\ttotal: 6.97s\tremaining: 1.97s\n",
      "39:\tlearn: 1.3115176\ttotal: 7.15s\tremaining: 1.79s\n",
      "40:\tlearn: 1.3114589\ttotal: 7.34s\tremaining: 1.61s\n",
      "41:\tlearn: 1.3112958\ttotal: 7.53s\tremaining: 1.43s\n",
      "42:\tlearn: 1.3112698\ttotal: 7.71s\tremaining: 1.25s\n",
      "43:\tlearn: 1.3110321\ttotal: 7.89s\tremaining: 1.08s\n",
      "44:\tlearn: 1.3109335\ttotal: 8.08s\tremaining: 898ms\n",
      "45:\tlearn: 1.3109165\ttotal: 8.27s\tremaining: 719ms\n",
      "46:\tlearn: 1.3108107\ttotal: 8.45s\tremaining: 539ms\n",
      "47:\tlearn: 1.3107671\ttotal: 8.62s\tremaining: 359ms\n",
      "48:\tlearn: 1.3107201\ttotal: 8.8s\tremaining: 180ms\n",
      "49:\tlearn: 1.3106604\ttotal: 8.96s\tremaining: 0us\n",
      "0:\tlearn: 1.6554709\ttotal: 174ms\tremaining: 8.51s\n",
      "1:\tlearn: 1.5388757\ttotal: 349ms\tremaining: 8.37s\n",
      "2:\tlearn: 1.4743460\ttotal: 521ms\tremaining: 8.16s\n",
      "3:\tlearn: 1.4308758\ttotal: 691ms\tremaining: 7.95s\n",
      "4:\tlearn: 1.4020943\ttotal: 867ms\tremaining: 7.8s\n",
      "5:\tlearn: 1.3845916\ttotal: 1.04s\tremaining: 7.62s\n",
      "6:\tlearn: 1.3737492\ttotal: 1.21s\tremaining: 7.46s\n",
      "7:\tlearn: 1.3650469\ttotal: 1.39s\tremaining: 7.32s\n",
      "8:\tlearn: 1.3590224\ttotal: 1.58s\tremaining: 7.18s\n",
      "9:\tlearn: 1.3557022\ttotal: 1.75s\tremaining: 6.99s\n",
      "10:\tlearn: 1.3518260\ttotal: 1.92s\tremaining: 6.82s\n",
      "11:\tlearn: 1.3502973\ttotal: 2.09s\tremaining: 6.63s\n",
      "12:\tlearn: 1.3491225\ttotal: 2.27s\tremaining: 6.45s\n",
      "13:\tlearn: 1.3476042\ttotal: 2.44s\tremaining: 6.29s\n",
      "14:\tlearn: 1.3465521\ttotal: 2.62s\tremaining: 6.12s\n",
      "15:\tlearn: 1.3457011\ttotal: 2.81s\tremaining: 5.96s\n",
      "16:\tlearn: 1.3453905\ttotal: 2.98s\tremaining: 5.78s\n",
      "17:\tlearn: 1.3451731\ttotal: 3.14s\tremaining: 5.58s\n",
      "18:\tlearn: 1.3446077\ttotal: 3.33s\tremaining: 5.43s\n",
      "19:\tlearn: 1.3444907\ttotal: 3.5s\tremaining: 5.25s\n",
      "20:\tlearn: 1.3443266\ttotal: 3.67s\tremaining: 5.06s\n",
      "21:\tlearn: 1.3442837\ttotal: 3.83s\tremaining: 4.88s\n",
      "22:\tlearn: 1.3439224\ttotal: 4.02s\tremaining: 4.72s\n",
      "23:\tlearn: 1.3438492\ttotal: 4.19s\tremaining: 4.54s\n",
      "24:\tlearn: 1.3435801\ttotal: 4.37s\tremaining: 4.37s\n",
      "25:\tlearn: 1.3435598\ttotal: 4.54s\tremaining: 4.19s\n",
      "26:\tlearn: 1.3435053\ttotal: 4.73s\tremaining: 4.03s\n",
      "27:\tlearn: 1.3434895\ttotal: 4.89s\tremaining: 3.85s\n",
      "28:\tlearn: 1.3434241\ttotal: 5.07s\tremaining: 3.67s\n",
      "29:\tlearn: 1.3434107\ttotal: 5.24s\tremaining: 3.49s\n",
      "30:\tlearn: 1.3433229\ttotal: 5.42s\tremaining: 3.32s\n",
      "31:\tlearn: 1.3433036\ttotal: 5.59s\tremaining: 3.15s\n",
      "32:\tlearn: 1.3432738\ttotal: 5.77s\tremaining: 2.97s\n",
      "33:\tlearn: 1.3431945\ttotal: 5.95s\tremaining: 2.8s\n",
      "34:\tlearn: 1.3431518\ttotal: 6.13s\tremaining: 2.63s\n",
      "35:\tlearn: 1.3429524\ttotal: 6.3s\tremaining: 2.45s\n",
      "36:\tlearn: 1.3429430\ttotal: 6.48s\tremaining: 2.28s\n",
      "37:\tlearn: 1.3429283\ttotal: 6.65s\tremaining: 2.1s\n",
      "38:\tlearn: 1.3428850\ttotal: 6.82s\tremaining: 1.92s\n",
      "39:\tlearn: 1.3428717\ttotal: 6.98s\tremaining: 1.75s\n",
      "40:\tlearn: 1.3428232\ttotal: 7.16s\tremaining: 1.57s\n",
      "41:\tlearn: 1.3427247\ttotal: 7.33s\tremaining: 1.4s\n",
      "42:\tlearn: 1.3427193\ttotal: 7.5s\tremaining: 1.22s\n",
      "43:\tlearn: 1.3426804\ttotal: 7.67s\tremaining: 1.05s\n",
      "44:\tlearn: 1.3426747\ttotal: 7.84s\tremaining: 872ms\n",
      "45:\tlearn: 1.3426499\ttotal: 8.02s\tremaining: 697ms\n",
      "46:\tlearn: 1.3425380\ttotal: 8.19s\tremaining: 523ms\n",
      "47:\tlearn: 1.3424431\ttotal: 8.36s\tremaining: 348ms\n",
      "48:\tlearn: 1.3424372\ttotal: 8.54s\tremaining: 174ms\n",
      "49:\tlearn: 1.3424317\ttotal: 8.71s\tremaining: 0us\n",
      "0:\tlearn: 1.6729452\ttotal: 182ms\tremaining: 8.92s\n",
      "1:\tlearn: 1.5576984\ttotal: 359ms\tremaining: 8.61s\n",
      "2:\tlearn: 1.4890278\ttotal: 543ms\tremaining: 8.5s\n",
      "3:\tlearn: 1.4479697\ttotal: 718ms\tremaining: 8.26s\n",
      "4:\tlearn: 1.4214230\ttotal: 902ms\tremaining: 8.12s\n",
      "5:\tlearn: 1.4040369\ttotal: 1.09s\tremaining: 7.97s\n",
      "6:\tlearn: 1.3928785\ttotal: 1.26s\tremaining: 7.76s\n",
      "7:\tlearn: 1.3847032\ttotal: 1.44s\tremaining: 7.55s\n",
      "8:\tlearn: 1.3797213\ttotal: 1.61s\tremaining: 7.35s\n",
      "9:\tlearn: 1.3761890\ttotal: 1.78s\tremaining: 7.14s\n",
      "10:\tlearn: 1.3740706\ttotal: 1.96s\tremaining: 6.93s\n",
      "11:\tlearn: 1.3720855\ttotal: 2.13s\tremaining: 6.76s\n",
      "12:\tlearn: 1.3709663\ttotal: 2.31s\tremaining: 6.58s\n",
      "13:\tlearn: 1.3697983\ttotal: 2.48s\tremaining: 6.39s\n",
      "14:\tlearn: 1.3690321\ttotal: 2.67s\tremaining: 6.22s\n",
      "15:\tlearn: 1.3686594\ttotal: 2.83s\tremaining: 6.02s\n",
      "16:\tlearn: 1.3678472\ttotal: 3.02s\tremaining: 5.86s\n",
      "17:\tlearn: 1.3677392\ttotal: 3.19s\tremaining: 5.67s\n",
      "18:\tlearn: 1.3676637\ttotal: 3.36s\tremaining: 5.49s\n",
      "19:\tlearn: 1.3674903\ttotal: 3.53s\tremaining: 5.3s\n",
      "20:\tlearn: 1.3673825\ttotal: 3.73s\tremaining: 5.14s\n",
      "21:\tlearn: 1.3673383\ttotal: 3.9s\tremaining: 4.97s\n",
      "22:\tlearn: 1.3673230\ttotal: 4.08s\tremaining: 4.8s\n",
      "23:\tlearn: 1.3672563\ttotal: 4.26s\tremaining: 4.61s\n",
      "24:\tlearn: 1.3669369\ttotal: 4.44s\tremaining: 4.44s\n",
      "25:\tlearn: 1.3669281\ttotal: 4.62s\tremaining: 4.26s\n",
      "26:\tlearn: 1.3669012\ttotal: 4.79s\tremaining: 4.08s\n",
      "27:\tlearn: 1.3668863\ttotal: 4.96s\tremaining: 3.9s\n",
      "28:\tlearn: 1.3668630\ttotal: 5.14s\tremaining: 3.72s\n",
      "29:\tlearn: 1.3667974\ttotal: 5.31s\tremaining: 3.54s\n",
      "30:\tlearn: 1.3667819\ttotal: 5.48s\tremaining: 3.36s\n",
      "31:\tlearn: 1.3667302\ttotal: 5.65s\tremaining: 3.18s\n",
      "32:\tlearn: 1.3667030\ttotal: 5.82s\tremaining: 3s\n",
      "33:\tlearn: 1.3666930\ttotal: 5.99s\tremaining: 2.82s\n",
      "34:\tlearn: 1.3665298\ttotal: 6.18s\tremaining: 2.65s\n",
      "35:\tlearn: 1.3664947\ttotal: 6.35s\tremaining: 2.47s\n",
      "36:\tlearn: 1.3664659\ttotal: 6.52s\tremaining: 2.29s\n",
      "37:\tlearn: 1.3664546\ttotal: 6.7s\tremaining: 2.12s\n",
      "38:\tlearn: 1.3664426\ttotal: 6.87s\tremaining: 1.94s\n",
      "39:\tlearn: 1.3664376\ttotal: 7.04s\tremaining: 1.76s\n",
      "40:\tlearn: 1.3664008\ttotal: 7.22s\tremaining: 1.58s\n",
      "41:\tlearn: 1.3663906\ttotal: 7.39s\tremaining: 1.41s\n",
      "42:\tlearn: 1.3663697\ttotal: 7.57s\tremaining: 1.23s\n",
      "43:\tlearn: 1.3662538\ttotal: 7.75s\tremaining: 1.06s\n",
      "44:\tlearn: 1.3662457\ttotal: 7.92s\tremaining: 880ms\n",
      "45:\tlearn: 1.3662131\ttotal: 8.1s\tremaining: 704ms\n",
      "46:\tlearn: 1.3661752\ttotal: 8.28s\tremaining: 529ms\n",
      "47:\tlearn: 1.3661199\ttotal: 8.46s\tremaining: 352ms\n",
      "48:\tlearn: 1.3660814\ttotal: 8.63s\tremaining: 176ms\n",
      "49:\tlearn: 1.3660679\ttotal: 8.8s\tremaining: 0us\n",
      "0:\tlearn: 1.6699571\ttotal: 177ms\tremaining: 8.66s\n",
      "1:\tlearn: 1.5539056\ttotal: 352ms\tremaining: 8.46s\n",
      "2:\tlearn: 1.4914534\ttotal: 531ms\tremaining: 8.31s\n",
      "3:\tlearn: 1.4506300\ttotal: 704ms\tremaining: 8.1s\n",
      "4:\tlearn: 1.4250425\ttotal: 887ms\tremaining: 7.98s\n",
      "5:\tlearn: 1.4082585\ttotal: 1.07s\tremaining: 7.85s\n",
      "6:\tlearn: 1.3978279\ttotal: 1.25s\tremaining: 7.65s\n",
      "7:\tlearn: 1.3894551\ttotal: 1.43s\tremaining: 7.51s\n",
      "8:\tlearn: 1.3844237\ttotal: 1.61s\tremaining: 7.33s\n",
      "9:\tlearn: 1.3806250\ttotal: 1.79s\tremaining: 7.16s\n",
      "10:\tlearn: 1.3785409\ttotal: 1.97s\tremaining: 6.99s\n",
      "11:\tlearn: 1.3763436\ttotal: 2.15s\tremaining: 6.8s\n",
      "12:\tlearn: 1.3753318\ttotal: 2.33s\tremaining: 6.64s\n",
      "13:\tlearn: 1.3744054\ttotal: 2.5s\tremaining: 6.44s\n",
      "14:\tlearn: 1.3734935\ttotal: 2.69s\tremaining: 6.27s\n",
      "15:\tlearn: 1.3732143\ttotal: 2.86s\tremaining: 6.08s\n",
      "16:\tlearn: 1.3730095\ttotal: 3.04s\tremaining: 5.91s\n",
      "17:\tlearn: 1.3727006\ttotal: 3.22s\tremaining: 5.73s\n",
      "18:\tlearn: 1.3723882\ttotal: 3.4s\tremaining: 5.55s\n",
      "19:\tlearn: 1.3723236\ttotal: 3.58s\tremaining: 5.38s\n",
      "20:\tlearn: 1.3721674\ttotal: 3.76s\tremaining: 5.19s\n",
      "21:\tlearn: 1.3721388\ttotal: 3.93s\tremaining: 5s\n",
      "22:\tlearn: 1.3720997\ttotal: 4.1s\tremaining: 4.81s\n",
      "23:\tlearn: 1.3719856\ttotal: 4.27s\tremaining: 4.63s\n",
      "24:\tlearn: 1.3719622\ttotal: 4.44s\tremaining: 4.44s\n",
      "25:\tlearn: 1.3719110\ttotal: 4.62s\tremaining: 4.26s\n",
      "26:\tlearn: 1.3718903\ttotal: 4.79s\tremaining: 4.08s\n",
      "27:\tlearn: 1.3718809\ttotal: 4.96s\tremaining: 3.9s\n",
      "28:\tlearn: 1.3718577\ttotal: 5.13s\tremaining: 3.72s\n",
      "29:\tlearn: 1.3718502\ttotal: 5.31s\tremaining: 3.54s\n",
      "30:\tlearn: 1.3718395\ttotal: 5.49s\tremaining: 3.36s\n",
      "31:\tlearn: 1.3717901\ttotal: 5.66s\tremaining: 3.18s\n",
      "32:\tlearn: 1.3717812\ttotal: 5.84s\tremaining: 3.01s\n",
      "33:\tlearn: 1.3717751\ttotal: 6.01s\tremaining: 2.83s\n",
      "34:\tlearn: 1.3715632\ttotal: 6.2s\tremaining: 2.66s\n",
      "35:\tlearn: 1.3715420\ttotal: 6.37s\tremaining: 2.48s\n",
      "36:\tlearn: 1.3715220\ttotal: 6.55s\tremaining: 2.3s\n",
      "37:\tlearn: 1.3715078\ttotal: 6.72s\tremaining: 2.12s\n",
      "38:\tlearn: 1.3714952\ttotal: 6.89s\tremaining: 1.94s\n",
      "39:\tlearn: 1.3714829\ttotal: 7.07s\tremaining: 1.77s\n",
      "40:\tlearn: 1.3714545\ttotal: 7.24s\tremaining: 1.59s\n",
      "41:\tlearn: 1.3714281\ttotal: 7.43s\tremaining: 1.41s\n",
      "42:\tlearn: 1.3714036\ttotal: 7.6s\tremaining: 1.24s\n",
      "43:\tlearn: 1.3713246\ttotal: 7.78s\tremaining: 1.06s\n",
      "44:\tlearn: 1.3713199\ttotal: 7.95s\tremaining: 884ms\n",
      "45:\tlearn: 1.3713070\ttotal: 8.12s\tremaining: 706ms\n",
      "46:\tlearn: 1.3712910\ttotal: 8.29s\tremaining: 529ms\n",
      "47:\tlearn: 1.3712467\ttotal: 8.46s\tremaining: 352ms\n",
      "48:\tlearn: 1.3712191\ttotal: 8.64s\tremaining: 176ms\n",
      "49:\tlearn: 1.3712135\ttotal: 8.81s\tremaining: 0us\n",
      "0:\tlearn: 1.6496194\ttotal: 180ms\tremaining: 8.82s\n",
      "1:\tlearn: 1.5341412\ttotal: 359ms\tremaining: 8.62s\n",
      "2:\tlearn: 1.4535192\ttotal: 550ms\tremaining: 8.62s\n",
      "3:\tlearn: 1.4144360\ttotal: 724ms\tremaining: 8.32s\n",
      "4:\tlearn: 1.3866004\ttotal: 909ms\tremaining: 8.18s\n",
      "5:\tlearn: 1.3697324\ttotal: 1.08s\tremaining: 7.96s\n",
      "6:\tlearn: 1.3583123\ttotal: 1.27s\tremaining: 7.82s\n",
      "7:\tlearn: 1.3484173\ttotal: 1.45s\tremaining: 7.64s\n",
      "8:\tlearn: 1.3416420\ttotal: 1.63s\tremaining: 7.43s\n",
      "9:\tlearn: 1.3377563\ttotal: 1.8s\tremaining: 7.21s\n",
      "10:\tlearn: 1.3344158\ttotal: 1.99s\tremaining: 7.04s\n",
      "11:\tlearn: 1.3318135\ttotal: 2.17s\tremaining: 6.87s\n",
      "12:\tlearn: 1.3292517\ttotal: 2.35s\tremaining: 6.7s\n",
      "13:\tlearn: 1.3278162\ttotal: 2.53s\tremaining: 6.5s\n",
      "14:\tlearn: 1.3260971\ttotal: 2.71s\tremaining: 6.32s\n",
      "15:\tlearn: 1.3255389\ttotal: 2.89s\tremaining: 6.15s\n",
      "16:\tlearn: 1.3246643\ttotal: 3.09s\tremaining: 6s\n",
      "17:\tlearn: 1.3241591\ttotal: 3.27s\tremaining: 5.82s\n",
      "18:\tlearn: 1.3237326\ttotal: 3.46s\tremaining: 5.64s\n",
      "19:\tlearn: 1.3235256\ttotal: 3.64s\tremaining: 5.46s\n",
      "20:\tlearn: 1.3231692\ttotal: 3.81s\tremaining: 5.27s\n",
      "21:\tlearn: 1.3231158\ttotal: 4s\tremaining: 5.09s\n",
      "22:\tlearn: 1.3229501\ttotal: 4.18s\tremaining: 4.91s\n",
      "23:\tlearn: 1.3223936\ttotal: 4.36s\tremaining: 4.73s\n",
      "24:\tlearn: 1.3222500\ttotal: 4.54s\tremaining: 4.54s\n",
      "25:\tlearn: 1.3221813\ttotal: 4.72s\tremaining: 4.36s\n",
      "26:\tlearn: 1.3220594\ttotal: 4.92s\tremaining: 4.19s\n",
      "27:\tlearn: 1.3220097\ttotal: 5.09s\tremaining: 4s\n",
      "28:\tlearn: 1.3219992\ttotal: 5.27s\tremaining: 3.82s\n",
      "29:\tlearn: 1.3219618\ttotal: 5.44s\tremaining: 3.63s\n",
      "30:\tlearn: 1.3218576\ttotal: 5.63s\tremaining: 3.45s\n",
      "31:\tlearn: 1.3218389\ttotal: 5.8s\tremaining: 3.26s\n",
      "32:\tlearn: 1.3217967\ttotal: 5.98s\tremaining: 3.08s\n",
      "33:\tlearn: 1.3217840\ttotal: 6.16s\tremaining: 2.9s\n",
      "34:\tlearn: 1.3216314\ttotal: 6.33s\tremaining: 2.71s\n",
      "35:\tlearn: 1.3215521\ttotal: 6.51s\tremaining: 2.53s\n",
      "36:\tlearn: 1.3215267\ttotal: 6.7s\tremaining: 2.35s\n",
      "37:\tlearn: 1.3213506\ttotal: 6.87s\tremaining: 2.17s\n",
      "38:\tlearn: 1.3212319\ttotal: 7.05s\tremaining: 1.99s\n",
      "39:\tlearn: 1.3211832\ttotal: 7.22s\tremaining: 1.8s\n",
      "40:\tlearn: 1.3209514\ttotal: 7.4s\tremaining: 1.62s\n",
      "41:\tlearn: 1.3203340\ttotal: 7.59s\tremaining: 1.45s\n",
      "42:\tlearn: 1.3200233\ttotal: 7.77s\tremaining: 1.26s\n",
      "43:\tlearn: 1.3198703\ttotal: 7.95s\tremaining: 1.08s\n",
      "44:\tlearn: 1.3193589\ttotal: 8.14s\tremaining: 904ms\n",
      "45:\tlearn: 1.3189904\ttotal: 8.32s\tremaining: 723ms\n",
      "46:\tlearn: 1.3187531\ttotal: 8.5s\tremaining: 543ms\n",
      "47:\tlearn: 1.3187015\ttotal: 8.68s\tremaining: 361ms\n",
      "48:\tlearn: 1.3186702\ttotal: 8.85s\tremaining: 181ms\n",
      "49:\tlearn: 1.3185398\ttotal: 9.02s\tremaining: 0us\n",
      "0:\tlearn: 1.6803259\ttotal: 178ms\tremaining: 8.7s\n",
      "1:\tlearn: 1.5640752\ttotal: 358ms\tremaining: 8.59s\n",
      "2:\tlearn: 1.4848559\ttotal: 536ms\tremaining: 8.39s\n",
      "3:\tlearn: 1.4417150\ttotal: 712ms\tremaining: 8.19s\n",
      "4:\tlearn: 1.4159800\ttotal: 896ms\tremaining: 8.06s\n",
      "5:\tlearn: 1.3982816\ttotal: 1.07s\tremaining: 7.86s\n",
      "6:\tlearn: 1.3859557\ttotal: 1.25s\tremaining: 7.67s\n",
      "7:\tlearn: 1.3779898\ttotal: 1.42s\tremaining: 7.48s\n",
      "8:\tlearn: 1.3725567\ttotal: 1.61s\tremaining: 7.34s\n",
      "9:\tlearn: 1.3688427\ttotal: 1.79s\tremaining: 7.16s\n",
      "10:\tlearn: 1.3663140\ttotal: 1.97s\tremaining: 6.98s\n",
      "11:\tlearn: 1.3638659\ttotal: 2.15s\tremaining: 6.81s\n",
      "12:\tlearn: 1.3618153\ttotal: 2.34s\tremaining: 6.66s\n",
      "13:\tlearn: 1.3604731\ttotal: 2.52s\tremaining: 6.47s\n",
      "14:\tlearn: 1.3584806\ttotal: 2.7s\tremaining: 6.31s\n",
      "15:\tlearn: 1.3575178\ttotal: 2.88s\tremaining: 6.12s\n",
      "16:\tlearn: 1.3571066\ttotal: 3.06s\tremaining: 5.95s\n",
      "17:\tlearn: 1.3569096\ttotal: 3.24s\tremaining: 5.76s\n",
      "18:\tlearn: 1.3567642\ttotal: 3.42s\tremaining: 5.57s\n",
      "19:\tlearn: 1.3555889\ttotal: 3.6s\tremaining: 5.4s\n",
      "20:\tlearn: 1.3552467\ttotal: 3.77s\tremaining: 5.21s\n",
      "21:\tlearn: 1.3551382\ttotal: 3.95s\tremaining: 5.02s\n",
      "22:\tlearn: 1.3550949\ttotal: 4.12s\tremaining: 4.84s\n",
      "23:\tlearn: 1.3543632\ttotal: 4.32s\tremaining: 4.68s\n",
      "24:\tlearn: 1.3543318\ttotal: 4.5s\tremaining: 4.5s\n",
      "25:\tlearn: 1.3542793\ttotal: 4.68s\tremaining: 4.32s\n",
      "26:\tlearn: 1.3541989\ttotal: 4.86s\tremaining: 4.14s\n",
      "27:\tlearn: 1.3539295\ttotal: 5.04s\tremaining: 3.96s\n",
      "28:\tlearn: 1.3539104\ttotal: 5.22s\tremaining: 3.78s\n",
      "29:\tlearn: 1.3534325\ttotal: 5.4s\tremaining: 3.6s\n",
      "30:\tlearn: 1.3533526\ttotal: 5.58s\tremaining: 3.42s\n",
      "31:\tlearn: 1.3533369\ttotal: 5.76s\tremaining: 3.24s\n",
      "32:\tlearn: 1.3532295\ttotal: 5.94s\tremaining: 3.06s\n",
      "33:\tlearn: 1.3532206\ttotal: 6.12s\tremaining: 2.88s\n",
      "34:\tlearn: 1.3529788\ttotal: 6.3s\tremaining: 2.7s\n",
      "35:\tlearn: 1.3527584\ttotal: 6.49s\tremaining: 2.52s\n",
      "36:\tlearn: 1.3527248\ttotal: 6.67s\tremaining: 2.34s\n",
      "37:\tlearn: 1.3527096\ttotal: 6.84s\tremaining: 2.16s\n",
      "38:\tlearn: 1.3526459\ttotal: 7.02s\tremaining: 1.98s\n",
      "39:\tlearn: 1.3524081\ttotal: 7.2s\tremaining: 1.8s\n",
      "40:\tlearn: 1.3520851\ttotal: 7.39s\tremaining: 1.62s\n",
      "41:\tlearn: 1.3519147\ttotal: 7.57s\tremaining: 1.44s\n",
      "42:\tlearn: 1.3518972\ttotal: 7.75s\tremaining: 1.26s\n",
      "43:\tlearn: 1.3517274\ttotal: 7.93s\tremaining: 1.08s\n",
      "44:\tlearn: 1.3517076\ttotal: 8.11s\tremaining: 902ms\n",
      "45:\tlearn: 1.3516948\ttotal: 8.3s\tremaining: 722ms\n",
      "46:\tlearn: 1.3515495\ttotal: 8.49s\tremaining: 542ms\n",
      "47:\tlearn: 1.3515031\ttotal: 8.67s\tremaining: 361ms\n",
      "48:\tlearn: 1.3514861\ttotal: 8.86s\tremaining: 181ms\n",
      "49:\tlearn: 1.3514717\ttotal: 9.04s\tremaining: 0us\n",
      "0:\tlearn: 1.6380385\ttotal: 364ms\tremaining: 17.8s\n",
      "1:\tlearn: 1.5123264\ttotal: 743ms\tremaining: 17.8s\n",
      "2:\tlearn: 1.4518491\ttotal: 1.12s\tremaining: 17.5s\n",
      "3:\tlearn: 1.4101749\ttotal: 1.47s\tremaining: 16.9s\n",
      "4:\tlearn: 1.3689284\ttotal: 1.85s\tremaining: 16.7s\n",
      "5:\tlearn: 1.3465032\ttotal: 2.21s\tremaining: 16.2s\n",
      "6:\tlearn: 1.3324569\ttotal: 2.56s\tremaining: 15.7s\n",
      "7:\tlearn: 1.3211131\ttotal: 2.92s\tremaining: 15.3s\n",
      "8:\tlearn: 1.3130589\ttotal: 3.28s\tremaining: 14.9s\n",
      "9:\tlearn: 1.3083518\ttotal: 3.63s\tremaining: 14.5s\n",
      "10:\tlearn: 1.3040104\ttotal: 4s\tremaining: 14.2s\n",
      "11:\tlearn: 1.2999054\ttotal: 4.37s\tremaining: 13.8s\n",
      "12:\tlearn: 1.2963880\ttotal: 4.75s\tremaining: 13.5s\n",
      "13:\tlearn: 1.2950381\ttotal: 5.11s\tremaining: 13.1s\n",
      "14:\tlearn: 1.2932637\ttotal: 5.47s\tremaining: 12.8s\n",
      "15:\tlearn: 1.2919843\ttotal: 5.84s\tremaining: 12.4s\n",
      "16:\tlearn: 1.2909209\ttotal: 6.19s\tremaining: 12s\n",
      "17:\tlearn: 1.2905426\ttotal: 6.55s\tremaining: 11.6s\n",
      "18:\tlearn: 1.2901251\ttotal: 6.91s\tremaining: 11.3s\n",
      "19:\tlearn: 1.2892253\ttotal: 7.28s\tremaining: 10.9s\n",
      "20:\tlearn: 1.2885571\ttotal: 7.65s\tremaining: 10.6s\n",
      "21:\tlearn: 1.2884635\ttotal: 8.02s\tremaining: 10.2s\n",
      "22:\tlearn: 1.2879962\ttotal: 8.38s\tremaining: 9.84s\n",
      "23:\tlearn: 1.2877192\ttotal: 8.76s\tremaining: 9.49s\n",
      "24:\tlearn: 1.2876350\ttotal: 9.12s\tremaining: 9.12s\n",
      "25:\tlearn: 1.2869302\ttotal: 9.5s\tremaining: 8.77s\n",
      "26:\tlearn: 1.2867476\ttotal: 9.88s\tremaining: 8.41s\n",
      "27:\tlearn: 1.2867004\ttotal: 10.2s\tremaining: 8.04s\n",
      "28:\tlearn: 1.2864263\ttotal: 10.6s\tremaining: 7.69s\n",
      "29:\tlearn: 1.2863449\ttotal: 11s\tremaining: 7.32s\n",
      "30:\tlearn: 1.2859883\ttotal: 11.4s\tremaining: 6.96s\n",
      "31:\tlearn: 1.2859762\ttotal: 11.7s\tremaining: 6.59s\n",
      "32:\tlearn: 1.2859242\ttotal: 12.1s\tremaining: 6.22s\n",
      "33:\tlearn: 1.2859088\ttotal: 12.4s\tremaining: 5.86s\n",
      "34:\tlearn: 1.2858540\ttotal: 12.8s\tremaining: 5.49s\n",
      "35:\tlearn: 1.2856668\ttotal: 13.2s\tremaining: 5.12s\n",
      "36:\tlearn: 1.2856634\ttotal: 13.5s\tremaining: 4.75s\n",
      "37:\tlearn: 1.2856560\ttotal: 13.9s\tremaining: 4.38s\n",
      "38:\tlearn: 1.2853617\ttotal: 14.3s\tremaining: 4.02s\n",
      "39:\tlearn: 1.2853585\ttotal: 14.6s\tremaining: 3.65s\n",
      "40:\tlearn: 1.2853498\ttotal: 15s\tremaining: 3.29s\n",
      "41:\tlearn: 1.2852084\ttotal: 15.3s\tremaining: 2.92s\n",
      "42:\tlearn: 1.2852014\ttotal: 15.7s\tremaining: 2.56s\n",
      "43:\tlearn: 1.2847976\ttotal: 16.1s\tremaining: 2.19s\n",
      "44:\tlearn: 1.2846722\ttotal: 16.4s\tremaining: 1.82s\n",
      "45:\tlearn: 1.2843647\ttotal: 16.8s\tremaining: 1.46s\n",
      "46:\tlearn: 1.2841888\ttotal: 17.2s\tremaining: 1.1s\n",
      "47:\tlearn: 1.2840768\ttotal: 17.5s\tremaining: 731ms\n",
      "48:\tlearn: 1.2840575\ttotal: 17.9s\tremaining: 366ms\n",
      "49:\tlearn: 1.2839455\ttotal: 18.3s\tremaining: 0us\n",
      "0:\tlearn: 1.6311169\ttotal: 470ms\tremaining: 23s\n",
      "1:\tlearn: 1.5145784\ttotal: 938ms\tremaining: 22.5s\n",
      "2:\tlearn: 1.4528759\ttotal: 1.41s\tremaining: 22.1s\n",
      "3:\tlearn: 1.4160836\ttotal: 1.88s\tremaining: 21.7s\n",
      "4:\tlearn: 1.3748939\ttotal: 2.4s\tremaining: 21.6s\n",
      "5:\tlearn: 1.3502686\ttotal: 2.86s\tremaining: 21s\n",
      "6:\tlearn: 1.3351095\ttotal: 3.35s\tremaining: 20.6s\n",
      "7:\tlearn: 1.3239007\ttotal: 3.82s\tremaining: 20.1s\n",
      "8:\tlearn: 1.3170045\ttotal: 4.3s\tremaining: 19.6s\n",
      "9:\tlearn: 1.3105783\ttotal: 4.77s\tremaining: 19.1s\n",
      "10:\tlearn: 1.3073900\ttotal: 5.25s\tremaining: 18.6s\n",
      "11:\tlearn: 1.3053565\ttotal: 5.73s\tremaining: 18.1s\n",
      "12:\tlearn: 1.3035455\ttotal: 6.22s\tremaining: 17.7s\n",
      "13:\tlearn: 1.3020933\ttotal: 6.72s\tremaining: 17.3s\n",
      "14:\tlearn: 1.3009850\ttotal: 7.18s\tremaining: 16.8s\n",
      "15:\tlearn: 1.3002454\ttotal: 7.67s\tremaining: 16.3s\n",
      "16:\tlearn: 1.2994110\ttotal: 8.14s\tremaining: 15.8s\n",
      "17:\tlearn: 1.2989869\ttotal: 8.63s\tremaining: 15.3s\n",
      "18:\tlearn: 1.2986682\ttotal: 9.12s\tremaining: 14.9s\n",
      "19:\tlearn: 1.2983965\ttotal: 9.6s\tremaining: 14.4s\n",
      "20:\tlearn: 1.2981462\ttotal: 10.1s\tremaining: 13.9s\n",
      "21:\tlearn: 1.2969360\ttotal: 10.6s\tremaining: 13.5s\n",
      "22:\tlearn: 1.2961075\ttotal: 11.1s\tremaining: 13s\n",
      "23:\tlearn: 1.2960883\ttotal: 11.5s\tremaining: 12.5s\n",
      "24:\tlearn: 1.2957775\ttotal: 12s\tremaining: 12s\n",
      "25:\tlearn: 1.2957620\ttotal: 12.5s\tremaining: 11.5s\n",
      "26:\tlearn: 1.2954862\ttotal: 13s\tremaining: 11.1s\n",
      "27:\tlearn: 1.2953330\ttotal: 13.5s\tremaining: 10.6s\n",
      "28:\tlearn: 1.2952529\ttotal: 13.9s\tremaining: 10.1s\n",
      "29:\tlearn: 1.2949042\ttotal: 14.4s\tremaining: 9.61s\n",
      "30:\tlearn: 1.2948713\ttotal: 14.9s\tremaining: 9.13s\n",
      "31:\tlearn: 1.2948587\ttotal: 15.4s\tremaining: 8.65s\n",
      "32:\tlearn: 1.2948323\ttotal: 15.8s\tremaining: 8.16s\n",
      "33:\tlearn: 1.2948185\ttotal: 16.3s\tremaining: 7.69s\n",
      "34:\tlearn: 1.2948137\ttotal: 16.8s\tremaining: 7.21s\n",
      "35:\tlearn: 1.2947158\ttotal: 17.3s\tremaining: 6.73s\n",
      "36:\tlearn: 1.2946952\ttotal: 17.8s\tremaining: 6.25s\n",
      "37:\tlearn: 1.2946881\ttotal: 18.3s\tremaining: 5.77s\n",
      "38:\tlearn: 1.2946107\ttotal: 18.8s\tremaining: 5.29s\n",
      "39:\tlearn: 1.2946100\ttotal: 19.2s\tremaining: 4.81s\n",
      "40:\tlearn: 1.2942809\ttotal: 19.8s\tremaining: 4.33s\n",
      "41:\tlearn: 1.2940344\ttotal: 20.2s\tremaining: 3.85s\n",
      "42:\tlearn: 1.2940155\ttotal: 20.7s\tremaining: 3.38s\n",
      "43:\tlearn: 1.2936123\ttotal: 21.2s\tremaining: 2.9s\n",
      "44:\tlearn: 1.2934652\ttotal: 21.7s\tremaining: 2.41s\n",
      "45:\tlearn: 1.2933954\ttotal: 22.2s\tremaining: 1.93s\n",
      "46:\tlearn: 1.2933415\ttotal: 22.7s\tremaining: 1.45s\n",
      "47:\tlearn: 1.2933389\ttotal: 23.2s\tremaining: 967ms\n",
      "48:\tlearn: 1.2932882\ttotal: 23.7s\tremaining: 484ms\n",
      "49:\tlearn: 1.2932816\ttotal: 24.2s\tremaining: 0us\n",
      "0:\tlearn: 1.6695055\ttotal: 180ms\tremaining: 8.83s\n",
      "1:\tlearn: 1.5507685\ttotal: 355ms\tremaining: 8.52s\n",
      "2:\tlearn: 1.4809728\ttotal: 535ms\tremaining: 8.38s\n",
      "3:\tlearn: 1.4405816\ttotal: 711ms\tremaining: 8.18s\n",
      "4:\tlearn: 1.4132107\ttotal: 890ms\tremaining: 8.01s\n",
      "5:\tlearn: 1.3961622\ttotal: 1.07s\tremaining: 7.83s\n",
      "6:\tlearn: 1.3838614\ttotal: 1.24s\tremaining: 7.62s\n",
      "7:\tlearn: 1.3753154\ttotal: 1.42s\tremaining: 7.45s\n",
      "8:\tlearn: 1.3697649\ttotal: 1.59s\tremaining: 7.24s\n",
      "9:\tlearn: 1.3651978\ttotal: 1.77s\tremaining: 7.08s\n",
      "10:\tlearn: 1.3618740\ttotal: 1.95s\tremaining: 6.92s\n",
      "11:\tlearn: 1.3602354\ttotal: 2.12s\tremaining: 6.7s\n",
      "12:\tlearn: 1.3583320\ttotal: 2.31s\tremaining: 6.57s\n",
      "13:\tlearn: 1.3571334\ttotal: 2.48s\tremaining: 6.38s\n",
      "14:\tlearn: 1.3564944\ttotal: 2.66s\tremaining: 6.21s\n",
      "15:\tlearn: 1.3556333\ttotal: 2.85s\tremaining: 6.05s\n",
      "16:\tlearn: 1.3549881\ttotal: 3.04s\tremaining: 5.91s\n",
      "17:\tlearn: 1.3547289\ttotal: 3.23s\tremaining: 5.74s\n",
      "18:\tlearn: 1.3544884\ttotal: 3.41s\tremaining: 5.56s\n",
      "19:\tlearn: 1.3543952\ttotal: 3.59s\tremaining: 5.39s\n",
      "20:\tlearn: 1.3538375\ttotal: 3.77s\tremaining: 5.21s\n",
      "21:\tlearn: 1.3537597\ttotal: 3.94s\tremaining: 5.02s\n",
      "22:\tlearn: 1.3535347\ttotal: 4.13s\tremaining: 4.85s\n",
      "23:\tlearn: 1.3534056\ttotal: 4.3s\tremaining: 4.66s\n",
      "24:\tlearn: 1.3532659\ttotal: 4.48s\tremaining: 4.48s\n",
      "25:\tlearn: 1.3530653\ttotal: 4.65s\tremaining: 4.29s\n",
      "26:\tlearn: 1.3529637\ttotal: 4.83s\tremaining: 4.11s\n",
      "27:\tlearn: 1.3527920\ttotal: 5.01s\tremaining: 3.94s\n",
      "28:\tlearn: 1.3527728\ttotal: 5.19s\tremaining: 3.76s\n",
      "29:\tlearn: 1.3527188\ttotal: 5.36s\tremaining: 3.58s\n",
      "30:\tlearn: 1.3526811\ttotal: 5.54s\tremaining: 3.4s\n",
      "31:\tlearn: 1.3524147\ttotal: 5.72s\tremaining: 3.21s\n",
      "32:\tlearn: 1.3523868\ttotal: 5.89s\tremaining: 3.04s\n",
      "33:\tlearn: 1.3523460\ttotal: 6.07s\tremaining: 2.85s\n",
      "34:\tlearn: 1.3523202\ttotal: 6.25s\tremaining: 2.68s\n",
      "35:\tlearn: 1.3522576\ttotal: 6.42s\tremaining: 2.5s\n",
      "36:\tlearn: 1.3522369\ttotal: 6.59s\tremaining: 2.31s\n",
      "37:\tlearn: 1.3521746\ttotal: 6.76s\tremaining: 2.13s\n",
      "38:\tlearn: 1.3520974\ttotal: 6.94s\tremaining: 1.96s\n",
      "39:\tlearn: 1.3520692\ttotal: 7.11s\tremaining: 1.78s\n",
      "40:\tlearn: 1.3520047\ttotal: 7.3s\tremaining: 1.6s\n",
      "41:\tlearn: 1.3518360\ttotal: 7.46s\tremaining: 1.42s\n",
      "42:\tlearn: 1.3518191\ttotal: 7.64s\tremaining: 1.24s\n",
      "43:\tlearn: 1.3518152\ttotal: 7.81s\tremaining: 1.06s\n",
      "44:\tlearn: 1.3517375\ttotal: 7.99s\tremaining: 888ms\n",
      "45:\tlearn: 1.3517193\ttotal: 8.16s\tremaining: 710ms\n",
      "46:\tlearn: 1.3516994\ttotal: 8.34s\tremaining: 532ms\n",
      "47:\tlearn: 1.3516934\ttotal: 8.51s\tremaining: 354ms\n",
      "48:\tlearn: 1.3516605\ttotal: 8.69s\tremaining: 177ms\n",
      "49:\tlearn: 1.3516442\ttotal: 8.86s\tremaining: 0us\n",
      "0:\tlearn: 1.6470551\ttotal: 357ms\tremaining: 17.5s\n",
      "1:\tlearn: 1.3165467\ttotal: 755ms\tremaining: 18.1s\n",
      "2:\tlearn: 1.2118715\ttotal: 1.12s\tremaining: 17.5s\n",
      "3:\tlearn: 1.1550650\ttotal: 1.48s\tremaining: 17s\n",
      "4:\tlearn: 1.1090419\ttotal: 1.85s\tremaining: 16.7s\n",
      "5:\tlearn: 1.0820681\ttotal: 2.21s\tremaining: 16.2s\n",
      "6:\tlearn: 1.0619142\ttotal: 2.58s\tremaining: 15.9s\n",
      "7:\tlearn: 1.0494455\ttotal: 2.96s\tremaining: 15.5s\n",
      "8:\tlearn: 1.0381014\ttotal: 3.32s\tremaining: 15.1s\n",
      "9:\tlearn: 1.0313674\ttotal: 3.68s\tremaining: 14.7s\n",
      "10:\tlearn: 1.0246161\ttotal: 4.04s\tremaining: 14.3s\n",
      "11:\tlearn: 1.0138263\ttotal: 4.4s\tremaining: 13.9s\n",
      "12:\tlearn: 1.0098110\ttotal: 4.78s\tremaining: 13.6s\n",
      "13:\tlearn: 1.0068385\ttotal: 5.14s\tremaining: 13.2s\n",
      "14:\tlearn: 1.0029952\ttotal: 5.51s\tremaining: 12.9s\n",
      "15:\tlearn: 1.0015513\ttotal: 5.88s\tremaining: 12.5s\n",
      "16:\tlearn: 0.9997734\ttotal: 6.25s\tremaining: 12.1s\n",
      "17:\tlearn: 0.9988460\ttotal: 6.61s\tremaining: 11.7s\n",
      "18:\tlearn: 0.9923678\ttotal: 6.97s\tremaining: 11.4s\n",
      "19:\tlearn: 0.9903636\ttotal: 7.33s\tremaining: 11s\n",
      "20:\tlearn: 0.9893077\ttotal: 7.71s\tremaining: 10.6s\n",
      "21:\tlearn: 0.9888156\ttotal: 8.06s\tremaining: 10.3s\n",
      "22:\tlearn: 0.9874821\ttotal: 8.43s\tremaining: 9.89s\n",
      "23:\tlearn: 0.9848563\ttotal: 8.79s\tremaining: 9.53s\n",
      "24:\tlearn: 0.9838582\ttotal: 9.15s\tremaining: 9.15s\n",
      "25:\tlearn: 0.9832619\ttotal: 9.52s\tremaining: 8.78s\n",
      "26:\tlearn: 0.9822856\ttotal: 9.88s\tremaining: 8.42s\n",
      "27:\tlearn: 0.9809642\ttotal: 10.3s\tremaining: 8.05s\n",
      "28:\tlearn: 0.9804674\ttotal: 10.6s\tremaining: 7.69s\n",
      "29:\tlearn: 0.9799158\ttotal: 11s\tremaining: 7.32s\n",
      "30:\tlearn: 0.9793196\ttotal: 11.3s\tremaining: 6.95s\n",
      "31:\tlearn: 0.9777760\ttotal: 11.7s\tremaining: 6.59s\n",
      "32:\tlearn: 0.9773310\ttotal: 12.1s\tremaining: 6.23s\n",
      "33:\tlearn: 0.9767938\ttotal: 12.5s\tremaining: 5.86s\n",
      "34:\tlearn: 0.9764325\ttotal: 12.8s\tremaining: 5.5s\n",
      "35:\tlearn: 0.9760972\ttotal: 13.2s\tremaining: 5.14s\n",
      "36:\tlearn: 0.9755924\ttotal: 13.6s\tremaining: 4.77s\n",
      "37:\tlearn: 0.9751920\ttotal: 14s\tremaining: 4.41s\n",
      "38:\tlearn: 0.9746225\ttotal: 14.3s\tremaining: 4.04s\n",
      "39:\tlearn: 0.9744171\ttotal: 14.7s\tremaining: 3.67s\n",
      "40:\tlearn: 0.9740502\ttotal: 15.1s\tremaining: 3.31s\n",
      "41:\tlearn: 0.9737862\ttotal: 15.5s\tremaining: 2.95s\n",
      "42:\tlearn: 0.9734222\ttotal: 15.8s\tremaining: 2.58s\n",
      "43:\tlearn: 0.9732232\ttotal: 16.2s\tremaining: 2.21s\n",
      "44:\tlearn: 0.9729901\ttotal: 16.6s\tremaining: 1.84s\n",
      "45:\tlearn: 0.9727794\ttotal: 16.9s\tremaining: 1.47s\n",
      "46:\tlearn: 0.9725381\ttotal: 17.3s\tremaining: 1.1s\n",
      "47:\tlearn: 0.9722202\ttotal: 17.7s\tremaining: 737ms\n",
      "48:\tlearn: 0.9720173\ttotal: 18.1s\tremaining: 369ms\n",
      "49:\tlearn: 0.9716474\ttotal: 18.4s\tremaining: 0us\n",
      "0:\tlearn: 1.6760168\ttotal: 363ms\tremaining: 17.8s\n",
      "1:\tlearn: 1.3483912\ttotal: 759ms\tremaining: 18.2s\n",
      "2:\tlearn: 1.2613378\ttotal: 1.12s\tremaining: 17.5s\n",
      "3:\tlearn: 1.2059346\ttotal: 1.48s\tremaining: 17s\n",
      "4:\tlearn: 1.1666649\ttotal: 1.83s\tremaining: 16.5s\n",
      "5:\tlearn: 1.1434762\ttotal: 2.19s\tremaining: 16.1s\n",
      "6:\tlearn: 1.1284475\ttotal: 2.56s\tremaining: 15.7s\n",
      "7:\tlearn: 1.1153096\ttotal: 2.92s\tremaining: 15.3s\n",
      "8:\tlearn: 1.0962743\ttotal: 3.29s\tremaining: 15s\n",
      "9:\tlearn: 1.0892957\ttotal: 3.65s\tremaining: 14.6s\n",
      "10:\tlearn: 1.0813636\ttotal: 4.01s\tremaining: 14.2s\n",
      "11:\tlearn: 1.0724935\ttotal: 4.37s\tremaining: 13.9s\n",
      "12:\tlearn: 1.0693973\ttotal: 4.73s\tremaining: 13.5s\n",
      "13:\tlearn: 1.0639293\ttotal: 5.09s\tremaining: 13.1s\n",
      "14:\tlearn: 1.0614742\ttotal: 5.45s\tremaining: 12.7s\n",
      "15:\tlearn: 1.0584038\ttotal: 5.81s\tremaining: 12.3s\n",
      "16:\tlearn: 1.0568774\ttotal: 6.18s\tremaining: 12s\n",
      "17:\tlearn: 1.0559422\ttotal: 6.55s\tremaining: 11.6s\n",
      "18:\tlearn: 1.0543931\ttotal: 6.91s\tremaining: 11.3s\n",
      "19:\tlearn: 1.0533476\ttotal: 7.27s\tremaining: 10.9s\n",
      "20:\tlearn: 1.0520059\ttotal: 7.65s\tremaining: 10.6s\n",
      "21:\tlearn: 1.0516177\ttotal: 8.01s\tremaining: 10.2s\n",
      "22:\tlearn: 1.0514626\ttotal: 8.38s\tremaining: 9.83s\n",
      "23:\tlearn: 1.0504836\ttotal: 8.74s\tremaining: 9.47s\n",
      "24:\tlearn: 1.0498196\ttotal: 9.1s\tremaining: 9.1s\n",
      "25:\tlearn: 1.0494813\ttotal: 9.46s\tremaining: 8.74s\n",
      "26:\tlearn: 1.0488207\ttotal: 9.83s\tremaining: 8.37s\n",
      "27:\tlearn: 1.0487287\ttotal: 10.2s\tremaining: 8.01s\n",
      "28:\tlearn: 1.0478762\ttotal: 10.6s\tremaining: 7.65s\n",
      "29:\tlearn: 1.0469466\ttotal: 10.9s\tremaining: 7.29s\n",
      "30:\tlearn: 1.0466947\ttotal: 11.3s\tremaining: 6.93s\n",
      "31:\tlearn: 1.0461494\ttotal: 11.7s\tremaining: 6.57s\n",
      "32:\tlearn: 1.0456890\ttotal: 12s\tremaining: 6.2s\n",
      "33:\tlearn: 1.0454107\ttotal: 12.4s\tremaining: 5.84s\n",
      "34:\tlearn: 1.0450424\ttotal: 12.8s\tremaining: 5.47s\n",
      "35:\tlearn: 1.0447252\ttotal: 13.1s\tremaining: 5.11s\n",
      "36:\tlearn: 1.0445994\ttotal: 13.5s\tremaining: 4.74s\n",
      "37:\tlearn: 1.0444605\ttotal: 13.9s\tremaining: 4.38s\n",
      "38:\tlearn: 1.0443238\ttotal: 14.2s\tremaining: 4.02s\n",
      "39:\tlearn: 1.0442412\ttotal: 14.6s\tremaining: 3.65s\n",
      "40:\tlearn: 1.0441749\ttotal: 15s\tremaining: 3.28s\n",
      "41:\tlearn: 1.0439320\ttotal: 15.3s\tremaining: 2.92s\n",
      "42:\tlearn: 1.0436870\ttotal: 15.7s\tremaining: 2.56s\n",
      "43:\tlearn: 1.0434690\ttotal: 16.1s\tremaining: 2.19s\n",
      "44:\tlearn: 1.0429271\ttotal: 16.4s\tremaining: 1.82s\n",
      "45:\tlearn: 1.0429039\ttotal: 16.8s\tremaining: 1.46s\n",
      "46:\tlearn: 1.0427496\ttotal: 17.1s\tremaining: 1.09s\n",
      "47:\tlearn: 1.0426657\ttotal: 17.5s\tremaining: 729ms\n",
      "48:\tlearn: 1.0426208\ttotal: 17.9s\tremaining: 365ms\n",
      "49:\tlearn: 1.0424372\ttotal: 18.2s\tremaining: 0us\n",
      "0:\tlearn: 1.6742771\ttotal: 585ms\tremaining: 28.7s\n",
      "1:\tlearn: 1.3594933\ttotal: 1.2s\tremaining: 28.8s\n",
      "2:\tlearn: 1.2768302\ttotal: 1.67s\tremaining: 26.1s\n",
      "3:\tlearn: 1.2206102\ttotal: 2.11s\tremaining: 24.3s\n",
      "4:\tlearn: 1.1879430\ttotal: 2.58s\tremaining: 23.2s\n",
      "5:\tlearn: 1.1616243\ttotal: 3.08s\tremaining: 22.6s\n",
      "6:\tlearn: 1.1468793\ttotal: 3.5s\tremaining: 21.5s\n",
      "7:\tlearn: 1.1308334\ttotal: 3.96s\tremaining: 20.8s\n",
      "8:\tlearn: 1.1226217\ttotal: 4.45s\tremaining: 20.3s\n",
      "9:\tlearn: 1.1134805\ttotal: 4.9s\tremaining: 19.6s\n",
      "10:\tlearn: 1.1072080\ttotal: 5.34s\tremaining: 18.9s\n",
      "11:\tlearn: 1.1039743\ttotal: 5.89s\tremaining: 18.7s\n",
      "12:\tlearn: 1.1016956\ttotal: 6.39s\tremaining: 18.2s\n",
      "13:\tlearn: 1.0995717\ttotal: 6.89s\tremaining: 17.7s\n",
      "14:\tlearn: 1.0974811\ttotal: 7.33s\tremaining: 17.1s\n",
      "15:\tlearn: 1.0963639\ttotal: 7.78s\tremaining: 16.5s\n",
      "16:\tlearn: 1.0951218\ttotal: 8.23s\tremaining: 16s\n",
      "17:\tlearn: 1.0901017\ttotal: 8.68s\tremaining: 15.4s\n",
      "18:\tlearn: 1.0892016\ttotal: 9.13s\tremaining: 14.9s\n",
      "19:\tlearn: 1.0865029\ttotal: 9.56s\tremaining: 14.3s\n",
      "20:\tlearn: 1.0849534\ttotal: 10s\tremaining: 13.8s\n",
      "21:\tlearn: 1.0834845\ttotal: 10.4s\tremaining: 13.3s\n",
      "22:\tlearn: 1.0833356\ttotal: 10.8s\tremaining: 12.7s\n",
      "23:\tlearn: 1.0826766\ttotal: 11.3s\tremaining: 12.2s\n",
      "24:\tlearn: 1.0820008\ttotal: 11.8s\tremaining: 11.8s\n",
      "25:\tlearn: 1.0813717\ttotal: 12.2s\tremaining: 11.2s\n",
      "26:\tlearn: 1.0808150\ttotal: 12.6s\tremaining: 10.8s\n",
      "27:\tlearn: 1.0805265\ttotal: 13.1s\tremaining: 10.3s\n",
      "28:\tlearn: 1.0798312\ttotal: 13.5s\tremaining: 9.75s\n",
      "29:\tlearn: 1.0794792\ttotal: 13.9s\tremaining: 9.28s\n",
      "30:\tlearn: 1.0793860\ttotal: 14.3s\tremaining: 8.79s\n",
      "31:\tlearn: 1.0790285\ttotal: 14.8s\tremaining: 8.31s\n",
      "32:\tlearn: 1.0784845\ttotal: 15.2s\tremaining: 7.83s\n",
      "33:\tlearn: 1.0782205\ttotal: 15.6s\tremaining: 7.34s\n",
      "34:\tlearn: 1.0778876\ttotal: 16.1s\tremaining: 6.88s\n",
      "35:\tlearn: 1.0777028\ttotal: 16.5s\tremaining: 6.41s\n",
      "36:\tlearn: 1.0776044\ttotal: 16.9s\tremaining: 5.94s\n",
      "37:\tlearn: 1.0772118\ttotal: 17.4s\tremaining: 5.48s\n",
      "38:\tlearn: 1.0768976\ttotal: 17.8s\tremaining: 5.02s\n",
      "39:\tlearn: 1.0768636\ttotal: 18.3s\tremaining: 4.56s\n",
      "40:\tlearn: 1.0767387\ttotal: 18.7s\tremaining: 4.09s\n",
      "41:\tlearn: 1.0765812\ttotal: 19.1s\tremaining: 3.64s\n",
      "42:\tlearn: 1.0764421\ttotal: 19.5s\tremaining: 3.18s\n",
      "43:\tlearn: 1.0760447\ttotal: 20s\tremaining: 2.72s\n",
      "44:\tlearn: 1.0756759\ttotal: 20.4s\tremaining: 2.27s\n",
      "45:\tlearn: 1.0753976\ttotal: 20.9s\tremaining: 1.81s\n",
      "46:\tlearn: 1.0753820\ttotal: 21.3s\tremaining: 1.36s\n",
      "47:\tlearn: 1.0752319\ttotal: 21.7s\tremaining: 904ms\n",
      "48:\tlearn: 1.0750662\ttotal: 22.1s\tremaining: 452ms\n",
      "49:\tlearn: 1.0748841\ttotal: 22.6s\tremaining: 0us\n",
      "0:\tlearn: 1.6380304\ttotal: 192ms\tremaining: 9.39s\n",
      "1:\tlearn: 1.5189105\ttotal: 391ms\tremaining: 9.38s\n",
      "2:\tlearn: 1.4421070\ttotal: 597ms\tremaining: 9.35s\n",
      "3:\tlearn: 1.3981213\ttotal: 793ms\tremaining: 9.12s\n",
      "4:\tlearn: 1.3710698\ttotal: 988ms\tremaining: 8.89s\n",
      "5:\tlearn: 1.3499671\ttotal: 1.19s\tremaining: 8.7s\n",
      "6:\tlearn: 1.3343239\ttotal: 1.39s\tremaining: 8.51s\n",
      "7:\tlearn: 1.3250373\ttotal: 1.57s\tremaining: 8.26s\n",
      "8:\tlearn: 1.3190973\ttotal: 1.76s\tremaining: 8.03s\n",
      "9:\tlearn: 1.3143707\ttotal: 1.95s\tremaining: 7.8s\n",
      "10:\tlearn: 1.3101530\ttotal: 2.15s\tremaining: 7.64s\n",
      "11:\tlearn: 1.3070697\ttotal: 2.34s\tremaining: 7.42s\n",
      "12:\tlearn: 1.3056051\ttotal: 2.54s\tremaining: 7.22s\n",
      "13:\tlearn: 1.3028726\ttotal: 2.73s\tremaining: 7.03s\n",
      "14:\tlearn: 1.3011958\ttotal: 2.95s\tremaining: 6.88s\n",
      "15:\tlearn: 1.2986130\ttotal: 3.14s\tremaining: 6.67s\n",
      "16:\tlearn: 1.2974592\ttotal: 3.34s\tremaining: 6.48s\n",
      "17:\tlearn: 1.2969928\ttotal: 3.52s\tremaining: 6.26s\n",
      "18:\tlearn: 1.2966845\ttotal: 3.71s\tremaining: 6.05s\n",
      "19:\tlearn: 1.2956513\ttotal: 3.9s\tremaining: 5.84s\n",
      "20:\tlearn: 1.2953590\ttotal: 4.09s\tremaining: 5.65s\n",
      "21:\tlearn: 1.2949521\ttotal: 4.28s\tremaining: 5.45s\n",
      "22:\tlearn: 1.2939594\ttotal: 4.47s\tremaining: 5.25s\n",
      "23:\tlearn: 1.2938053\ttotal: 4.65s\tremaining: 5.04s\n",
      "24:\tlearn: 1.2936756\ttotal: 4.84s\tremaining: 4.84s\n",
      "25:\tlearn: 1.2930065\ttotal: 5.04s\tremaining: 4.66s\n",
      "26:\tlearn: 1.2928687\ttotal: 5.25s\tremaining: 4.47s\n",
      "27:\tlearn: 1.2926356\ttotal: 5.43s\tremaining: 4.27s\n",
      "28:\tlearn: 1.2921255\ttotal: 5.63s\tremaining: 4.08s\n",
      "29:\tlearn: 1.2911521\ttotal: 5.82s\tremaining: 3.88s\n",
      "30:\tlearn: 1.2906916\ttotal: 6.03s\tremaining: 3.69s\n",
      "31:\tlearn: 1.2903372\ttotal: 6.22s\tremaining: 3.5s\n",
      "32:\tlearn: 1.2902016\ttotal: 6.42s\tremaining: 3.31s\n",
      "33:\tlearn: 1.2901444\ttotal: 6.61s\tremaining: 3.11s\n",
      "34:\tlearn: 1.2896273\ttotal: 6.81s\tremaining: 2.92s\n",
      "35:\tlearn: 1.2891547\ttotal: 6.99s\tremaining: 2.72s\n",
      "36:\tlearn: 1.2888746\ttotal: 7.18s\tremaining: 2.52s\n",
      "37:\tlearn: 1.2888646\ttotal: 7.36s\tremaining: 2.32s\n",
      "38:\tlearn: 1.2887549\ttotal: 7.55s\tremaining: 2.13s\n",
      "39:\tlearn: 1.2876796\ttotal: 7.75s\tremaining: 1.94s\n",
      "40:\tlearn: 1.2873263\ttotal: 7.96s\tremaining: 1.75s\n",
      "41:\tlearn: 1.2872789\ttotal: 8.14s\tremaining: 1.55s\n",
      "42:\tlearn: 1.2871484\ttotal: 8.33s\tremaining: 1.36s\n",
      "43:\tlearn: 1.2865933\ttotal: 8.54s\tremaining: 1.17s\n",
      "44:\tlearn: 1.2865556\ttotal: 8.74s\tremaining: 971ms\n",
      "45:\tlearn: 1.2862516\ttotal: 8.96s\tremaining: 779ms\n",
      "46:\tlearn: 1.2859987\ttotal: 9.17s\tremaining: 585ms\n",
      "47:\tlearn: 1.2857938\ttotal: 9.38s\tremaining: 391ms\n",
      "48:\tlearn: 1.2856540\ttotal: 9.58s\tremaining: 196ms\n",
      "49:\tlearn: 1.2855602\ttotal: 9.78s\tremaining: 0us\n"
     ]
    }
   ],
   "source": [
    "for n_m in range(n_models):\n",
    "    x_train, y_train,x_test,cat_f = d_model[n_m]\n",
    "    cb = CatBoostClassifier(random_state= 42,\n",
    "                                 cat_features=cat_f,\n",
    "                                 iterations=50, \n",
    "                                 thread_count=8,\n",
    "                                 learning_rate=0.3,\n",
    "                                 depth=2,\n",
    "                                 custom_metric=['AUC:hints=skip_train~false'])\n",
    "    xfit, x_val, yfit, y_val = train_test_split(x_train, y_train,\n",
    "                                                  test_size=0.2,\n",
    "                                                  random_state=42)\n",
    "    cb.fit(xfit,yfit)\n",
    "    \n",
    "\n",
    "    yp_proba = cb.predict_proba(x_train)\n",
    "    y_pred =  yp_proba / yp_proba.sum(axis=1, keepdims=True)\n",
    "    max_column_indices = np.argmax(y_pred, axis=1)\n",
    "    max_column_names = [cb.classes_[idx] for idx in max_column_indices]\n",
    "    \n",
    "    train_pred_proba_df = pd.DataFrame(max_column_names, columns=['Answer_'])\n",
    "    train_df = train_df.join(train_pred_proba_df,how='left',rsuffix=f'{n_m}_mod')\n",
    "    \n",
    "    yp_proba = cb.predict_proba(x_test)\n",
    "    y_pred =  yp_proba / yp_proba.sum(axis=1, keepdims=True)\n",
    "    max_column_indices = np.argmax(y_pred, axis=1)\n",
    "    max_column_names = [cb.classes_[idx] for idx in max_column_indices]\n",
    "    \n",
    "    test_pred_proba_df = pd.DataFrame(max_column_names, columns=['Answer_'])\n",
    "    test_df = test_df.join(test_pred_proba_df,how='left',rsuffix=f'{n_m}_mod')\n"
   ],
   "metadata": {
    "collapsed": false,
    "ExecuteTime": {
     "end_time": "2024-03-13T19:51:42.765562800Z",
     "start_time": "2024-03-13T19:46:24.308121700Z"
    }
   },
   "id": "d41895ae08d1f19d",
   "execution_count": 92
  },
  {
   "cell_type": "code",
   "outputs": [],
   "source": [
    "X = train_df.drop(['end_cluster_x'],axis=1)\n",
    "y = train_df[\"end_cluster_x\"]\n",
    "cat_cols = X.select_dtypes(exclude=['number']).columns.to_list()\n",
    "cat_f = [X.columns.get_loc(column_name) for column_name in cat_cols if column_name in X.columns.tolist()]\n",
    "x_train, x_val, y_train, y_val = train_test_split(X, y,\n",
    "                                                  test_size=0.3,\n",
    "                                                  random_state=42)"
   ],
   "metadata": {
    "collapsed": false,
    "ExecuteTime": {
     "end_time": "2024-03-13T19:53:28.172545100Z",
     "start_time": "2024-03-13T19:53:27.747616300Z"
    }
   },
   "id": "fe94004f4359fafb",
   "execution_count": 93
  },
  {
   "cell_type": "code",
   "outputs": [
    {
     "data": {
      "text/plain": "MetricVisualizer(layout=Layout(align_self='stretch', height='500px'))",
      "application/vnd.jupyter.widget-view+json": {
       "version_major": 2,
       "version_minor": 0,
       "model_id": "b67f999958da4685b11a10e383a3dc60"
      }
     },
     "metadata": {},
     "output_type": "display_data"
    },
    {
     "name": "stdout",
     "output_type": "stream",
     "text": [
      "0:\tlearn: 1.7797312\ttest: 1.6819629\tbest: 1.6819629 (0)\ttotal: 20.2s\tremaining: 41m 47s\n",
      "25:\tlearn: 0.9370318\ttest: 0.8368584\tbest: 0.8368584 (25)\ttotal: 5m 46s\tremaining: 21m 59s\n",
      "50:\tlearn: 0.9152392\ttest: 0.8196874\tbest: 0.8196874 (50)\ttotal: 10m 53s\tremaining: 15m 47s\n",
      "75:\tlearn: 0.9071763\ttest: 0.8156447\tbest: 0.8156447 (75)\ttotal: 16m 24s\tremaining: 10m 34s\n",
      "100:\tlearn: 0.8997975\ttest: 0.8132868\tbest: 0.8132868 (100)\ttotal: 21m 55s\tremaining: 5m 12s\n",
      "124:\tlearn: 0.8956988\ttest: 0.8124989\tbest: 0.8124989 (124)\ttotal: 27m 14s\tremaining: 0us\n",
      "\n",
      "bestTest = 0.8124988868\n",
      "bestIteration = 124\n"
     ]
    },
    {
     "data": {
      "text/plain": "<catboost.core.CatBoostClassifier at 0x1e1a344c740>"
     },
     "execution_count": 111,
     "metadata": {},
     "output_type": "execute_result"
    }
   ],
   "source": [
    "MetaMind  = CatBoostClassifier(random_state= 42,\n",
    "                                 cat_features = cat_f,\n",
    "                                 iterations=125, \n",
    "                                 thread_count=8,\n",
    "                                 learning_rate=0.15,\n",
    "                                 l2_leaf_reg= 6.769230769230769,\n",
    "                                 min_data_in_leaf=675,\n",
    "                                 max_depth= 8,\n",
    "                                 custom_metric=['AUC:hints=skip_train~false'])\n",
    "MetaMind.fit(x_train,y_train, \n",
    "              eval_set=(x_val, y_val),\n",
    "              plot=True,\n",
    "              verbose=25\n",
    "              )"
   ],
   "metadata": {
    "collapsed": false,
    "ExecuteTime": {
     "end_time": "2024-03-13T20:46:38.235372200Z",
     "start_time": "2024-03-13T20:19:23.812636100Z"
    }
   },
   "id": "ba5eb05de8dc926c",
   "execution_count": 111
  },
  {
   "cell_type": "code",
   "outputs": [],
   "source": [
    "cluster_weights = pd.read_excel(\"cluster_weights.xlsx\").set_index(\"cluster\")\n",
    "weights_dict = cluster_weights[\"unnorm_weight\"].to_dict()"
   ],
   "metadata": {
    "collapsed": false,
    "ExecuteTime": {
     "end_time": "2024-03-13T20:50:20.481873600Z",
     "start_time": "2024-03-13T20:50:20.459874700Z"
    }
   },
   "id": "1715caeebba1368c",
   "execution_count": 112
  },
  {
   "cell_type": "code",
   "outputs": [
    {
     "data": {
      "text/plain": "0.8988554714941756"
     },
     "execution_count": 113,
     "metadata": {},
     "output_type": "execute_result"
    }
   ],
   "source": [
    "yp_proba = MetaMind.predict_proba(x_val)\n",
    "y_pred_normalized = yp_proba / yp_proba.sum(axis=1, keepdims=True)\n",
    "weighted_roc_auc(y_val, y_pred_normalized, MetaMind.classes_, weights_dict)"
   ],
   "metadata": {
    "collapsed": false,
    "ExecuteTime": {
     "end_time": "2024-03-13T20:50:27.641927500Z",
     "start_time": "2024-03-13T20:50:22.177569800Z"
    }
   },
   "id": "3d180922f5c79720",
   "execution_count": 113
  },
  {
   "cell_type": "code",
   "outputs": [],
   "source": [
    "sample_submission_df = pd.read_csv(\"sample_submission.csv\")"
   ],
   "metadata": {
    "collapsed": false,
    "ExecuteTime": {
     "end_time": "2024-03-13T20:10:24.746488600Z",
     "start_time": "2024-03-13T20:10:24.581381Z"
    }
   },
   "id": "341149657675b190",
   "execution_count": 97
  },
  {
   "cell_type": "code",
   "outputs": [],
   "source": [
    "test_pred_proba = MetaMind.predict_proba(test_df)\n",
    "test_pred_proba = test_pred_proba / test_pred_proba.sum(axis=1, keepdims=True)\n",
    "test_pred_proba_df = pd.DataFrame(test_pred_proba, columns=MetaMind.classes_)\n",
    "sorted_classes = sorted(test_pred_proba_df.columns.to_list())\n",
    "test_pred_proba_df = test_pred_proba_df[sorted_classes]"
   ],
   "metadata": {
    "collapsed": false,
    "ExecuteTime": {
     "end_time": "2024-03-13T20:10:35.434363500Z",
     "start_time": "2024-03-13T20:10:34.121389700Z"
    }
   },
   "id": "6b9e05ea48cfdefb",
   "execution_count": 99
  },
  {
   "cell_type": "code",
   "outputs": [
    {
     "data": {
      "text/plain": "(100000, 17)"
     },
     "execution_count": 100,
     "metadata": {},
     "output_type": "execute_result"
    }
   ],
   "source": [
    "test_pred_proba_df.shape"
   ],
   "metadata": {
    "collapsed": false,
    "ExecuteTime": {
     "end_time": "2024-03-13T20:10:38.954871500Z",
     "start_time": "2024-03-13T20:10:38.937331600Z"
    }
   },
   "id": "9416ca3b87db0073",
   "execution_count": 100
  },
  {
   "cell_type": "code",
   "outputs": [
    {
     "data": {
      "text/plain": "     {other}        {}    {α, β}    {α, γ}    {α, δ}  {α, ε, η}  {α, ε, θ}  \\\n0   0.008555  0.057142  0.008965  0.015077  0.006017   0.000577   0.001355   \n1   0.038277  0.453397  0.012124  0.016726  0.007589   0.003383   0.003876   \n2   0.690063  0.009170  0.008866  0.072778  0.008021   0.010711   0.007523   \n3   0.038277  0.453397  0.012124  0.016726  0.007589   0.003383   0.003876   \n4   0.036779  0.116260  0.015664  0.037397  0.009710   0.002159   0.002380   \n..       ...       ...       ...       ...       ...        ...        ...   \n95  0.289381  0.149092  0.004138  0.005483  0.003660   0.010941   0.004597   \n96  0.038277  0.453397  0.012124  0.016726  0.007589   0.003383   0.003876   \n97  0.038277  0.453397  0.012124  0.016726  0.007589   0.003383   0.003876   \n98  0.014112  0.072318  0.013725  0.019936  0.006934   0.000461   0.000604   \n99  0.661974  0.011586  0.009433  0.128710  0.006837   0.004711   0.002962   \n\n    {α, ε, ψ}    {α, ε}    {α, η}    {α, θ}    {α, λ}    {α, μ}    {α, π}  \\\n0    0.000398  0.005865  0.006609  0.008883  0.001053  0.002327  0.000292   \n1    0.002349  0.009495  0.022345  0.011489  0.003356  0.007578  0.001988   \n2    0.005955  0.016627  0.044562  0.015932  0.006166  0.007366  0.002605   \n3    0.002349  0.009495  0.022345  0.011489  0.003356  0.007578  0.001988   \n4    0.001136  0.009622  0.034866  0.008337  0.002224  0.008146  0.000957   \n..        ...       ...       ...       ...       ...       ...       ...   \n95   0.002791  0.010324  0.136318  0.010108  0.002523  0.004431  0.002314   \n96   0.002349  0.009495  0.022345  0.011489  0.003356  0.007578  0.001988   \n97   0.002349  0.009495  0.022345  0.011489  0.003356  0.007578  0.001988   \n98   0.000271  0.006080  0.009584  0.004578  0.000952  0.002903  0.000182   \n99   0.002120  0.013478  0.041059  0.014187  0.001795  0.003830  0.000670   \n\n      {α, ψ}       {α}       {λ}  \n0   0.001802  0.874715  0.000370  \n1   0.006715  0.396826  0.002486  \n2   0.023226  0.067663  0.002766  \n3   0.006715  0.396826  0.002486  \n4   0.004110  0.709159  0.001093  \n..       ...       ...       ...  \n95  0.003505  0.358048  0.002347  \n96  0.006715  0.396826  0.002486  \n97  0.006715  0.396826  0.002486  \n98  0.001485  0.845620  0.000255  \n99  0.009093  0.086692  0.000862  \n\n[100 rows x 17 columns]",
      "text/html": "<div>\n<style scoped>\n    .dataframe tbody tr th:only-of-type {\n        vertical-align: middle;\n    }\n\n    .dataframe tbody tr th {\n        vertical-align: top;\n    }\n\n    .dataframe thead th {\n        text-align: right;\n    }\n</style>\n<table border=\"1\" class=\"dataframe\">\n  <thead>\n    <tr style=\"text-align: right;\">\n      <th></th>\n      <th>{other}</th>\n      <th>{}</th>\n      <th>{α, β}</th>\n      <th>{α, γ}</th>\n      <th>{α, δ}</th>\n      <th>{α, ε, η}</th>\n      <th>{α, ε, θ}</th>\n      <th>{α, ε, ψ}</th>\n      <th>{α, ε}</th>\n      <th>{α, η}</th>\n      <th>{α, θ}</th>\n      <th>{α, λ}</th>\n      <th>{α, μ}</th>\n      <th>{α, π}</th>\n      <th>{α, ψ}</th>\n      <th>{α}</th>\n      <th>{λ}</th>\n    </tr>\n  </thead>\n  <tbody>\n    <tr>\n      <th>0</th>\n      <td>0.008555</td>\n      <td>0.057142</td>\n      <td>0.008965</td>\n      <td>0.015077</td>\n      <td>0.006017</td>\n      <td>0.000577</td>\n      <td>0.001355</td>\n      <td>0.000398</td>\n      <td>0.005865</td>\n      <td>0.006609</td>\n      <td>0.008883</td>\n      <td>0.001053</td>\n      <td>0.002327</td>\n      <td>0.000292</td>\n      <td>0.001802</td>\n      <td>0.874715</td>\n      <td>0.000370</td>\n    </tr>\n    <tr>\n      <th>1</th>\n      <td>0.038277</td>\n      <td>0.453397</td>\n      <td>0.012124</td>\n      <td>0.016726</td>\n      <td>0.007589</td>\n      <td>0.003383</td>\n      <td>0.003876</td>\n      <td>0.002349</td>\n      <td>0.009495</td>\n      <td>0.022345</td>\n      <td>0.011489</td>\n      <td>0.003356</td>\n      <td>0.007578</td>\n      <td>0.001988</td>\n      <td>0.006715</td>\n      <td>0.396826</td>\n      <td>0.002486</td>\n    </tr>\n    <tr>\n      <th>2</th>\n      <td>0.690063</td>\n      <td>0.009170</td>\n      <td>0.008866</td>\n      <td>0.072778</td>\n      <td>0.008021</td>\n      <td>0.010711</td>\n      <td>0.007523</td>\n      <td>0.005955</td>\n      <td>0.016627</td>\n      <td>0.044562</td>\n      <td>0.015932</td>\n      <td>0.006166</td>\n      <td>0.007366</td>\n      <td>0.002605</td>\n      <td>0.023226</td>\n      <td>0.067663</td>\n      <td>0.002766</td>\n    </tr>\n    <tr>\n      <th>3</th>\n      <td>0.038277</td>\n      <td>0.453397</td>\n      <td>0.012124</td>\n      <td>0.016726</td>\n      <td>0.007589</td>\n      <td>0.003383</td>\n      <td>0.003876</td>\n      <td>0.002349</td>\n      <td>0.009495</td>\n      <td>0.022345</td>\n      <td>0.011489</td>\n      <td>0.003356</td>\n      <td>0.007578</td>\n      <td>0.001988</td>\n      <td>0.006715</td>\n      <td>0.396826</td>\n      <td>0.002486</td>\n    </tr>\n    <tr>\n      <th>4</th>\n      <td>0.036779</td>\n      <td>0.116260</td>\n      <td>0.015664</td>\n      <td>0.037397</td>\n      <td>0.009710</td>\n      <td>0.002159</td>\n      <td>0.002380</td>\n      <td>0.001136</td>\n      <td>0.009622</td>\n      <td>0.034866</td>\n      <td>0.008337</td>\n      <td>0.002224</td>\n      <td>0.008146</td>\n      <td>0.000957</td>\n      <td>0.004110</td>\n      <td>0.709159</td>\n      <td>0.001093</td>\n    </tr>\n    <tr>\n      <th>...</th>\n      <td>...</td>\n      <td>...</td>\n      <td>...</td>\n      <td>...</td>\n      <td>...</td>\n      <td>...</td>\n      <td>...</td>\n      <td>...</td>\n      <td>...</td>\n      <td>...</td>\n      <td>...</td>\n      <td>...</td>\n      <td>...</td>\n      <td>...</td>\n      <td>...</td>\n      <td>...</td>\n      <td>...</td>\n    </tr>\n    <tr>\n      <th>95</th>\n      <td>0.289381</td>\n      <td>0.149092</td>\n      <td>0.004138</td>\n      <td>0.005483</td>\n      <td>0.003660</td>\n      <td>0.010941</td>\n      <td>0.004597</td>\n      <td>0.002791</td>\n      <td>0.010324</td>\n      <td>0.136318</td>\n      <td>0.010108</td>\n      <td>0.002523</td>\n      <td>0.004431</td>\n      <td>0.002314</td>\n      <td>0.003505</td>\n      <td>0.358048</td>\n      <td>0.002347</td>\n    </tr>\n    <tr>\n      <th>96</th>\n      <td>0.038277</td>\n      <td>0.453397</td>\n      <td>0.012124</td>\n      <td>0.016726</td>\n      <td>0.007589</td>\n      <td>0.003383</td>\n      <td>0.003876</td>\n      <td>0.002349</td>\n      <td>0.009495</td>\n      <td>0.022345</td>\n      <td>0.011489</td>\n      <td>0.003356</td>\n      <td>0.007578</td>\n      <td>0.001988</td>\n      <td>0.006715</td>\n      <td>0.396826</td>\n      <td>0.002486</td>\n    </tr>\n    <tr>\n      <th>97</th>\n      <td>0.038277</td>\n      <td>0.453397</td>\n      <td>0.012124</td>\n      <td>0.016726</td>\n      <td>0.007589</td>\n      <td>0.003383</td>\n      <td>0.003876</td>\n      <td>0.002349</td>\n      <td>0.009495</td>\n      <td>0.022345</td>\n      <td>0.011489</td>\n      <td>0.003356</td>\n      <td>0.007578</td>\n      <td>0.001988</td>\n      <td>0.006715</td>\n      <td>0.396826</td>\n      <td>0.002486</td>\n    </tr>\n    <tr>\n      <th>98</th>\n      <td>0.014112</td>\n      <td>0.072318</td>\n      <td>0.013725</td>\n      <td>0.019936</td>\n      <td>0.006934</td>\n      <td>0.000461</td>\n      <td>0.000604</td>\n      <td>0.000271</td>\n      <td>0.006080</td>\n      <td>0.009584</td>\n      <td>0.004578</td>\n      <td>0.000952</td>\n      <td>0.002903</td>\n      <td>0.000182</td>\n      <td>0.001485</td>\n      <td>0.845620</td>\n      <td>0.000255</td>\n    </tr>\n    <tr>\n      <th>99</th>\n      <td>0.661974</td>\n      <td>0.011586</td>\n      <td>0.009433</td>\n      <td>0.128710</td>\n      <td>0.006837</td>\n      <td>0.004711</td>\n      <td>0.002962</td>\n      <td>0.002120</td>\n      <td>0.013478</td>\n      <td>0.041059</td>\n      <td>0.014187</td>\n      <td>0.001795</td>\n      <td>0.003830</td>\n      <td>0.000670</td>\n      <td>0.009093</td>\n      <td>0.086692</td>\n      <td>0.000862</td>\n    </tr>\n  </tbody>\n</table>\n<p>100 rows × 17 columns</p>\n</div>"
     },
     "execution_count": 101,
     "metadata": {},
     "output_type": "execute_result"
    }
   ],
   "source": [
    "test_pred_proba_df.head(100)"
   ],
   "metadata": {
    "collapsed": false,
    "ExecuteTime": {
     "end_time": "2024-03-13T20:10:40.519899700Z",
     "start_time": "2024-03-13T20:10:40.454247700Z"
    }
   },
   "id": "1cb2a26d1b8e55e3",
   "execution_count": 101
  },
  {
   "cell_type": "code",
   "outputs": [],
   "source": [
    "def recalibrate_probabilities(df, weights):\n",
    "    new_df = df.copy()\n",
    "    for col in df.columns:\n",
    "        if col in weights:\n",
    "            new_df[col] = df[col] * weights[col]\n",
    "  \n",
    "    row_sums = new_df.sum(axis=1)\n",
    "    new_df = new_df.div(row_sums, axis=0)\n",
    "    return new_df\n",
    "weights = {k: v for k, v in sorted(weights_dict.items(), key=lambda item: item[0])}\n",
    "sample_submission_df[sorted_classes] = recalibrate_probabilities(test_pred_proba_df, weights)\n",
    "sample_submission_df.to_csv(\"f1_submission.csv\", index=False)"
   ],
   "metadata": {
    "collapsed": false,
    "ExecuteTime": {
     "end_time": "2024-03-13T20:11:07.782866600Z",
     "start_time": "2024-03-13T20:11:04.435537900Z"
    }
   },
   "id": "77754a9e5e1b2bb",
   "execution_count": 106
  },
  {
   "cell_type": "code",
   "outputs": [],
   "source": [
    "feat = MetaMind.get_feature_importance(prettified=True)\n"
   ],
   "metadata": {
    "collapsed": false,
    "ExecuteTime": {
     "end_time": "2024-03-13T20:11:07.784864400Z",
     "start_time": "2024-03-13T20:11:07.720185600Z"
    }
   },
   "id": "34a7ad1d76284024",
   "execution_count": 107
  },
  {
   "cell_type": "code",
   "outputs": [
    {
     "data": {
      "text/plain": "                 Feature Id  Importances\n0             Answer_11_mod    32.840289\n1           start_cluster_x    13.775087\n2              Answer_9_mod    10.382218\n3             Answer_12_mod     5.287236\n4             start_cluster     4.632949\n..                      ...          ...\n70          cnt_c_oper_3m_y     0.000000\n71            cnt_c_oper_1m     0.000000\n72       cnt_cred_g_oper_1m     0.000000\n73  cnt_days_cred_g_oper_1m     0.000000\n74     cnt_cred_g_oper_3m_y     0.000000\n\n[75 rows x 2 columns]",
      "text/html": "<div>\n<style scoped>\n    .dataframe tbody tr th:only-of-type {\n        vertical-align: middle;\n    }\n\n    .dataframe tbody tr th {\n        vertical-align: top;\n    }\n\n    .dataframe thead th {\n        text-align: right;\n    }\n</style>\n<table border=\"1\" class=\"dataframe\">\n  <thead>\n    <tr style=\"text-align: right;\">\n      <th></th>\n      <th>Feature Id</th>\n      <th>Importances</th>\n    </tr>\n  </thead>\n  <tbody>\n    <tr>\n      <th>0</th>\n      <td>Answer_11_mod</td>\n      <td>32.840289</td>\n    </tr>\n    <tr>\n      <th>1</th>\n      <td>start_cluster_x</td>\n      <td>13.775087</td>\n    </tr>\n    <tr>\n      <th>2</th>\n      <td>Answer_9_mod</td>\n      <td>10.382218</td>\n    </tr>\n    <tr>\n      <th>3</th>\n      <td>Answer_12_mod</td>\n      <td>5.287236</td>\n    </tr>\n    <tr>\n      <th>4</th>\n      <td>start_cluster</td>\n      <td>4.632949</td>\n    </tr>\n    <tr>\n      <th>...</th>\n      <td>...</td>\n      <td>...</td>\n    </tr>\n    <tr>\n      <th>70</th>\n      <td>cnt_c_oper_3m_y</td>\n      <td>0.000000</td>\n    </tr>\n    <tr>\n      <th>71</th>\n      <td>cnt_c_oper_1m</td>\n      <td>0.000000</td>\n    </tr>\n    <tr>\n      <th>72</th>\n      <td>cnt_cred_g_oper_1m</td>\n      <td>0.000000</td>\n    </tr>\n    <tr>\n      <th>73</th>\n      <td>cnt_days_cred_g_oper_1m</td>\n      <td>0.000000</td>\n    </tr>\n    <tr>\n      <th>74</th>\n      <td>cnt_cred_g_oper_3m_y</td>\n      <td>0.000000</td>\n    </tr>\n  </tbody>\n</table>\n<p>75 rows × 2 columns</p>\n</div>"
     },
     "execution_count": 108,
     "metadata": {},
     "output_type": "execute_result"
    }
   ],
   "source": [
    "feat"
   ],
   "metadata": {
    "collapsed": false,
    "ExecuteTime": {
     "end_time": "2024-03-13T20:11:07.792866700Z",
     "start_time": "2024-03-13T20:11:07.748768300Z"
    }
   },
   "id": "a9a5af3505c61262",
   "execution_count": 108
  },
  {
   "cell_type": "code",
   "outputs": [],
   "source": [],
   "metadata": {
    "collapsed": false,
    "ExecuteTime": {
     "start_time": "2024-03-13T16:26:09.286565800Z"
    }
   },
   "id": "8204b6793554f86c"
  }
 ],
 "metadata": {
  "kernelspec": {
   "display_name": "Python 3",
   "language": "python",
   "name": "python3"
  },
  "language_info": {
   "codemirror_mode": {
    "name": "ipython",
    "version": 2
   },
   "file_extension": ".py",
   "mimetype": "text/x-python",
   "name": "python",
   "nbconvert_exporter": "python",
   "pygments_lexer": "ipython2",
   "version": "2.7.6"
  }
 },
 "nbformat": 4,
 "nbformat_minor": 5
}
